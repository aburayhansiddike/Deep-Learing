{
  "cells": [
    {
      "cell_type": "code",
      "execution_count": 100,
      "metadata": {
        "id": "pvpOuyLpJMl3"
      },
      "outputs": [],
      "source": [
        "import numpy as np\n",
        "import matplotlib.pyplot as plt\n",
        "import tensorflow as tf\n",
        "from tensorflow import keras\n",
        "from keras.layers import Input, Flatten, Dense, GlobalMaxPooling2D\n",
        "from keras.models import Model\n",
        "from keras.utils import to_categorical"
      ]
    },
    {
      "cell_type": "markdown",
      "metadata": {
        "id": "4l7LJalszeuj"
      },
      "source": [
        "### Data pre-processing"
      ]
    },
    {
      "cell_type": "code",
      "execution_count": 101,
      "metadata": {
        "id": "W33HldufKDvG"
      },
      "outputs": [],
      "source": [
        "(X_train, y_train), (X_test, y_test) = keras.datasets.cifar100.load_data()"
      ]
    },
    {
      "cell_type": "code",
      "execution_count": 102,
      "metadata": {
        "colab": {
          "base_uri": "https://localhost:8080/"
        },
        "id": "oTrXpf3fKLn_",
        "outputId": "47110e46-6120-4e25-e709-96afd59696d2"
      },
      "outputs": [
        {
          "output_type": "stream",
          "name": "stdout",
          "text": [
            "(50000, 32, 32, 3)\n",
            "(50000, 32, 32, 3)\n",
            "(2000,)\n"
          ]
        }
      ],
      "source": [
        "print(X_train.shape)\n",
        "number_of_sample = 20\n",
        "first_twenty = []\n",
        "for i in range(number_of_sample):\n",
        "  first_twenty.append(i)\n",
        "\n",
        "mask = np.isin(y_train, first_twenty)\n",
        "y_train_all = y_train[mask]\n",
        "X_train_all = X_train[mask.squeeze()]\n",
        "\n",
        "\n",
        "mask = np.isin(y_test, first_twenty)\n",
        "X_test = X_test[mask.squeeze()]\n",
        "y_test = y_test[mask]\n",
        "\n",
        "print(X_train.shape)\n",
        "print(y_test.shape)"
      ]
    },
    {
      "cell_type": "code",
      "execution_count": 103,
      "metadata": {
        "id": "xd7GiXdjqQjz"
      },
      "outputs": [],
      "source": [
        "X_train, y_train = X_train_all[ : int(len(X_train_all) * 0.9)], y_train_all[ : int(len(X_train_all) * 0.9)]\n",
        "X_val, y_val = X_train_all[int(len(X_train_all) * 0.9) : ], y_train_all[int(len(X_train_all) * 0.9) : ]"
      ]
    },
    {
      "cell_type": "code",
      "execution_count": 104,
      "metadata": {
        "colab": {
          "base_uri": "https://localhost:8080/"
        },
        "id": "7_3ySfmJr7H5",
        "outputId": "248c6c29-7325-41b0-a347-5c41f7c68460"
      },
      "outputs": [
        {
          "output_type": "stream",
          "name": "stdout",
          "text": [
            "(9000, 32, 32, 3) (9000,)\n",
            "(2000, 32, 32, 3) (2000,)\n",
            "(1000, 32, 32, 3) (1000,)\n"
          ]
        }
      ],
      "source": [
        "print(X_train.shape, y_train.shape)\n",
        "print(X_test.shape, y_test.shape)\n",
        "print(X_val.shape, y_val.shape)"
      ]
    },
    {
      "cell_type": "markdown",
      "metadata": {
        "id": "SsHAhKLz2sDZ"
      },
      "source": [
        "### Model number1 : RestNet50"
      ]
    },
    {
      "cell_type": "code",
      "execution_count": 105,
      "metadata": {
        "id": "xiRT-dbXJiB5"
      },
      "outputs": [],
      "source": [
        "from keras.applications import ResNet50"
      ]
    },
    {
      "cell_type": "code",
      "execution_count": 106,
      "metadata": {
        "id": "jtzTT0FX2miQ"
      },
      "outputs": [],
      "source": [
        "# def preprocess(images, label):\n",
        "#   images = tf.image.resize(images, [224, 224])\n",
        "#   images = images / 255.0\n",
        "#   return images, label"
      ]
    },
    {
      "cell_type": "code",
      "execution_count": 107,
      "metadata": {
        "id": "9UnA_fABMPXv"
      },
      "outputs": [],
      "source": [
        "# train_dataset = tf.data.Dataset.from_tensor_slices((X_train, y_train))\n",
        "# val_dataset = tf.data.Dataset.from_tensor_slices((X_val, y_val))\n",
        "# test_dataset = tf.data.Dataset.from_tensor_slices((X_test, y_test))\n",
        "\n",
        "# train_dataset = train_dataset.map(preprocess).shuffle(1000).batch(32).prefetch(tf.data.AUTOTUNE)\n",
        "# val_dataset = val_dataset.map(preprocess).batch(32).prefetch(tf.data.AUTOTUNE)\n",
        "# test_dataset = test_dataset.map(preprocess).batch(32).prefetch(tf.data.AUTOTUNE)"
      ]
    },
    {
      "cell_type": "code",
      "execution_count": 108,
      "metadata": {
        "colab": {
          "base_uri": "https://localhost:8080/"
        },
        "id": "1rggLfUULzfM",
        "outputId": "f1e5ecd8-c943-4d18-9f04-3940ffd32373"
      },
      "outputs": [
        {
          "output_type": "stream",
          "name": "stdout",
          "text": [
            "Epoch 1/5\n"
          ]
        },
        {
          "output_type": "stream",
          "name": "stderr",
          "text": [
            "/usr/local/lib/python3.11/dist-packages/keras/src/models/functional.py:237: UserWarning: The structure of `inputs` doesn't match the expected structure.\n",
            "Expected: ['keras_tensor_4344']\n",
            "Received: inputs=Tensor(shape=(None, 32, 32, 3))\n",
            "  warnings.warn(msg)\n"
          ]
        },
        {
          "output_type": "stream",
          "name": "stdout",
          "text": [
            "\u001b[1m282/282\u001b[0m \u001b[32m━━━━━━━━━━━━━━━━━━━━\u001b[0m\u001b[37m\u001b[0m \u001b[1m20s\u001b[0m 38ms/step - accuracy: 0.3591 - loss: 2.5457 - val_accuracy: 0.4690 - val_loss: 1.7299\n",
            "Epoch 2/5\n",
            "\u001b[1m282/282\u001b[0m \u001b[32m━━━━━━━━━━━━━━━━━━━━\u001b[0m\u001b[37m\u001b[0m \u001b[1m2s\u001b[0m 8ms/step - accuracy: 0.6087 - loss: 1.2359 - val_accuracy: 0.4850 - val_loss: 1.6932\n",
            "Epoch 3/5\n",
            "\u001b[1m282/282\u001b[0m \u001b[32m━━━━━━━━━━━━━━━━━━━━\u001b[0m\u001b[37m\u001b[0m \u001b[1m2s\u001b[0m 8ms/step - accuracy: 0.7106 - loss: 0.8989 - val_accuracy: 0.4990 - val_loss: 1.7170\n",
            "Epoch 4/5\n",
            "\u001b[1m282/282\u001b[0m \u001b[32m━━━━━━━━━━━━━━━━━━━━\u001b[0m\u001b[37m\u001b[0m \u001b[1m2s\u001b[0m 9ms/step - accuracy: 0.7986 - loss: 0.6520 - val_accuracy: 0.4910 - val_loss: 1.8568\n",
            "Epoch 5/5\n",
            "\u001b[1m282/282\u001b[0m \u001b[32m━━━━━━━━━━━━━━━━━━━━\u001b[0m\u001b[37m\u001b[0m \u001b[1m3s\u001b[0m 9ms/step - accuracy: 0.8464 - loss: 0.4973 - val_accuracy: 0.5070 - val_loss: 1.9566\n"
          ]
        }
      ],
      "source": [
        "resnet = ResNet50(input_tensor = Input(shape=(32, 32, 3)), weights='imagenet', include_top=False)\n",
        "resnet.trainable = False\n",
        "x = resnet.output\n",
        "x = GlobalMaxPooling2D()(x)\n",
        "x=Dense(256,activation='relu')(x)\n",
        "outputs = Dense(20, activation = 'softmax', name = 'output-layer')(x)\n",
        "model = Model(resnet.input, outputs, name = 'ResNet')\n",
        "model.compile(optimizer=keras.optimizers.Adam(0.001), loss = 'sparse_categorical_crossentropy', metrics = ['accuracy'])\n",
        "history = model.fit(X_train, y_train, epochs=5, validation_data=(X_val, y_val))"
      ]
    },
    {
      "cell_type": "code",
      "source": [
        "import os"
      ],
      "metadata": {
        "id": "0A71uBpTjsgz"
      },
      "execution_count": 109,
      "outputs": []
    },
    {
      "cell_type": "code",
      "source": [
        "\n",
        "model.save(\"resnet50_model.h5\")\n",
        "\n",
        "size_in_bytes = os.path.getsize(\"resnet50_model.h5\")\n",
        "size_in_mb = size_in_bytes / (1024 * 1024)\n",
        "print(f\"ResNet50 model size: {size_in_mb:.2f} MB\")"
      ],
      "metadata": {
        "colab": {
          "base_uri": "https://localhost:8080/"
        },
        "id": "JUeJalcLjutJ",
        "outputId": "b53b7f44-7888-4761-d0e8-f92e71e21778"
      },
      "execution_count": 110,
      "outputs": [
        {
          "output_type": "stream",
          "name": "stderr",
          "text": [
            "WARNING:absl:You are saving your model as an HDF5 file via `model.save()` or `keras.saving.save_model(model)`. This file format is considered legacy. We recommend using instead the native Keras format, e.g. `model.save('my_model.keras')` or `keras.saving.save_model(model, 'my_model.keras')`. \n"
          ]
        },
        {
          "output_type": "stream",
          "name": "stdout",
          "text": [
            "ResNet50 model size: 96.60 MB\n"
          ]
        }
      ]
    },
    {
      "cell_type": "code",
      "execution_count": 111,
      "metadata": {
        "colab": {
          "base_uri": "https://localhost:8080/"
        },
        "id": "NdhUa8gTvLMn",
        "outputId": "ad5dad44-e1a2-4431-aafa-b47deec17ac9"
      },
      "outputs": [
        {
          "output_type": "stream",
          "name": "stdout",
          "text": [
            "\u001b[1m63/63\u001b[0m \u001b[32m━━━━━━━━━━━━━━━━━━━━\u001b[0m\u001b[37m\u001b[0m \u001b[1m2s\u001b[0m 30ms/step - accuracy: 0.5678 - loss: 1.7036\n",
            "Training Loss: 0.5218\n",
            "Training Accuracy: 0.8346\n",
            "Validation Loss: 1.9566\n",
            "Validation Accuracy: 0.5070\n",
            "Test Loss: 1.7244\n",
            "Test Accuracy: 0.5550\n"
          ]
        }
      ],
      "source": [
        "final_epoch = -1  # last epoch\n",
        "\n",
        "train_loss = history.history['loss'][final_epoch]\n",
        "train_accuracy = history.history['accuracy'][final_epoch]\n",
        "val_loss = history.history['val_loss'][final_epoch]\n",
        "val_accuracy = history.history['val_accuracy'][final_epoch]\n",
        "test_loss, test_accuracy = model.evaluate(X_test, y_test)\n",
        "\n",
        "print(f\"Training Loss: {train_loss:.4f}\")\n",
        "print(f\"Training Accuracy: {train_accuracy:.4f}\")\n",
        "print(f\"Validation Loss: {val_loss:.4f}\")\n",
        "print(f\"Validation Accuracy: {val_accuracy:.4f}\")\n",
        "print(f\"Test Loss: {test_loss:.4f}\")\n",
        "print(f\"Test Accuracy: {test_accuracy:.4f}\")"
      ]
    },
    {
      "cell_type": "markdown",
      "metadata": {
        "id": "8a9WaYknxFtm"
      },
      "source": [
        "###2. VGG16"
      ]
    },
    {
      "cell_type": "code",
      "execution_count": 112,
      "metadata": {
        "id": "ai9799yTxFKB"
      },
      "outputs": [],
      "source": [
        "from keras.applications import VGG16"
      ]
    },
    {
      "cell_type": "code",
      "execution_count": 113,
      "metadata": {
        "colab": {
          "base_uri": "https://localhost:8080/"
        },
        "id": "T9i5BOAIxUqy",
        "outputId": "bd103a42-930b-455a-f942-e3d453ea898d"
      },
      "outputs": [
        {
          "output_type": "stream",
          "name": "stdout",
          "text": [
            "Epoch 1/5\n"
          ]
        },
        {
          "output_type": "stream",
          "name": "stderr",
          "text": [
            "/usr/local/lib/python3.11/dist-packages/keras/src/models/functional.py:237: UserWarning: The structure of `inputs` doesn't match the expected structure.\n",
            "Expected: ['keras_tensor_4522']\n",
            "Received: inputs=Tensor(shape=(None, 32, 32, 3))\n",
            "  warnings.warn(msg)\n"
          ]
        },
        {
          "output_type": "stream",
          "name": "stdout",
          "text": [
            "\u001b[1m282/282\u001b[0m \u001b[32m━━━━━━━━━━━━━━━━━━━━\u001b[0m\u001b[37m\u001b[0m \u001b[1m8s\u001b[0m 21ms/step - accuracy: 0.2929 - loss: 10.6267 - val_accuracy: 0.3930 - val_loss: 3.1374\n",
            "Epoch 2/5\n",
            "\u001b[1m282/282\u001b[0m \u001b[32m━━━━━━━━━━━━━━━━━━━━\u001b[0m\u001b[37m\u001b[0m \u001b[1m3s\u001b[0m 9ms/step - accuracy: 0.5247 - loss: 1.9105 - val_accuracy: 0.4270 - val_loss: 2.6420\n",
            "Epoch 3/5\n",
            "\u001b[1m282/282\u001b[0m \u001b[32m━━━━━━━━━━━━━━━━━━━━\u001b[0m\u001b[37m\u001b[0m \u001b[1m3s\u001b[0m 9ms/step - accuracy: 0.6589 - loss: 1.1452 - val_accuracy: 0.4690 - val_loss: 2.6124\n",
            "Epoch 4/5\n",
            "\u001b[1m282/282\u001b[0m \u001b[32m━━━━━━━━━━━━━━━━━━━━\u001b[0m\u001b[37m\u001b[0m \u001b[1m3s\u001b[0m 9ms/step - accuracy: 0.7654 - loss: 0.7680 - val_accuracy: 0.4580 - val_loss: 2.7490\n",
            "Epoch 5/5\n",
            "\u001b[1m282/282\u001b[0m \u001b[32m━━━━━━━━━━━━━━━━━━━━\u001b[0m\u001b[37m\u001b[0m \u001b[1m5s\u001b[0m 9ms/step - accuracy: 0.8201 - loss: 0.5771 - val_accuracy: 0.4730 - val_loss: 2.6973\n"
          ]
        }
      ],
      "source": [
        "vgg16 = VGG16(input_tensor = Input(shape=(32, 32, 3)), weights='imagenet', include_top=False)\n",
        "vgg16.trainable = False\n",
        "x = vgg16.output\n",
        "x = GlobalMaxPooling2D()(x)\n",
        "x=Dense(256,activation='relu')(x)\n",
        "outputs = Dense(20, activation = 'softmax', name = 'output-layer')(x)\n",
        "model = Model(vgg16.input, outputs, name = 'ResNet')\n",
        "model.compile(optimizer=keras.optimizers.Adam(0.001), loss = 'sparse_categorical_crossentropy', metrics = ['accuracy'])\n",
        "history = model.fit(X_train, y_train, epochs=5, validation_data=(X_val, y_val))"
      ]
    },
    {
      "cell_type": "code",
      "execution_count": 114,
      "metadata": {
        "colab": {
          "base_uri": "https://localhost:8080/"
        },
        "id": "aH0Y6jSiQNf7",
        "outputId": "d022bab5-4f66-4791-dc1d-6328f922d000"
      },
      "outputs": [
        {
          "output_type": "stream",
          "name": "stdout",
          "text": [
            "\u001b[1m63/63\u001b[0m \u001b[32m━━━━━━━━━━━━━━━━━━━━\u001b[0m\u001b[37m\u001b[0m \u001b[1m1s\u001b[0m 14ms/step - accuracy: 0.4966 - loss: 2.3978\n",
            "Training Loss: 0.5843\n",
            "Training Accuracy: 0.8157\n",
            "Validation Loss: 2.6973\n",
            "Validation Accuracy: 0.4730\n",
            "Test Loss: 2.3798\n",
            "Test Accuracy: 0.4915\n"
          ]
        }
      ],
      "source": [
        "final_epoch = -1  # last epoch\n",
        "\n",
        "train_loss = history.history['loss'][final_epoch]\n",
        "train_accuracy = history.history['accuracy'][final_epoch]\n",
        "val_loss = history.history['val_loss'][final_epoch]\n",
        "val_accuracy = history.history['val_accuracy'][final_epoch]\n",
        "test_loss, test_accuracy = model.evaluate(X_test, y_test)\n",
        "\n",
        "print(f\"Training Loss: {train_loss:.4f}\")\n",
        "print(f\"Training Accuracy: {train_accuracy:.4f}\")\n",
        "print(f\"Validation Loss: {val_loss:.4f}\")\n",
        "print(f\"Validation Accuracy: {val_accuracy:.4f}\")\n",
        "print(f\"Test Loss: {test_loss:.4f}\")\n",
        "print(f\"Test Accuracy: {test_accuracy:.4f}\")"
      ]
    },
    {
      "cell_type": "code",
      "source": [
        "\n",
        "model.save(\"vgg16.h5\")\n",
        "\n",
        "size_in_bytes = os.path.getsize(\"vgg16.h5\")\n",
        "size_in_mb = size_in_bytes / (1024 * 1024)\n",
        "print(f\"VGG model size: {size_in_mb:.2f} MB\")"
      ],
      "metadata": {
        "colab": {
          "base_uri": "https://localhost:8080/"
        },
        "id": "i4LCBaF4k7uW",
        "outputId": "38869a5c-af14-4837-c99e-9fa6bc67fda9"
      },
      "execution_count": 115,
      "outputs": [
        {
          "output_type": "stream",
          "name": "stderr",
          "text": [
            "WARNING:absl:You are saving your model as an HDF5 file via `model.save()` or `keras.saving.save_model(model)`. This file format is considered legacy. We recommend using instead the native Keras format, e.g. `model.save('my_model.keras')` or `keras.saving.save_model(model, 'my_model.keras')`. \n"
          ]
        },
        {
          "output_type": "stream",
          "name": "stdout",
          "text": [
            "VGG model size: 57.78 MB\n"
          ]
        }
      ]
    },
    {
      "cell_type": "markdown",
      "metadata": {
        "id": "23exiXmvQRBc"
      },
      "source": [
        "###3. VGG19"
      ]
    },
    {
      "cell_type": "code",
      "execution_count": 116,
      "metadata": {
        "id": "q6Kp0oJZQUm3"
      },
      "outputs": [],
      "source": [
        "from keras.applications import VGG19"
      ]
    },
    {
      "cell_type": "code",
      "execution_count": 117,
      "metadata": {
        "colab": {
          "base_uri": "https://localhost:8080/"
        },
        "id": "2GJs6GZLQdUf",
        "outputId": "4452b8c1-28c0-4ca1-afc5-8171c4121826"
      },
      "outputs": [
        {
          "output_type": "stream",
          "name": "stdout",
          "text": [
            "Epoch 1/5\n"
          ]
        },
        {
          "output_type": "stream",
          "name": "stderr",
          "text": [
            "/usr/local/lib/python3.11/dist-packages/keras/src/models/functional.py:237: UserWarning: The structure of `inputs` doesn't match the expected structure.\n",
            "Expected: ['keras_tensor_4544']\n",
            "Received: inputs=Tensor(shape=(None, 32, 32, 3))\n",
            "  warnings.warn(msg)\n"
          ]
        },
        {
          "output_type": "stream",
          "name": "stdout",
          "text": [
            "\u001b[1m282/282\u001b[0m \u001b[32m━━━━━━━━━━━━━━━━━━━━\u001b[0m\u001b[37m\u001b[0m \u001b[1m8s\u001b[0m 23ms/step - accuracy: 0.2893 - loss: 10.9077 - val_accuracy: 0.3820 - val_loss: 3.0657\n",
            "Epoch 2/5\n",
            "\u001b[1m282/282\u001b[0m \u001b[32m━━━━━━━━━━━━━━━━━━━━\u001b[0m\u001b[37m\u001b[0m \u001b[1m3s\u001b[0m 11ms/step - accuracy: 0.4948 - loss: 2.0053 - val_accuracy: 0.4390 - val_loss: 2.5622\n",
            "Epoch 3/5\n",
            "\u001b[1m282/282\u001b[0m \u001b[32m━━━━━━━━━━━━━━━━━━━━\u001b[0m\u001b[37m\u001b[0m \u001b[1m3s\u001b[0m 12ms/step - accuracy: 0.6182 - loss: 1.3006 - val_accuracy: 0.4490 - val_loss: 2.5139\n",
            "Epoch 4/5\n",
            "\u001b[1m282/282\u001b[0m \u001b[32m━━━━━━━━━━━━━━━━━━━━\u001b[0m\u001b[37m\u001b[0m \u001b[1m5s\u001b[0m 12ms/step - accuracy: 0.7140 - loss: 0.9220 - val_accuracy: 0.4600 - val_loss: 2.5771\n",
            "Epoch 5/5\n",
            "\u001b[1m282/282\u001b[0m \u001b[32m━━━━━━━━━━━━━━━━━━━━\u001b[0m\u001b[37m\u001b[0m \u001b[1m3s\u001b[0m 12ms/step - accuracy: 0.7843 - loss: 0.6945 - val_accuracy: 0.4940 - val_loss: 2.5746\n"
          ]
        }
      ],
      "source": [
        "vgg19 = VGG19(input_tensor = Input(shape=(32, 32, 3)), weights='imagenet', include_top=False)\n",
        "vgg19.trainable = False\n",
        "x = vgg19.output\n",
        "x = GlobalMaxPooling2D()(x)\n",
        "x=Dense(256,activation='relu')(x)\n",
        "outputs = Dense(20, activation = 'softmax', name = 'output-layer')(x)\n",
        "model = Model(vgg19.input, outputs, name = 'ResNet')\n",
        "model.compile(optimizer=keras.optimizers.Adam(0.001), loss = 'sparse_categorical_crossentropy', metrics = ['accuracy'])\n",
        "history = model.fit(X_train, y_train, epochs=5, validation_data=(X_val, y_val))"
      ]
    },
    {
      "cell_type": "code",
      "execution_count": 118,
      "metadata": {
        "colab": {
          "base_uri": "https://localhost:8080/"
        },
        "id": "Z6NT-TzhQmWz",
        "outputId": "84d37d83-300b-4856-d85e-c1a71e371d80"
      },
      "outputs": [
        {
          "output_type": "stream",
          "name": "stdout",
          "text": [
            "\u001b[1m63/63\u001b[0m \u001b[32m━━━━━━━━━━━━━━━━━━━━\u001b[0m\u001b[37m\u001b[0m \u001b[1m1s\u001b[0m 16ms/step - accuracy: 0.4593 - loss: 2.3763\n",
            "Training Loss: 0.7511\n",
            "Training Accuracy: 0.7652\n",
            "Validation Loss: 2.5746\n",
            "Validation Accuracy: 0.4940\n",
            "Test Loss: 2.3520\n",
            "Test Accuracy: 0.4735\n"
          ]
        }
      ],
      "source": [
        "final_epoch = -1\n",
        "\n",
        "train_loss = history.history['loss'][final_epoch]\n",
        "train_accuracy = history.history['accuracy'][final_epoch]\n",
        "val_loss = history.history['val_loss'][final_epoch]\n",
        "val_accuracy = history.history['val_accuracy'][final_epoch]\n",
        "test_loss, test_accuracy = model.evaluate(X_test, y_test)\n",
        "\n",
        "print(f\"Training Loss: {train_loss:.4f}\")\n",
        "print(f\"Training Accuracy: {train_accuracy:.4f}\")\n",
        "print(f\"Validation Loss: {val_loss:.4f}\")\n",
        "print(f\"Validation Accuracy: {val_accuracy:.4f}\")\n",
        "print(f\"Test Loss: {test_loss:.4f}\")\n",
        "print(f\"Test Accuracy: {test_accuracy:.4f}\")"
      ]
    },
    {
      "cell_type": "code",
      "source": [
        "\n",
        "model.save(\"vgg19.h5\")\n",
        "\n",
        "size_in_bytes = os.path.getsize(\"vgg19.h5\")\n",
        "size_in_mb = size_in_bytes / (1024 * 1024)\n",
        "print(f\"VGG model size: {size_in_mb:.2f} MB\")"
      ],
      "metadata": {
        "colab": {
          "base_uri": "https://localhost:8080/"
        },
        "id": "Bgmej8v7lYKJ",
        "outputId": "57fb6c1e-acd0-4a5b-f419-1f710c1e03c7"
      },
      "execution_count": 119,
      "outputs": [
        {
          "output_type": "stream",
          "name": "stderr",
          "text": [
            "WARNING:absl:You are saving your model as an HDF5 file via `model.save()` or `keras.saving.save_model(model)`. This file format is considered legacy. We recommend using instead the native Keras format, e.g. `model.save('my_model.keras')` or `keras.saving.save_model(model, 'my_model.keras')`. \n"
          ]
        },
        {
          "output_type": "stream",
          "name": "stdout",
          "text": [
            "VGG model size: 78.05 MB\n"
          ]
        }
      ]
    },
    {
      "cell_type": "markdown",
      "metadata": {
        "id": "C5FY6f-GQvQ_"
      },
      "source": [
        "### 4. DenseNet"
      ]
    },
    {
      "cell_type": "code",
      "execution_count": 120,
      "metadata": {
        "id": "E3NtB96NQuoJ"
      },
      "outputs": [],
      "source": [
        "from keras.applications import DenseNet121"
      ]
    },
    {
      "cell_type": "code",
      "execution_count": 121,
      "metadata": {
        "id": "ZzMiTpHdV3sV",
        "colab": {
          "base_uri": "https://localhost:8080/"
        },
        "outputId": "6559a230-cbeb-4496-b3a1-4cd3ff6e748f"
      },
      "outputs": [
        {
          "output_type": "stream",
          "name": "stdout",
          "text": [
            "Epoch 1/5\n"
          ]
        },
        {
          "output_type": "stream",
          "name": "stderr",
          "text": [
            "/usr/local/lib/python3.11/dist-packages/keras/src/models/functional.py:237: UserWarning: The structure of `inputs` doesn't match the expected structure.\n",
            "Expected: ['keras_tensor_4569']\n",
            "Received: inputs=Tensor(shape=(None, 32, 32, 3))\n",
            "  warnings.warn(msg)\n"
          ]
        },
        {
          "output_type": "stream",
          "name": "stdout",
          "text": [
            "\u001b[1m282/282\u001b[0m \u001b[32m━━━━━━━━━━━━━━━━━━━━\u001b[0m\u001b[37m\u001b[0m \u001b[1m56s\u001b[0m 122ms/step - accuracy: 0.2053 - loss: 5.6879 - val_accuracy: 0.3470 - val_loss: 2.1600\n",
            "Epoch 2/5\n",
            "\u001b[1m282/282\u001b[0m \u001b[32m━━━━━━━━━━━━━━━━━━━━\u001b[0m\u001b[37m\u001b[0m \u001b[1m44s\u001b[0m 14ms/step - accuracy: 0.3934 - loss: 2.0198 - val_accuracy: 0.4100 - val_loss: 1.9658\n",
            "Epoch 3/5\n",
            "\u001b[1m282/282\u001b[0m \u001b[32m━━━━━━━━━━━━━━━━━━━━\u001b[0m\u001b[37m\u001b[0m \u001b[1m4s\u001b[0m 11ms/step - accuracy: 0.4549 - loss: 1.7655 - val_accuracy: 0.3950 - val_loss: 1.9560\n",
            "Epoch 4/5\n",
            "\u001b[1m282/282\u001b[0m \u001b[32m━━━━━━━━━━━━━━━━━━━━\u001b[0m\u001b[37m\u001b[0m \u001b[1m5s\u001b[0m 12ms/step - accuracy: 0.5022 - loss: 1.6047 - val_accuracy: 0.4040 - val_loss: 1.9334\n",
            "Epoch 5/5\n",
            "\u001b[1m282/282\u001b[0m \u001b[32m━━━━━━━━━━━━━━━━━━━━\u001b[0m\u001b[37m\u001b[0m \u001b[1m5s\u001b[0m 13ms/step - accuracy: 0.5222 - loss: 1.5256 - val_accuracy: 0.4470 - val_loss: 1.8317\n"
          ]
        }
      ],
      "source": [
        "densenet = DenseNet121(input_tensor = Input(shape=(32, 32, 3)), weights='imagenet', include_top=False)\n",
        "densenet.trainable = False\n",
        "x = densenet.output\n",
        "x = GlobalMaxPooling2D()(x)\n",
        "x=Dense(256,activation='relu')(x)\n",
        "outputs = Dense(20, activation = 'softmax', name = 'output-layer')(x)\n",
        "model = Model(densenet.input, outputs, name = 'ResNet')\n",
        "model.compile(optimizer=keras.optimizers.Adam(0.001), loss = 'sparse_categorical_crossentropy', metrics = ['accuracy'])\n",
        "history = model.fit(X_train, y_train, epochs=5, validation_data=(X_val, y_val))"
      ]
    },
    {
      "cell_type": "code",
      "execution_count": 122,
      "metadata": {
        "id": "_udViJhFWMC7",
        "colab": {
          "base_uri": "https://localhost:8080/"
        },
        "outputId": "f9644113-18d4-4ae3-a07c-5f10928eaf35"
      },
      "outputs": [
        {
          "output_type": "stream",
          "name": "stdout",
          "text": [
            "\u001b[1m63/63\u001b[0m \u001b[32m━━━━━━━━━━━━━━━━━━━━\u001b[0m\u001b[37m\u001b[0m \u001b[1m5s\u001b[0m 88ms/step - accuracy: 0.4638 - loss: 1.7631\n",
            "Training Loss: 1.5300\n",
            "Training Accuracy: 0.5201\n",
            "Validation Loss: 1.8317\n",
            "Validation Accuracy: 0.4470\n",
            "Test Loss: 1.7528\n",
            "Test Accuracy: 0.4570\n"
          ]
        }
      ],
      "source": [
        "final_epoch = -1\n",
        "\n",
        "train_loss = history.history['loss'][final_epoch]\n",
        "train_accuracy = history.history['accuracy'][final_epoch]\n",
        "val_loss = history.history['val_loss'][final_epoch]\n",
        "val_accuracy = history.history['val_accuracy'][final_epoch]\n",
        "test_loss, test_accuracy = model.evaluate(X_test, y_test)\n",
        "\n",
        "print(f\"Training Loss: {train_loss:.4f}\")\n",
        "print(f\"Training Accuracy: {train_accuracy:.4f}\")\n",
        "print(f\"Validation Loss: {val_loss:.4f}\")\n",
        "print(f\"Validation Accuracy: {val_accuracy:.4f}\")\n",
        "print(f\"Test Loss: {test_loss:.4f}\")\n",
        "print(f\"Test Accuracy: {test_accuracy:.4f}\")"
      ]
    },
    {
      "cell_type": "code",
      "source": [
        "\n",
        "model.save(\"densnet121.h5\")\n",
        "\n",
        "size_in_bytes = os.path.getsize(\"densnet121.h5\")\n",
        "size_in_mb = size_in_bytes / (1024 * 1024)\n",
        "print(f\"VGG model size: {size_in_mb:.2f} MB\")"
      ],
      "metadata": {
        "colab": {
          "base_uri": "https://localhost:8080/"
        },
        "id": "IqTRiEPslfaq",
        "outputId": "18824a5e-5d05-4da9-edcd-c3382cae10dc"
      },
      "execution_count": 123,
      "outputs": [
        {
          "output_type": "stream",
          "name": "stderr",
          "text": [
            "WARNING:absl:You are saving your model as an HDF5 file via `model.save()` or `keras.saving.save_model(model)`. This file format is considered legacy. We recommend using instead the native Keras format, e.g. `model.save('my_model.keras')` or `keras.saving.save_model(model, 'my_model.keras')`. \n"
          ]
        },
        {
          "output_type": "stream",
          "name": "stdout",
          "text": [
            "VGG model size: 31.17 MB\n"
          ]
        }
      ]
    },
    {
      "cell_type": "markdown",
      "metadata": {
        "id": "zv6Vc-QeWSOc"
      },
      "source": [
        "### 5. MobileNet"
      ]
    },
    {
      "cell_type": "code",
      "execution_count": 124,
      "metadata": {
        "id": "Oxq5lQ1CWW0J"
      },
      "outputs": [],
      "source": [
        "from keras.applications import MobileNet"
      ]
    },
    {
      "cell_type": "code",
      "execution_count": 125,
      "metadata": {
        "id": "VHLMeXoEXGj8",
        "colab": {
          "base_uri": "https://localhost:8080/"
        },
        "outputId": "32d8da94-e26e-4c88-e36d-a0b359c207f3"
      },
      "outputs": [
        {
          "output_type": "stream",
          "name": "stderr",
          "text": [
            "<ipython-input-125-b63ec3278128>:1: UserWarning: `input_shape` is undefined or non-square, or `rows` is not in [128, 160, 192, 224]. Weights for input shape (224, 224) will be loaded as the default.\n",
            "  mobilenet = MobileNet(input_tensor = Input(shape=(32, 32, 3)), weights='imagenet', include_top=False)\n"
          ]
        },
        {
          "output_type": "stream",
          "name": "stdout",
          "text": [
            "Epoch 1/5\n"
          ]
        },
        {
          "output_type": "stream",
          "name": "stderr",
          "text": [
            "/usr/local/lib/python3.11/dist-packages/keras/src/models/functional.py:237: UserWarning: The structure of `inputs` doesn't match the expected structure.\n",
            "Expected: ['keras_tensor_4999']\n",
            "Received: inputs=Tensor(shape=(None, 32, 32, 3))\n",
            "  warnings.warn(msg)\n"
          ]
        },
        {
          "output_type": "stream",
          "name": "stdout",
          "text": [
            "\u001b[1m282/282\u001b[0m \u001b[32m━━━━━━━━━━━━━━━━━━━━\u001b[0m\u001b[37m\u001b[0m \u001b[1m10s\u001b[0m 21ms/step - accuracy: 0.0723 - loss: 2.9724 - val_accuracy: 0.1260 - val_loss: 2.8920\n",
            "Epoch 2/5\n",
            "\u001b[1m282/282\u001b[0m \u001b[32m━━━━━━━━━━━━━━━━━━━━\u001b[0m\u001b[37m\u001b[0m \u001b[1m1s\u001b[0m 5ms/step - accuracy: 0.1139 - loss: 2.8850 - val_accuracy: 0.1150 - val_loss: 2.8619\n",
            "Epoch 3/5\n",
            "\u001b[1m282/282\u001b[0m \u001b[32m━━━━━━━━━━━━━━━━━━━━\u001b[0m\u001b[37m\u001b[0m \u001b[1m1s\u001b[0m 5ms/step - accuracy: 0.1235 - loss: 2.8562 - val_accuracy: 0.1260 - val_loss: 2.8535\n",
            "Epoch 4/5\n",
            "\u001b[1m282/282\u001b[0m \u001b[32m━━━━━━━━━━━━━━━━━━━━\u001b[0m\u001b[37m\u001b[0m \u001b[1m3s\u001b[0m 5ms/step - accuracy: 0.1239 - loss: 2.8304 - val_accuracy: 0.1240 - val_loss: 2.8477\n",
            "Epoch 5/5\n",
            "\u001b[1m282/282\u001b[0m \u001b[32m━━━━━━━━━━━━━━━━━━━━\u001b[0m\u001b[37m\u001b[0m \u001b[1m1s\u001b[0m 5ms/step - accuracy: 0.1263 - loss: 2.8319 - val_accuracy: 0.1330 - val_loss: 2.8321\n"
          ]
        }
      ],
      "source": [
        "mobilenet = MobileNet(input_tensor = Input(shape=(32, 32, 3)), weights='imagenet', include_top=False)\n",
        "mobilenet.trainable = False\n",
        "x = mobilenet.output\n",
        "x = GlobalMaxPooling2D()(x)\n",
        "x=Dense(256,activation='relu')(x)\n",
        "outputs = Dense(20, activation = 'softmax', name = 'output-layer')(x)\n",
        "model = Model(mobilenet.input, outputs, name = 'ResNet')\n",
        "model.compile(optimizer=keras.optimizers.Adam(0.001), loss = 'sparse_categorical_crossentropy', metrics = ['accuracy'])\n",
        "history = model.fit(X_train, y_train, epochs=5, validation_data=(X_val, y_val))"
      ]
    },
    {
      "cell_type": "code",
      "execution_count": 126,
      "metadata": {
        "id": "r9V84kc6XPhW",
        "colab": {
          "base_uri": "https://localhost:8080/"
        },
        "outputId": "3f671dd4-034d-416d-a5b3-01ccf4ed6635"
      },
      "outputs": [
        {
          "output_type": "stream",
          "name": "stdout",
          "text": [
            "\u001b[1m63/63\u001b[0m \u001b[32m━━━━━━━━━━━━━━━━━━━━\u001b[0m\u001b[37m\u001b[0m \u001b[1m1s\u001b[0m 19ms/step - accuracy: 0.1140 - loss: 2.8668\n",
            "Training Loss: 2.8276\n",
            "Training Accuracy: 0.1293\n",
            "Validation Loss: 2.8321\n",
            "Validation Accuracy: 0.1330\n",
            "Test Loss: 2.8546\n"
          ]
        }
      ],
      "source": [
        "final_epoch = -1\n",
        "\n",
        "train_loss = history.history['loss'][final_epoch]\n",
        "train_accuracy = history.history['accuracy'][final_epoch]\n",
        "val_loss = history.history['val_loss'][final_epoch]\n",
        "val_accuracy = history.history['val_accuracy'][final_epoch]\n",
        "test_loss, test_accuracy = model.evaluate(X_test, y_test)\n",
        "\n",
        "print(f\"Training Loss: {train_loss:.4f}\")\n",
        "print(f\"Training Accuracy: {train_accuracy:.4f}\")\n",
        "print(f\"Validation Loss: {val_loss:.4f}\")\n",
        "print(f\"Validation Accuracy: {val_accuracy:.4f}\")\n",
        "print(f\"Test Loss: {test_loss:.4f}\")"
      ]
    },
    {
      "cell_type": "code",
      "source": [
        "model.save(\"mobilenet.h5\")\n",
        "\n",
        "size_in_bytes = os.path.getsize(\"mobilenet.h5\")\n",
        "size_in_mb = size_in_bytes / (1024 * 1024)\n",
        "print(f\"mobilenet model size: {size_in_mb:.2f} MB\")"
      ],
      "metadata": {
        "colab": {
          "base_uri": "https://localhost:8080/"
        },
        "id": "YJBByUyQlo0P",
        "outputId": "64c47707-12af-490b-a270-54780f3b8803"
      },
      "execution_count": 127,
      "outputs": [
        {
          "output_type": "stream",
          "name": "stderr",
          "text": [
            "WARNING:absl:You are saving your model as an HDF5 file via `model.save()` or `keras.saving.save_model(model)`. This file format is considered legacy. We recommend using instead the native Keras format, e.g. `model.save('my_model.keras')` or `keras.saving.save_model(model, 'my_model.keras')`. \n"
          ]
        },
        {
          "output_type": "stream",
          "name": "stdout",
          "text": [
            "mobilenet model size: 15.66 MB\n"
          ]
        }
      ]
    },
    {
      "cell_type": "markdown",
      "metadata": {
        "id": "ywWZjqRcXfH4"
      },
      "source": [
        "### 6. MobileNetV2"
      ]
    },
    {
      "cell_type": "code",
      "execution_count": 128,
      "metadata": {
        "id": "6iRUoc2sXj9P"
      },
      "outputs": [],
      "source": [
        "from keras.applications import MobileNetV2"
      ]
    },
    {
      "cell_type": "code",
      "execution_count": 129,
      "metadata": {
        "id": "4eviJuOJXokX",
        "colab": {
          "base_uri": "https://localhost:8080/"
        },
        "outputId": "401034d6-2503-462f-e2b6-22954a449dd3"
      },
      "outputs": [
        {
          "output_type": "stream",
          "name": "stderr",
          "text": [
            "<ipython-input-129-c00abd5189d2>:1: UserWarning: `input_shape` is undefined or non-square, or `rows` is not in [96, 128, 160, 192, 224]. Weights for input shape (224, 224) will be loaded as the default.\n",
            "  mobilenetV2 = MobileNetV2(input_tensor = Input(shape=(32, 32, 3)), weights='imagenet', include_top=False)\n"
          ]
        },
        {
          "output_type": "stream",
          "name": "stdout",
          "text": [
            "Epoch 1/5\n"
          ]
        },
        {
          "output_type": "stream",
          "name": "stderr",
          "text": [
            "/usr/local/lib/python3.11/dist-packages/keras/src/models/functional.py:237: UserWarning: The structure of `inputs` doesn't match the expected structure.\n",
            "Expected: ['keras_tensor_5088']\n",
            "Received: inputs=Tensor(shape=(None, 32, 32, 3))\n",
            "  warnings.warn(msg)\n"
          ]
        },
        {
          "output_type": "stream",
          "name": "stdout",
          "text": [
            "\u001b[1m282/282\u001b[0m \u001b[32m━━━━━━━━━━━━━━━━━━━━\u001b[0m\u001b[37m\u001b[0m \u001b[1m17s\u001b[0m 36ms/step - accuracy: 0.0821 - loss: 2.9619 - val_accuracy: 0.1160 - val_loss: 2.8752\n",
            "Epoch 2/5\n",
            "\u001b[1m282/282\u001b[0m \u001b[32m━━━━━━━━━━━━━━━━━━━━\u001b[0m\u001b[37m\u001b[0m \u001b[1m2s\u001b[0m 6ms/step - accuracy: 0.1259 - loss: 2.8563 - val_accuracy: 0.1310 - val_loss: 2.8521\n",
            "Epoch 3/5\n",
            "\u001b[1m282/282\u001b[0m \u001b[32m━━━━━━━━━━━━━━━━━━━━\u001b[0m\u001b[37m\u001b[0m \u001b[1m2s\u001b[0m 6ms/step - accuracy: 0.1343 - loss: 2.8167 - val_accuracy: 0.1200 - val_loss: 2.8380\n",
            "Epoch 4/5\n",
            "\u001b[1m282/282\u001b[0m \u001b[32m━━━━━━━━━━━━━━━━━━━━\u001b[0m\u001b[37m\u001b[0m \u001b[1m2s\u001b[0m 7ms/step - accuracy: 0.1458 - loss: 2.7901 - val_accuracy: 0.1290 - val_loss: 2.8390\n",
            "Epoch 5/5\n",
            "\u001b[1m282/282\u001b[0m \u001b[32m━━━━━━━━━━━━━━━━━━━━\u001b[0m\u001b[37m\u001b[0m \u001b[1m3s\u001b[0m 8ms/step - accuracy: 0.1431 - loss: 2.7779 - val_accuracy: 0.1330 - val_loss: 2.8419\n"
          ]
        }
      ],
      "source": [
        "mobilenetV2 = MobileNetV2(input_tensor = Input(shape=(32, 32, 3)), weights='imagenet', include_top=False)\n",
        "mobilenetV2.trainable = False\n",
        "x = mobilenetV2.output\n",
        "x = GlobalMaxPooling2D()(x)\n",
        "x=Dense(256,activation='relu')(x)\n",
        "outputs = Dense(20, activation = 'softmax', name = 'output-layer')(x)\n",
        "model = Model(mobilenetV2.input, outputs, name = 'ResNet')\n",
        "model.compile(optimizer=keras.optimizers.Adam(0.001), loss = 'sparse_categorical_crossentropy', metrics = ['accuracy'])\n",
        "history = model.fit(X_train, y_train, epochs=5, validation_data=(X_val, y_val))"
      ]
    },
    {
      "cell_type": "code",
      "execution_count": 130,
      "metadata": {
        "id": "iqAUY1GbXvyw",
        "colab": {
          "base_uri": "https://localhost:8080/"
        },
        "outputId": "fb925efc-24f7-46ca-8297-ef318ad7baa6"
      },
      "outputs": [
        {
          "output_type": "stream",
          "name": "stdout",
          "text": [
            "\u001b[1m63/63\u001b[0m \u001b[32m━━━━━━━━━━━━━━━━━━━━\u001b[0m\u001b[37m\u001b[0m \u001b[1m2s\u001b[0m 28ms/step - accuracy: 0.1288 - loss: 2.8225\n",
            "Training Loss: 2.7683\n",
            "Training Accuracy: 0.1467\n",
            "Validation Loss: 2.8419\n",
            "Validation Accuracy: 0.1330\n",
            "Test Loss: 2.8329\n"
          ]
        }
      ],
      "source": [
        "final_epoch = -1\n",
        "\n",
        "train_loss = history.history['loss'][final_epoch]\n",
        "train_accuracy = history.history['accuracy'][final_epoch]\n",
        "val_loss = history.history['val_loss'][final_epoch]\n",
        "val_accuracy = history.history['val_accuracy'][final_epoch]\n",
        "test_loss, test_accuracy = model.evaluate(X_test, y_test)\n",
        "\n",
        "print(f\"Training Loss: {train_loss:.4f}\")\n",
        "print(f\"Training Accuracy: {train_accuracy:.4f}\")\n",
        "print(f\"Validation Loss: {val_loss:.4f}\")\n",
        "print(f\"Validation Accuracy: {val_accuracy:.4f}\")\n",
        "print(f\"Test Loss: {test_loss:.4f}\")"
      ]
    },
    {
      "cell_type": "code",
      "source": [
        "model.save(\"mobilenetv2.h5\")\n",
        "\n",
        "size_in_bytes = os.path.getsize(\"mobilenetv2.h5\")\n",
        "size_in_mb = size_in_bytes / (1024 * 1024)\n",
        "print(f\"mobilenetv2 model size: {size_in_mb:.2f} MB\")"
      ],
      "metadata": {
        "colab": {
          "base_uri": "https://localhost:8080/"
        },
        "id": "KUnvmtULlv95",
        "outputId": "38584276-6b43-432c-fc1c-e1843d846f6d"
      },
      "execution_count": 131,
      "outputs": [
        {
          "output_type": "stream",
          "name": "stderr",
          "text": [
            "WARNING:absl:You are saving your model as an HDF5 file via `model.save()` or `keras.saving.save_model(model)`. This file format is considered legacy. We recommend using instead the native Keras format, e.g. `model.save('my_model.keras')` or `keras.saving.save_model(model, 'my_model.keras')`. \n"
          ]
        },
        {
          "output_type": "stream",
          "name": "stdout",
          "text": [
            "mobilenetv2 model size: 12.94 MB\n"
          ]
        }
      ]
    },
    {
      "cell_type": "markdown",
      "metadata": {
        "id": "MACnnxUAXzj3"
      },
      "source": [
        "###7. NASNetMobile"
      ]
    },
    {
      "cell_type": "code",
      "execution_count": 132,
      "metadata": {
        "id": "dwDNIFkZX5jU"
      },
      "outputs": [],
      "source": [
        "from keras.applications import NASNetMobile"
      ]
    },
    {
      "cell_type": "code",
      "execution_count": 133,
      "metadata": {
        "id": "Li4X-L0pYLvz",
        "colab": {
          "base_uri": "https://localhost:8080/"
        },
        "outputId": "85e19883-4d2c-4b19-80df-a17259d27970"
      },
      "outputs": [
        {
          "output_type": "stream",
          "name": "stdout",
          "text": [
            "Epoch 1/5\n"
          ]
        },
        {
          "output_type": "stream",
          "name": "stderr",
          "text": [
            "/usr/local/lib/python3.11/dist-packages/keras/src/models/functional.py:237: UserWarning: The structure of `inputs` doesn't match the expected structure.\n",
            "Expected: ['keras_tensor_5245']\n",
            "Received: inputs=Tensor(shape=(None, 32, 32, 3))\n",
            "  warnings.warn(msg)\n"
          ]
        },
        {
          "output_type": "stream",
          "name": "stdout",
          "text": [
            "\u001b[1m282/282\u001b[0m \u001b[32m━━━━━━━━━━━━━━━━━━━━\u001b[0m\u001b[37m\u001b[0m \u001b[1m65s\u001b[0m 117ms/step - accuracy: 0.1001 - loss: 85.1964 - val_accuracy: 0.0640 - val_loss: 3.1525\n",
            "Epoch 2/5\n",
            "\u001b[1m282/282\u001b[0m \u001b[32m━━━━━━━━━━━━━━━━━━━━\u001b[0m\u001b[37m\u001b[0m \u001b[1m45s\u001b[0m 20ms/step - accuracy: 0.0523 - loss: 3.0397 - val_accuracy: 0.0510 - val_loss: 2.9975\n",
            "Epoch 3/5\n",
            "\u001b[1m282/282\u001b[0m \u001b[32m━━━━━━━━━━━━━━━━━━━━\u001b[0m\u001b[37m\u001b[0m \u001b[1m10s\u001b[0m 20ms/step - accuracy: 0.0459 - loss: 2.9888 - val_accuracy: 0.0450 - val_loss: 2.9996\n",
            "Epoch 4/5\n",
            "\u001b[1m282/282\u001b[0m \u001b[32m━━━━━━━━━━━━━━━━━━━━\u001b[0m\u001b[37m\u001b[0m \u001b[1m10s\u001b[0m 20ms/step - accuracy: 0.0565 - loss: 2.9875 - val_accuracy: 0.0440 - val_loss: 2.9956\n",
            "Epoch 5/5\n",
            "\u001b[1m282/282\u001b[0m \u001b[32m━━━━━━━━━━━━━━━━━━━━\u001b[0m\u001b[37m\u001b[0m \u001b[1m10s\u001b[0m 20ms/step - accuracy: 0.0554 - loss: 2.9861 - val_accuracy: 0.0470 - val_loss: 2.9927\n"
          ]
        }
      ],
      "source": [
        "nasnetmobile = NASNetMobile(input_tensor = Input(shape=(32, 32, 3)), weights='imagenet', include_top=False)\n",
        "nasnetmobile.trainable = False\n",
        "x = nasnetmobile.output\n",
        "x = GlobalMaxPooling2D()(x)\n",
        "x=Dense(256,activation='relu')(x)\n",
        "outputs = Dense(20, activation = 'softmax', name = 'output-layer')(x)\n",
        "model = Model(nasnetmobile.input, outputs, name = 'ResNet')\n",
        "model.compile(optimizer=keras.optimizers.Adam(0.001), loss = 'sparse_categorical_crossentropy', metrics = ['accuracy'])\n",
        "history = model.fit(X_train, y_train, epochs=5, validation_data=(X_val, y_val))"
      ]
    },
    {
      "cell_type": "code",
      "execution_count": 134,
      "metadata": {
        "id": "ZZyWtPluZCMp",
        "colab": {
          "base_uri": "https://localhost:8080/"
        },
        "outputId": "cb8399bf-16bc-4f9a-9268-e5803f57db24"
      },
      "outputs": [
        {
          "output_type": "stream",
          "name": "stdout",
          "text": [
            "\u001b[1m63/63\u001b[0m \u001b[32m━━━━━━━━━━━━━━━━━━━━\u001b[0m\u001b[37m\u001b[0m \u001b[1m7s\u001b[0m 110ms/step - accuracy: 0.0546 - loss: 3.0064\n",
            "Training Loss: 2.9892\n",
            "Training Accuracy: 0.0540\n",
            "Validation Loss: 2.9927\n",
            "Validation Accuracy: 0.0470\n",
            "Test Loss: 3.0084\n"
          ]
        }
      ],
      "source": [
        "final_epoch = -1\n",
        "\n",
        "train_loss = history.history['loss'][final_epoch]\n",
        "train_accuracy = history.history['accuracy'][final_epoch]\n",
        "val_loss = history.history['val_loss'][final_epoch]\n",
        "val_accuracy = history.history['val_accuracy'][final_epoch]\n",
        "test_loss, test_accuracy = model.evaluate(X_test, y_test)\n",
        "\n",
        "print(f\"Training Loss: {train_loss:.4f}\")\n",
        "print(f\"Training Accuracy: {train_accuracy:.4f}\")\n",
        "print(f\"Validation Loss: {val_loss:.4f}\")\n",
        "print(f\"Validation Accuracy: {val_accuracy:.4f}\")\n",
        "print(f\"Test Loss: {test_loss:.4f}\")"
      ]
    },
    {
      "cell_type": "code",
      "source": [
        "model.save(\"nasnetmobile.h5\")\n",
        "\n",
        "size_in_bytes = os.path.getsize(\"nasnetmobile.h5\")\n",
        "size_in_mb = size_in_bytes / (1024 * 1024)\n",
        "print(f\"nasnetmobile model size: {size_in_mb:.2f} MB\")"
      ],
      "metadata": {
        "colab": {
          "base_uri": "https://localhost:8080/"
        },
        "id": "R6v1HyDsl890",
        "outputId": "32518792-f3f6-4ea3-d39c-d546fd18d2a2"
      },
      "execution_count": 135,
      "outputs": [
        {
          "output_type": "stream",
          "name": "stderr",
          "text": [
            "WARNING:absl:You are saving your model as an HDF5 file via `model.save()` or `keras.saving.save_model(model)`. This file format is considered legacy. We recommend using instead the native Keras format, e.g. `model.save('my_model.keras')` or `keras.saving.save_model(model, 'my_model.keras')`. \n"
          ]
        },
        {
          "output_type": "stream",
          "name": "stdout",
          "text": [
            "nasnetmobile model size: 22.86 MB\n"
          ]
        }
      ]
    },
    {
      "cell_type": "markdown",
      "metadata": {
        "id": "fzXWrueiYrK1"
      },
      "source": [
        "###8. ResNet101"
      ]
    },
    {
      "cell_type": "code",
      "execution_count": 136,
      "metadata": {
        "id": "-CAMjVkyZG70"
      },
      "outputs": [],
      "source": [
        "from keras.applications import ResNet101"
      ]
    },
    {
      "cell_type": "code",
      "execution_count": 137,
      "metadata": {
        "id": "WYzsI8orZMhc",
        "colab": {
          "base_uri": "https://localhost:8080/"
        },
        "outputId": "2207f0e9-d100-4202-f878-bbac0868ff26"
      },
      "outputs": [
        {
          "output_type": "stream",
          "name": "stdout",
          "text": [
            "Epoch 1/5\n"
          ]
        },
        {
          "output_type": "stream",
          "name": "stderr",
          "text": [
            "/usr/local/lib/python3.11/dist-packages/keras/src/models/functional.py:237: UserWarning: The structure of `inputs` doesn't match the expected structure.\n",
            "Expected: ['keras_tensor_6017']\n",
            "Received: inputs=Tensor(shape=(None, 32, 32, 3))\n",
            "  warnings.warn(msg)\n"
          ]
        },
        {
          "output_type": "stream",
          "name": "stdout",
          "text": [
            "\u001b[1m282/282\u001b[0m \u001b[32m━━━━━━━━━━━━━━━━━━━━\u001b[0m\u001b[37m\u001b[0m \u001b[1m36s\u001b[0m 65ms/step - accuracy: 0.3567 - loss: 2.5985 - val_accuracy: 0.4780 - val_loss: 1.6958\n",
            "Epoch 2/5\n",
            "\u001b[1m282/282\u001b[0m \u001b[32m━━━━━━━━━━━━━━━━━━━━\u001b[0m\u001b[37m\u001b[0m \u001b[1m5s\u001b[0m 18ms/step - accuracy: 0.5989 - loss: 1.2787 - val_accuracy: 0.5070 - val_loss: 1.7614\n",
            "Epoch 3/5\n",
            "\u001b[1m282/282\u001b[0m \u001b[32m━━━━━━━━━━━━━━━━━━━━\u001b[0m\u001b[37m\u001b[0m \u001b[1m4s\u001b[0m 15ms/step - accuracy: 0.7031 - loss: 0.9407 - val_accuracy: 0.5160 - val_loss: 1.7257\n",
            "Epoch 4/5\n",
            "\u001b[1m282/282\u001b[0m \u001b[32m━━━━━━━━━━━━━━━━━━━━\u001b[0m\u001b[37m\u001b[0m \u001b[1m5s\u001b[0m 17ms/step - accuracy: 0.7690 - loss: 0.7112 - val_accuracy: 0.5500 - val_loss: 1.7620\n",
            "Epoch 5/5\n",
            "\u001b[1m282/282\u001b[0m \u001b[32m━━━━━━━━━━━━━━━━━━━━\u001b[0m\u001b[37m\u001b[0m \u001b[1m5s\u001b[0m 16ms/step - accuracy: 0.8190 - loss: 0.5457 - val_accuracy: 0.5320 - val_loss: 1.9559\n"
          ]
        }
      ],
      "source": [
        "resnet101 = ResNet101(input_tensor = Input(shape=(32, 32, 3)), weights='imagenet', include_top=False)\n",
        "resnet101.trainable = False\n",
        "x = resnet101.output\n",
        "x = GlobalMaxPooling2D()(x)\n",
        "x=Dense(256,activation='relu')(x)\n",
        "outputs = Dense(20, activation = 'softmax', name = 'output-layer')(x)\n",
        "model = Model(resnet101.input, outputs, name = 'ResNet')\n",
        "model.compile(optimizer=keras.optimizers.Adam(0.001), loss = 'sparse_categorical_crossentropy', metrics = ['accuracy'])\n",
        "history = model.fit(X_train, y_train, epochs=5, validation_data=(X_val, y_val))"
      ]
    },
    {
      "cell_type": "code",
      "execution_count": 138,
      "metadata": {
        "id": "cvwVYrgyZ_JR",
        "colab": {
          "base_uri": "https://localhost:8080/"
        },
        "outputId": "4c6d7f1f-8006-41aa-a59c-7622161243b1"
      },
      "outputs": [
        {
          "output_type": "stream",
          "name": "stdout",
          "text": [
            "\u001b[1m63/63\u001b[0m \u001b[32m━━━━━━━━━━━━━━━━━━━━\u001b[0m\u001b[37m\u001b[0m \u001b[1m3s\u001b[0m 50ms/step - accuracy: 0.5648 - loss: 1.7841\n",
            "Training Loss: 0.5501\n",
            "Training Accuracy: 0.8201\n",
            "Validation Loss: 1.9559\n",
            "Validation Accuracy: 0.5320\n",
            "Test Loss: 1.8205\n"
          ]
        }
      ],
      "source": [
        "final_epoch = -1\n",
        "\n",
        "train_loss = history.history['loss'][final_epoch]\n",
        "train_accuracy = history.history['accuracy'][final_epoch]\n",
        "val_loss = history.history['val_loss'][final_epoch]\n",
        "val_accuracy = history.history['val_accuracy'][final_epoch]\n",
        "test_loss, test_accuracy = model.evaluate(X_test, y_test)\n",
        "\n",
        "print(f\"Training Loss: {train_loss:.4f}\")\n",
        "print(f\"Training Accuracy: {train_accuracy:.4f}\")\n",
        "print(f\"Validation Loss: {val_loss:.4f}\")\n",
        "print(f\"Validation Accuracy: {val_accuracy:.4f}\")\n",
        "print(f\"Test Loss: {test_loss:.4f}\")"
      ]
    },
    {
      "cell_type": "code",
      "source": [
        "model.save(\"resnet101.h5\")\n",
        "\n",
        "size_in_bytes = os.path.getsize(\"resnet101.h5\")\n",
        "size_in_mb = size_in_bytes / (1024 * 1024)\n",
        "print(f\"resnet101 model size: {size_in_mb:.2f} MB\")"
      ],
      "metadata": {
        "colab": {
          "base_uri": "https://localhost:8080/"
        },
        "id": "ByZRaxWXmE17",
        "outputId": "f12ecc52-770c-46d0-d04b-ae16d49c9d7b"
      },
      "execution_count": 139,
      "outputs": [
        {
          "output_type": "stream",
          "name": "stderr",
          "text": [
            "WARNING:absl:You are saving your model as an HDF5 file via `model.save()` or `keras.saving.save_model(model)`. This file format is considered legacy. We recommend using instead the native Keras format, e.g. `model.save('my_model.keras')` or `keras.saving.save_model(model, 'my_model.keras')`. \n"
          ]
        },
        {
          "output_type": "stream",
          "name": "stdout",
          "text": [
            "resnet101 model size: 169.88 MB\n"
          ]
        }
      ]
    },
    {
      "cell_type": "markdown",
      "metadata": {
        "id": "2b7s_ZREaHVv"
      },
      "source": [
        "###9. ConvNextSamll"
      ]
    },
    {
      "cell_type": "code",
      "execution_count": 140,
      "metadata": {
        "id": "XFN2gE9laOEK"
      },
      "outputs": [],
      "source": [
        "from keras.applications import ConvNeXtSmall"
      ]
    },
    {
      "cell_type": "code",
      "execution_count": 141,
      "metadata": {
        "id": "1hlcAzGsbi6k",
        "colab": {
          "base_uri": "https://localhost:8080/"
        },
        "outputId": "ee7f93e8-457e-472c-d276-7b83033e3abd"
      },
      "outputs": [
        {
          "output_type": "stream",
          "name": "stdout",
          "text": [
            "Epoch 1/5\n",
            "\u001b[1m282/282\u001b[0m \u001b[32m━━━━━━━━━━━━━━━━━━━━\u001b[0m\u001b[37m\u001b[0m \u001b[1m34s\u001b[0m 53ms/step - accuracy: 0.5645 - loss: 1.4917 - val_accuracy: 0.6680 - val_loss: 1.0118\n",
            "Epoch 2/5\n",
            "\u001b[1m282/282\u001b[0m \u001b[32m━━━━━━━━━━━━━━━━━━━━\u001b[0m\u001b[37m\u001b[0m \u001b[1m3s\u001b[0m 11ms/step - accuracy: 0.8272 - loss: 0.5570 - val_accuracy: 0.6920 - val_loss: 1.0113\n",
            "Epoch 3/5\n",
            "\u001b[1m282/282\u001b[0m \u001b[32m━━━━━━━━━━━━━━━━━━━━\u001b[0m\u001b[37m\u001b[0m \u001b[1m5s\u001b[0m 11ms/step - accuracy: 0.8925 - loss: 0.3457 - val_accuracy: 0.7020 - val_loss: 1.0092\n",
            "Epoch 4/5\n",
            "\u001b[1m282/282\u001b[0m \u001b[32m━━━━━━━━━━━━━━━━━━━━\u001b[0m\u001b[37m\u001b[0m \u001b[1m3s\u001b[0m 12ms/step - accuracy: 0.9414 - loss: 0.2201 - val_accuracy: 0.7020 - val_loss: 1.0352\n",
            "Epoch 5/5\n",
            "\u001b[1m282/282\u001b[0m \u001b[32m━━━━━━━━━━━━━━━━━━━━\u001b[0m\u001b[37m\u001b[0m \u001b[1m3s\u001b[0m 11ms/step - accuracy: 0.9661 - loss: 0.1363 - val_accuracy: 0.7010 - val_loss: 1.0987\n"
          ]
        }
      ],
      "source": [
        "convnextsmall = ConvNeXtSmall(input_tensor = Input(shape=(32, 32, 3)), weights='imagenet', include_top=False)\n",
        "convnextsmall.trainable = False\n",
        "x = convnextsmall.output\n",
        "x = GlobalMaxPooling2D()(x)\n",
        "x=Dense(256,activation='relu')(x)\n",
        "outputs = Dense(20, activation = 'softmax', name = 'output-layer')(x)\n",
        "model = Model(convnextsmall.input, outputs, name = 'ResNet')\n",
        "model.compile(optimizer=keras.optimizers.Adam(0.001), loss = 'sparse_categorical_crossentropy', metrics = ['accuracy'])\n",
        "history = model.fit(X_train, y_train, epochs=5, validation_data=(X_val, y_val))"
      ]
    },
    {
      "cell_type": "code",
      "execution_count": 142,
      "metadata": {
        "id": "csypCnzUbsha",
        "colab": {
          "base_uri": "https://localhost:8080/"
        },
        "outputId": "c08e5ea2-2b5f-4ee3-f372-e7ddb819a5d8"
      },
      "outputs": [
        {
          "output_type": "stream",
          "name": "stdout",
          "text": [
            "\u001b[1m63/63\u001b[0m \u001b[32m━━━━━━━━━━━━━━━━━━━━\u001b[0m\u001b[37m\u001b[0m \u001b[1m3s\u001b[0m 41ms/step - accuracy: 0.7308 - loss: 0.9438\n",
            "Training Loss: 0.1424\n",
            "Training Accuracy: 0.9637\n",
            "Validation Loss: 1.0987\n",
            "Validation Accuracy: 0.7010\n",
            "Test Loss: 0.9625\n"
          ]
        }
      ],
      "source": [
        "final_epoch = -1\n",
        "\n",
        "train_loss = history.history['loss'][final_epoch]\n",
        "train_accuracy = history.history['accuracy'][final_epoch]\n",
        "val_loss = history.history['val_loss'][final_epoch]\n",
        "val_accuracy = history.history['val_accuracy'][final_epoch]\n",
        "test_loss, test_accuracy = model.evaluate(X_test, y_test)\n",
        "\n",
        "print(f\"Training Loss: {train_loss:.4f}\")\n",
        "print(f\"Training Accuracy: {train_accuracy:.4f}\")\n",
        "print(f\"Validation Loss: {val_loss:.4f}\")\n",
        "print(f\"Validation Accuracy: {val_accuracy:.4f}\")\n",
        "print(f\"Test Loss: {test_loss:.4f}\")"
      ]
    },
    {
      "cell_type": "code",
      "source": [
        "model.save(\"convnextsmall.h5\")\n",
        "\n",
        "size_in_bytes = os.path.getsize(\"convnextsmall.h5\")\n",
        "size_in_mb = size_in_bytes / (1024 * 1024)\n",
        "print(f\"convnextsmall model size: {size_in_mb:.2f} MB\")"
      ],
      "metadata": {
        "colab": {
          "base_uri": "https://localhost:8080/"
        },
        "id": "Bt_ZE6O3mKou",
        "outputId": "f286fcc7-d542-4647-f8e1-ce8173eeac4e"
      },
      "execution_count": 143,
      "outputs": [
        {
          "output_type": "stream",
          "name": "stderr",
          "text": [
            "WARNING:absl:You are saving your model as an HDF5 file via `model.save()` or `keras.saving.save_model(model)`. This file format is considered legacy. We recommend using instead the native Keras format, e.g. `model.save('my_model.keras')` or `keras.saving.save_model(model, 'my_model.keras')`. \n"
          ]
        },
        {
          "output_type": "stream",
          "name": "stdout",
          "text": [
            "convnextsmall model size: 191.89 MB\n"
          ]
        }
      ]
    },
    {
      "cell_type": "markdown",
      "source": [
        "### 10. ConvNeXtBase"
      ],
      "metadata": {
        "id": "uphNWBpmQyuX"
      }
    },
    {
      "cell_type": "code",
      "source": [
        "from keras.applications import ConvNeXtBase"
      ],
      "metadata": {
        "id": "bz0gQT5CQwh2"
      },
      "execution_count": 144,
      "outputs": []
    },
    {
      "cell_type": "code",
      "source": [
        "convnextbase = ConvNeXtBase(input_tensor = Input(shape=(32, 32, 3)), weights='imagenet', include_top=False)\n",
        "convnextbase.trainable = False\n",
        "x = convnextbase.output\n",
        "x = GlobalMaxPooling2D()(x)\n",
        "x=Dense(256,activation='relu')(x)\n",
        "outputs = Dense(20, activation = 'softmax', name = 'output-layer')(x)\n",
        "model = Model(convnextbase.input, outputs, name = 'ResNet')\n",
        "model.compile(optimizer=keras.optimizers.Adam(0.001), loss = 'sparse_categorical_crossentropy', metrics = ['accuracy'])\n",
        "history = model.fit(X_train, y_train, epochs=5, validation_data=(X_val, y_val))"
      ],
      "metadata": {
        "id": "qFEWJzOuSgAH",
        "colab": {
          "base_uri": "https://localhost:8080/"
        },
        "outputId": "aeb80d42-422b-4401-95ec-c6c80709065d"
      },
      "execution_count": 145,
      "outputs": [
        {
          "output_type": "stream",
          "name": "stdout",
          "text": [
            "Epoch 1/5\n",
            "\u001b[1m282/282\u001b[0m \u001b[32m━━━━━━━━━━━━━━━━━━━━\u001b[0m\u001b[37m\u001b[0m \u001b[1m37s\u001b[0m 56ms/step - accuracy: 0.6054 - loss: 1.3209 - val_accuracy: 0.7400 - val_loss: 0.8291\n",
            "Epoch 2/5\n",
            "\u001b[1m282/282\u001b[0m \u001b[32m━━━━━━━━━━━━━━━━━━━━\u001b[0m\u001b[37m\u001b[0m \u001b[1m4s\u001b[0m 14ms/step - accuracy: 0.8812 - loss: 0.3712 - val_accuracy: 0.7380 - val_loss: 0.8467\n",
            "Epoch 3/5\n",
            "\u001b[1m282/282\u001b[0m \u001b[32m━━━━━━━━━━━━━━━━━━━━\u001b[0m\u001b[37m\u001b[0m \u001b[1m4s\u001b[0m 13ms/step - accuracy: 0.9576 - loss: 0.1699 - val_accuracy: 0.7410 - val_loss: 0.8896\n",
            "Epoch 4/5\n",
            "\u001b[1m282/282\u001b[0m \u001b[32m━━━━━━━━━━━━━━━━━━━━\u001b[0m\u001b[37m\u001b[0m \u001b[1m4s\u001b[0m 14ms/step - accuracy: 0.9826 - loss: 0.0906 - val_accuracy: 0.7350 - val_loss: 0.9394\n",
            "Epoch 5/5\n",
            "\u001b[1m282/282\u001b[0m \u001b[32m━━━━━━━━━━━━━━━━━━━━\u001b[0m\u001b[37m\u001b[0m \u001b[1m4s\u001b[0m 13ms/step - accuracy: 0.9888 - loss: 0.0511 - val_accuracy: 0.7480 - val_loss: 0.9742\n"
          ]
        }
      ]
    },
    {
      "cell_type": "code",
      "source": [
        "final_epoch = -1\n",
        "\n",
        "train_loss = history.history['loss'][final_epoch]\n",
        "train_accuracy = history.history['accuracy'][final_epoch]\n",
        "val_loss = history.history['val_loss'][final_epoch]\n",
        "val_accuracy = history.history['val_accuracy'][final_epoch]\n",
        "test_loss, test_accuracy = model.evaluate(X_test, y_test)\n",
        "\n",
        "print(f\"Training Loss: {train_loss:.4f}\")\n",
        "print(f\"Training Accuracy: {train_accuracy:.4f}\")\n",
        "print(f\"Validation Loss: {val_loss:.4f}\")\n",
        "print(f\"Validation Accuracy: {val_accuracy:.4f}\")\n",
        "print(f\"Test Loss: {test_loss:.4f}\")"
      ],
      "metadata": {
        "id": "ocOFbnx4So8Z",
        "colab": {
          "base_uri": "https://localhost:8080/"
        },
        "outputId": "637770a8-5f12-45d3-bd19-59a4770e249e"
      },
      "execution_count": 146,
      "outputs": [
        {
          "output_type": "stream",
          "name": "stdout",
          "text": [
            "\u001b[1m63/63\u001b[0m \u001b[32m━━━━━━━━━━━━━━━━━━━━\u001b[0m\u001b[37m\u001b[0m \u001b[1m3s\u001b[0m 44ms/step - accuracy: 0.7751 - loss: 0.8358\n",
            "Training Loss: 0.0524\n",
            "Training Accuracy: 0.9873\n",
            "Validation Loss: 0.9742\n",
            "Validation Accuracy: 0.7480\n",
            "Test Loss: 0.8485\n"
          ]
        }
      ]
    },
    {
      "cell_type": "code",
      "source": [
        "model.save(\"convnextbase.h5\")\n",
        "\n",
        "size_in_bytes = os.path.getsize(\"convnextbase.h5\")\n",
        "size_in_mb = size_in_bytes / (1024 * 1024)\n",
        "print(f\"convnextbase model size: {size_in_mb:.2f} MB\")"
      ],
      "metadata": {
        "colab": {
          "base_uri": "https://localhost:8080/"
        },
        "id": "wq9uNLHKmVbB",
        "outputId": "68ff34d2-6b5f-4090-e856-92cbe1e59be3"
      },
      "execution_count": 147,
      "outputs": [
        {
          "output_type": "stream",
          "name": "stderr",
          "text": [
            "WARNING:absl:You are saving your model as an HDF5 file via `model.save()` or `keras.saving.save_model(model)`. This file format is considered legacy. We recommend using instead the native Keras format, e.g. `model.save('my_model.keras')` or `keras.saving.save_model(model, 'my_model.keras')`. \n"
          ]
        },
        {
          "output_type": "stream",
          "name": "stdout",
          "text": [
            "convnextbase model size: 337.96 MB\n"
          ]
        }
      ]
    }
  ],
  "metadata": {
    "accelerator": "GPU",
    "colab": {
      "gpuType": "T4",
      "provenance": []
    },
    "kernelspec": {
      "display_name": "Python 3",
      "name": "python3"
    },
    "language_info": {
      "name": "python"
    }
  },
  "nbformat": 4,
  "nbformat_minor": 0
}