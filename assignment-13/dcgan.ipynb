{
 "cells": [
  {
   "cell_type": "code",
   "execution_count": null,
   "id": "6faa1ecd",
   "metadata": {},
   "outputs": [],
   "source": [
    "import os\n",
    "import glob\n",
    "import torch\n",
    "import torch.nn as nn\n",
    "import torchvision.transforms as transforms\n",
    "from torch.utils.data import Dataset, DataLoader\n",
    "from torchvision.utils import make_grid\n",
    "from PIL import Image\n",
    "import matplotlib.pyplot as plt\n",
    "import numpy as np\n"
   ]
  },
  {
   "cell_type": "code",
   "execution_count": null,
   "id": "f48ae238",
   "metadata": {},
   "outputs": [],
   "source": [
    "# -----------------------\n",
    "# 1. Hyperparameters\n",
    "# -----------------------\n",
    "image_size = 64\n",
    "batch_size = 64\n",
    "z_dim = 100\n",
    "num_epochs = 100\n",
    "lr = 0.0002\n",
    "beta1 = 0.5"
   ]
  },
  {
   "cell_type": "code",
   "execution_count": null,
   "id": "0d1316ea",
   "metadata": {},
   "outputs": [],
   "source": [
    "\n",
    "device = torch.device(\"cuda\" if torch.cuda.is_available() else \"cpu\")\n"
   ]
  },
  {
   "cell_type": "code",
   "execution_count": null,
   "id": "34a80a27",
   "metadata": {},
   "outputs": [],
   "source": [
    "# 3. Custom Dataset (Direct Path)\n",
    "# -----------------------\n",
    "class CelebADirectPathDataset(Dataset):\n",
    "    def __init__(self, image_paths, transform=None):\n",
    "        self.image_paths = image_paths\n",
    "        self.transform = transform\n",
    "\n",
    "    def __len__(self):\n",
    "        return len(self.image_paths)\n",
    "\n",
    "    def __getitem__(self, idx):\n",
    "        img = Image.open(self.image_paths[idx]).convert(\"RGB\")\n",
    "        if self.transform:\n",
    "            img = self.transform(img)\n",
    "        return img"
   ]
  },
  {
   "cell_type": "code",
   "execution_count": null,
   "id": "038233dd",
   "metadata": {},
   "outputs": [],
   "source": [
    "# -----------------------\n",
    "# 4. Data Setup\n",
    "# -----------------------\n",
    "dataroot = r\"D:\\sangita-mam\\assginment-13\\cyclegan_faces\\trainA\"\n",
    "image_paths = sorted(glob.glob(os.path.join(dataroot, \"*.jpg\")))\n",
    "\n",
    "transform = transforms.Compose([\n",
    "    transforms.Resize(image_size),\n",
    "    transforms.CenterCrop(image_size),\n",
    "    transforms.ToTensor(),\n",
    "    transforms.Normalize([0.5]*3, [0.5]*3),\n",
    "])\n",
    "\n",
    "dataset = CelebADirectPathDataset(image_paths, transform)\n",
    "dataloader = DataLoader(dataset, batch_size=batch_size, shuffle=True)\n"
   ]
  },
  {
   "cell_type": "code",
   "execution_count": null,
   "id": "be02264e",
   "metadata": {},
   "outputs": [],
   "source": [
    "# -----------------------\n",
    "# 5. DCGAN Generator\n",
    "# -----------------------\n",
    "class Generator(nn.Module):\n",
    "    def __init__(self):\n",
    "        super(Generator, self).__init__()\n",
    "        self.main = nn.Sequential(\n",
    "            nn.ConvTranspose2d(z_dim, 512, 4, 1, 0, bias=False),\n",
    "            nn.BatchNorm2d(512),\n",
    "            nn.ReLU(True),\n",
    "\n",
    "            nn.ConvTranspose2d(512, 256, 4, 2, 1, bias=False),\n",
    "            nn.BatchNorm2d(256),\n",
    "            nn.ReLU(True),\n",
    "\n",
    "            nn.ConvTranspose2d(256, 128, 4, 2, 1, bias=False),\n",
    "            nn.BatchNorm2d(128),\n",
    "            nn.ReLU(True),\n",
    "\n",
    "            nn.ConvTranspose2d(128, 64, 4, 2, 1, bias=False),\n",
    "            nn.BatchNorm2d(64),\n",
    "            nn.ReLU(True),\n",
    "\n",
    "            nn.ConvTranspose2d(64, 3, 4, 2, 1, bias=False),\n",
    "            nn.Tanh()\n",
    "        )\n",
    "\n",
    "    def forward(self, input):\n",
    "        return self.main(input)"
   ]
  },
  {
   "cell_type": "code",
   "execution_count": null,
   "id": "fac327cb",
   "metadata": {},
   "outputs": [],
   "source": [
    "# -----------------------\n",
    "# 6. DCGAN Discriminator\n",
    "# -----------------------\n",
    "class Discriminator(nn.Module):\n",
    "    def __init__(self):\n",
    "        super(Discriminator, self).__init__()\n",
    "        self.main = nn.Sequential(\n",
    "            nn.Conv2d(3, 64, 4, 2, 1, bias=False),\n",
    "            nn.LeakyReLU(0.2, inplace=True),\n",
    "\n",
    "            nn.Conv2d(64, 128, 4, 2, 1, bias=False),\n",
    "            nn.BatchNorm2d(128),\n",
    "            nn.LeakyReLU(0.2, inplace=True),\n",
    "\n",
    "            nn.Conv2d(128, 256, 4, 2, 1, bias=False),\n",
    "            nn.BatchNorm2d(256),\n",
    "            nn.LeakyReLU(0.2, inplace=True),\n",
    "\n",
    "            nn.Conv2d(256, 512, 4, 2, 1, bias=False),\n",
    "            nn.BatchNorm2d(512),\n",
    "            nn.LeakyReLU(0.2, inplace=True),\n",
    "\n",
    "            nn.Conv2d(512, 1, 4, 1, 0, bias=False),\n",
    "            nn.Sigmoid()\n",
    "        )\n",
    "\n",
    "    def forward(self, input):\n",
    "        return self.main(input).view(-1)"
   ]
  },
  {
   "cell_type": "code",
   "execution_count": null,
   "id": "f93d18d4",
   "metadata": {},
   "outputs": [],
   "source": [
    "# -----------------------\n",
    "# 7. Initialize\n",
    "# -----------------------\n",
    "gen = Generator().to(device)\n",
    "disc = Discriminator().to(device)\n",
    "\n",
    "gen.apply(lambda m: nn.init.normal_(m.weight.data, 0.0, 0.02) if isinstance(m, (nn.ConvTranspose2d, nn.Conv2d)) else None)\n",
    "disc.apply(lambda m: nn.init.normal_(m.weight.data, 0.0, 0.02) if isinstance(m, (nn.ConvTranspose2d, nn.Conv2d)) else None)"
   ]
  },
  {
   "cell_type": "code",
   "execution_count": null,
   "id": "fe2d706b",
   "metadata": {},
   "outputs": [],
   "source": [
    "# -----------------------\n",
    "# 8. Optimizer & Loss\n",
    "# -----------------------\n",
    "criterion = nn.BCELoss()\n",
    "opt_gen = torch.optim.Adam(gen.parameters(), lr=lr, betas=(beta1, 0.999))\n",
    "opt_disc = torch.optim.Adam(disc.parameters(), lr=lr, betas=(beta1, 0.999))"
   ]
  },
  {
   "cell_type": "code",
   "execution_count": null,
   "id": "ddb38eaa",
   "metadata": {},
   "outputs": [],
   "source": [
    "fixed_noise = torch.randn(10, z_dim, 1, 1, device=device)  # For 2x5 grid"
   ]
  },
  {
   "cell_type": "code",
   "execution_count": null,
   "id": "e8b29271",
   "metadata": {},
   "outputs": [],
   "source": [
    "def show_generated_images(generator, fixed_noise, epoch):\n",
    "    generator.eval()\n",
    "    with torch.no_grad():\n",
    "        fake_images = generator(fixed_noise).detach().cpu()\n",
    "    grid = make_grid(fake_images, nrow=5, normalize=True)\n",
    "    plt.figure(figsize=(10, 4))\n",
    "    plt.imshow(np.transpose(grid, (1, 2, 0)))\n",
    "    plt.title(f\"Generated Faces at Epoch {epoch}\")\n",
    "    plt.axis('off')\n",
    "    plt.show()\n",
    "    generator.train()\n"
   ]
  },
  {
   "cell_type": "code",
   "execution_count": null,
   "id": "b2ac0539",
   "metadata": {},
   "outputs": [],
   "source": [
    "# -----------------------\n",
    "# 10. Training Loop\n",
    "# -----------------------\n",
    "for epoch in range(1, num_epochs + 1):\n",
    "    for real in dataloader:\n",
    "        real = real.to(device)\n",
    "        batch_size = real.size(0)\n",
    "\n",
    "        # === Train Discriminator ===\n",
    "        z = torch.randn(batch_size, z_dim, 1, 1, device=device)\n",
    "        fake = gen(z)\n",
    "        loss_real = criterion(disc(real), torch.ones(batch_size, device=device))\n",
    "        loss_fake = criterion(disc(fake.detach()), torch.zeros(batch_size, device=device))\n",
    "        loss_disc = (loss_real + loss_fake) / 2\n",
    "\n",
    "        opt_disc.zero_grad()\n",
    "        loss_disc.backward()\n",
    "        opt_disc.step()\n",
    "\n",
    "        # === Train Generator ===\n",
    "        output = disc(fake)\n",
    "        loss_gen = criterion(output, torch.ones(batch_size, device=device))\n",
    "\n",
    "        opt_gen.zero_grad()\n",
    "        loss_gen.backward()\n",
    "        opt_gen.step()\n",
    "\n",
    "    print(f\"Epoch [{epoch}/{num_epochs}]  Loss D: {loss_disc:.4f}, Loss G: {loss_gen:.4f}\")\n",
    "\n",
    "    # Show generated images every epoch\n",
    "    show_generated_images(gen, fixed_noise, epoch)"
   ]
  }
 ],
 "metadata": {
  "kernelspec": {
   "display_name": "venv",
   "language": "python",
   "name": "python3"
  },
  "language_info": {
   "codemirror_mode": {
    "name": "ipython",
    "version": 3
   },
   "file_extension": ".py",
   "mimetype": "text/x-python",
   "name": "python",
   "nbconvert_exporter": "python",
   "pygments_lexer": "ipython3",
   "version": "3.10.11"
  }
 },
 "nbformat": 4,
 "nbformat_minor": 5
}
