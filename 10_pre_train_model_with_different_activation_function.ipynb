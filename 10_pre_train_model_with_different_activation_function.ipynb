{
  "cells": [
    {
      "cell_type": "code",
      "execution_count": null,
      "metadata": {
        "id": "pvpOuyLpJMl3"
      },
      "outputs": [],
      "source": [
        "import numpy as np\n",
        "import matplotlib.pyplot as plt\n",
        "import tensorflow as tf\n",
        "from tensorflow import keras\n",
        "from keras.layers import Input, Flatten, Dense, GlobalMaxPooling2D\n",
        "from keras.models import Model\n",
        "from keras.utils import to_categorical"
      ]
    },
    {
      "cell_type": "markdown",
      "metadata": {
        "id": "4l7LJalszeuj"
      },
      "source": [
        "### Data pre-processing"
      ]
    },
    {
      "cell_type": "code",
      "execution_count": null,
      "metadata": {
        "id": "W33HldufKDvG"
      },
      "outputs": [],
      "source": [
        "(X_train, y_train), (X_test, y_test) = keras.datasets.cifar100.load_data()"
      ]
    },
    {
      "cell_type": "code",
      "execution_count": null,
      "metadata": {
        "colab": {
          "base_uri": "https://localhost:8080/"
        },
        "id": "oTrXpf3fKLn_",
        "outputId": "3700cfa5-38ae-4d11-e20a-c4d93b59304c"
      },
      "outputs": [
        {
          "output_type": "stream",
          "name": "stdout",
          "text": [
            "(50000, 32, 32, 3)\n",
            "(50000, 32, 32, 3)\n",
            "(2000,)\n"
          ]
        }
      ],
      "source": [
        "print(X_train.shape)\n",
        "number_of_sample = 20\n",
        "first_twenty = []\n",
        "for i in range(number_of_sample):\n",
        "  first_twenty.append(i)\n",
        "\n",
        "mask = np.isin(y_train, first_twenty)\n",
        "y_train_all = y_train[mask]\n",
        "X_train_all = X_train[mask.squeeze()]\n",
        "\n",
        "\n",
        "mask = np.isin(y_test, first_twenty)\n",
        "X_test = X_test[mask.squeeze()]\n",
        "y_test = y_test[mask]\n",
        "\n",
        "print(X_train.shape)\n",
        "print(y_test.shape)"
      ]
    },
    {
      "cell_type": "code",
      "execution_count": null,
      "metadata": {
        "id": "xd7GiXdjqQjz"
      },
      "outputs": [],
      "source": [
        "X_train, y_train = X_train_all[ : int(len(X_train_all) * 0.9)], y_train_all[ : int(len(X_train_all) * 0.9)]\n",
        "X_val, y_val = X_train_all[int(len(X_train_all) * 0.9) : ], y_train_all[int(len(X_train_all) * 0.9) : ]"
      ]
    },
    {
      "cell_type": "code",
      "execution_count": null,
      "metadata": {
        "colab": {
          "base_uri": "https://localhost:8080/"
        },
        "id": "7_3ySfmJr7H5",
        "outputId": "b23375a3-b833-490e-c60b-084bb92a79a2"
      },
      "outputs": [
        {
          "output_type": "stream",
          "name": "stdout",
          "text": [
            "(9000, 32, 32, 3) (9000,)\n",
            "(2000, 32, 32, 3) (2000,)\n",
            "(1000, 32, 32, 3) (1000,)\n"
          ]
        }
      ],
      "source": [
        "print(X_train.shape, y_train.shape)\n",
        "print(X_test.shape, y_test.shape)\n",
        "print(X_val.shape, y_val.shape)\n",
        "\n",
        "y_train = to_categorical(y_train, 20);\n",
        "y_test = to_categorical(y_test, 20)\n",
        "y_val = to_categorical(y_val, 20)"
      ]
    },
    {
      "cell_type": "markdown",
      "metadata": {
        "id": "SsHAhKLz2sDZ"
      },
      "source": [
        "### Model number1 : RestNet50"
      ]
    },
    {
      "cell_type": "code",
      "execution_count": null,
      "metadata": {
        "id": "xiRT-dbXJiB5"
      },
      "outputs": [],
      "source": [
        "from keras.applications import ResNet50"
      ]
    },
    {
      "cell_type": "code",
      "execution_count": null,
      "metadata": {
        "id": "jtzTT0FX2miQ"
      },
      "outputs": [],
      "source": [
        "# def preprocess(images, label):\n",
        "#   images = tf.image.resize(images, [224, 224])\n",
        "#   images = images / 255.0\n",
        "#   return images, label"
      ]
    },
    {
      "cell_type": "code",
      "execution_count": null,
      "metadata": {
        "id": "9UnA_fABMPXv"
      },
      "outputs": [],
      "source": [
        "# train_dataset = tf.data.Dataset.from_tensor_slices((X_train, y_train))\n",
        "# val_dataset = tf.data.Dataset.from_tensor_slices((X_val, y_val))\n",
        "# test_dataset = tf.data.Dataset.from_tensor_slices((X_test, y_test))\n",
        "\n",
        "# train_dataset = train_dataset.map(preprocess).shuffle(1000).batch(32).prefetch(tf.data.AUTOTUNE)\n",
        "# val_dataset = val_dataset.map(preprocess).batch(32).prefetch(tf.data.AUTOTUNE)\n",
        "# test_dataset = test_dataset.map(preprocess).batch(32).prefetch(tf.data.AUTOTUNE)"
      ]
    },
    {
      "cell_type": "code",
      "execution_count": null,
      "metadata": {
        "colab": {
          "base_uri": "https://localhost:8080/"
        },
        "id": "1rggLfUULzfM",
        "outputId": "22f52457-e87b-4d01-cdf5-139072b1c188"
      },
      "outputs": [
        {
          "output_type": "stream",
          "name": "stdout",
          "text": [
            "(9000, 32, 32, 3) (9000, 20)\n",
            "Epoch 1/5\n"
          ]
        },
        {
          "output_type": "stream",
          "name": "stderr",
          "text": [
            "/usr/local/lib/python3.11/dist-packages/keras/src/models/functional.py:237: UserWarning: The structure of `inputs` doesn't match the expected structure.\n",
            "Expected: ['keras_tensor_5994']\n",
            "Received: inputs=Tensor(shape=(None, 32, 32, 3))\n",
            "  warnings.warn(msg)\n"
          ]
        },
        {
          "output_type": "stream",
          "name": "stdout",
          "text": [
            "\u001b[1m282/282\u001b[0m \u001b[32m━━━━━━━━━━━━━━━━━━━━\u001b[0m\u001b[37m\u001b[0m \u001b[1m23s\u001b[0m 45ms/step - accuracy: 0.3454 - loss: 0.2221 - val_accuracy: 0.5170 - val_loss: 0.1284\n",
            "Epoch 2/5\n",
            "\u001b[1m282/282\u001b[0m \u001b[32m━━━━━━━━━━━━━━━━━━━━\u001b[0m\u001b[37m\u001b[0m \u001b[1m7s\u001b[0m 9ms/step - accuracy: 0.5999 - loss: 0.1025 - val_accuracy: 0.5330 - val_loss: 0.1239\n",
            "Epoch 3/5\n",
            "\u001b[1m282/282\u001b[0m \u001b[32m━━━━━━━━━━━━━━━━━━━━\u001b[0m\u001b[37m\u001b[0m \u001b[1m5s\u001b[0m 9ms/step - accuracy: 0.7077 - loss: 0.0794 - val_accuracy: 0.5200 - val_loss: 0.1256\n",
            "Epoch 4/5\n",
            "\u001b[1m282/282\u001b[0m \u001b[32m━━━━━━━━━━━━━━━━━━━━\u001b[0m\u001b[37m\u001b[0m \u001b[1m3s\u001b[0m 10ms/step - accuracy: 0.7654 - loss: 0.0648 - val_accuracy: 0.5480 - val_loss: 0.1274\n",
            "Epoch 5/5\n",
            "\u001b[1m282/282\u001b[0m \u001b[32m━━━━━━━━━━━━━━━━━━━━\u001b[0m\u001b[37m\u001b[0m \u001b[1m2s\u001b[0m 9ms/step - accuracy: 0.8214 - loss: 0.0549 - val_accuracy: 0.5350 - val_loss: 0.1405\n"
          ]
        }
      ],
      "source": [
        "resnet = ResNet50(input_tensor = Input(shape=(32, 32, 3)), weights='imagenet', include_top=False)\n",
        "resnet.trainable = False\n",
        "x = resnet.output\n",
        "x = GlobalMaxPooling2D()(x)\n",
        "x=Dense(256,activation='relu')(x)\n",
        "outputs = Dense(20, activation = 'sigmoid', name = 'output-layer')(x)\n",
        "model = Model(resnet.input, outputs, name = 'ResNet')\n",
        "model.compile(optimizer=keras.optimizers.Adam(0.001), loss = 'binary_crossentropy', metrics = ['accuracy'])\n",
        "print(X_train.shape, y_train.shape)\n",
        "history = model.fit(X_train, y_train, epochs=5, validation_data=(X_val, y_val))"
      ]
    },
    {
      "cell_type": "code",
      "source": [
        "import os"
      ],
      "metadata": {
        "id": "0A71uBpTjsgz"
      },
      "execution_count": null,
      "outputs": []
    },
    {
      "cell_type": "code",
      "source": [
        "\n",
        "model.save(\"resnet50_model.h5\")\n",
        "\n",
        "size_in_bytes = os.path.getsize(\"resnet50_model.h5\")\n",
        "size_in_mb = size_in_bytes / (1024 * 1024)\n",
        "print(f\"ResNet50 model size: {size_in_mb:.2f} MB\")"
      ],
      "metadata": {
        "colab": {
          "base_uri": "https://localhost:8080/"
        },
        "id": "JUeJalcLjutJ",
        "outputId": "e0ce0f2c-32b6-4293-d3df-819a464de1a8"
      },
      "execution_count": null,
      "outputs": [
        {
          "output_type": "stream",
          "name": "stderr",
          "text": [
            "WARNING:absl:You are saving your model as an HDF5 file via `model.save()` or `keras.saving.save_model(model)`. This file format is considered legacy. We recommend using instead the native Keras format, e.g. `model.save('my_model.keras')` or `keras.saving.save_model(model, 'my_model.keras')`. \n"
          ]
        },
        {
          "output_type": "stream",
          "name": "stdout",
          "text": [
            "ResNet50 model size: 96.60 MB\n"
          ]
        }
      ]
    },
    {
      "cell_type": "code",
      "execution_count": null,
      "metadata": {
        "colab": {
          "base_uri": "https://localhost:8080/"
        },
        "id": "NdhUa8gTvLMn",
        "outputId": "37b98ae8-77a7-4a4f-e0a0-729387c29eb3"
      },
      "outputs": [
        {
          "output_type": "stream",
          "name": "stdout",
          "text": [
            "\u001b[1m63/63\u001b[0m \u001b[32m━━━━━━━━━━━━━━━━━━━━\u001b[0m\u001b[37m\u001b[0m \u001b[1m2s\u001b[0m 35ms/step - accuracy: 0.5562 - loss: 0.1254\n",
            "Training Loss: 0.0561\n",
            "Training Accuracy: 0.8129\n",
            "Validation Loss: 0.1405\n",
            "Validation Accuracy: 0.5350\n",
            "Test Loss: 0.1248\n",
            "Test Accuracy: 0.5575\n"
          ]
        }
      ],
      "source": [
        "final_epoch = -1  # last epoch\n",
        "\n",
        "train_loss = history.history['loss'][final_epoch]\n",
        "train_accuracy = history.history['accuracy'][final_epoch]\n",
        "val_loss = history.history['val_loss'][final_epoch]\n",
        "val_accuracy = history.history['val_accuracy'][final_epoch]\n",
        "test_loss, test_accuracy = model.evaluate(X_test, y_test)\n",
        "\n",
        "print(f\"Training Loss: {train_loss:.4f}\")\n",
        "print(f\"Training Accuracy: {train_accuracy:.4f}\")\n",
        "print(f\"Validation Loss: {val_loss:.4f}\")\n",
        "print(f\"Validation Accuracy: {val_accuracy:.4f}\")\n",
        "print(f\"Test Loss: {test_loss:.4f}\")\n",
        "print(f\"Test Accuracy: {test_accuracy:.4f}\")"
      ]
    },
    {
      "cell_type": "markdown",
      "metadata": {
        "id": "8a9WaYknxFtm"
      },
      "source": [
        "###2. VGG16"
      ]
    },
    {
      "cell_type": "code",
      "execution_count": null,
      "metadata": {
        "id": "ai9799yTxFKB"
      },
      "outputs": [],
      "source": [
        "from keras.applications import VGG16"
      ]
    },
    {
      "cell_type": "code",
      "execution_count": null,
      "metadata": {
        "colab": {
          "base_uri": "https://localhost:8080/"
        },
        "id": "T9i5BOAIxUqy",
        "outputId": "09619ba2-3265-4722-b9e2-b7a994f8a248"
      },
      "outputs": [
        {
          "output_type": "stream",
          "name": "stdout",
          "text": [
            "Epoch 1/5\n"
          ]
        },
        {
          "output_type": "stream",
          "name": "stderr",
          "text": [
            "/usr/local/lib/python3.11/dist-packages/keras/src/models/functional.py:237: UserWarning: The structure of `inputs` doesn't match the expected structure.\n",
            "Expected: ['keras_tensor_6172']\n",
            "Received: inputs=Tensor(shape=(None, 32, 32, 3))\n",
            "  warnings.warn(msg)\n"
          ]
        },
        {
          "output_type": "stream",
          "name": "stdout",
          "text": [
            "\u001b[1m282/282\u001b[0m \u001b[32m━━━━━━━━━━━━━━━━━━━━\u001b[0m\u001b[37m\u001b[0m \u001b[1m9s\u001b[0m 24ms/step - accuracy: 0.2697 - loss: 0.9365 - val_accuracy: 0.4190 - val_loss: 0.2307\n",
            "Epoch 2/5\n",
            "\u001b[1m282/282\u001b[0m \u001b[32m━━━━━━━━━━━━━━━━━━━━\u001b[0m\u001b[37m\u001b[0m \u001b[1m5s\u001b[0m 10ms/step - accuracy: 0.5309 - loss: 0.1630 - val_accuracy: 0.4640 - val_loss: 0.1875\n",
            "Epoch 3/5\n",
            "\u001b[1m282/282\u001b[0m \u001b[32m━━━━━━━━━━━━━━━━━━━━\u001b[0m\u001b[37m\u001b[0m \u001b[1m3s\u001b[0m 10ms/step - accuracy: 0.6586 - loss: 0.1015 - val_accuracy: 0.4730 - val_loss: 0.1848\n",
            "Epoch 4/5\n",
            "\u001b[1m282/282\u001b[0m \u001b[32m━━━━━━━━━━━━━━━━━━━━\u001b[0m\u001b[37m\u001b[0m \u001b[1m3s\u001b[0m 10ms/step - accuracy: 0.7453 - loss: 0.0756 - val_accuracy: 0.4810 - val_loss: 0.1838\n",
            "Epoch 5/5\n",
            "\u001b[1m282/282\u001b[0m \u001b[32m━━━━━━━━━━━━━━━━━━━━\u001b[0m\u001b[37m\u001b[0m \u001b[1m3s\u001b[0m 9ms/step - accuracy: 0.8092 - loss: 0.0596 - val_accuracy: 0.4810 - val_loss: 0.1926\n"
          ]
        }
      ],
      "source": [
        "vgg16 = VGG16(input_tensor = Input(shape=(32, 32, 3)), weights='imagenet', include_top=False)\n",
        "vgg16.trainable = False\n",
        "x = vgg16.output\n",
        "x = GlobalMaxPooling2D()(x)\n",
        "x=Dense(256,activation='relu')(x)\n",
        "outputs = Dense(20, activation = 'sigmoid', name = 'output-layer')(x)\n",
        "model = Model(vgg16.input, outputs, name = 'ResNet')\n",
        "model.compile(optimizer=keras.optimizers.Adam(0.001), loss = 'binary_crossentropy', metrics = ['accuracy'])\n",
        "history = model.fit(X_train, y_train, epochs=5, validation_data=(X_val, y_val))"
      ]
    },
    {
      "cell_type": "code",
      "execution_count": null,
      "metadata": {
        "colab": {
          "base_uri": "https://localhost:8080/"
        },
        "id": "aH0Y6jSiQNf7",
        "outputId": "4ddd9666-cad9-44d8-858c-3d9fe7d3b622"
      },
      "outputs": [
        {
          "output_type": "stream",
          "name": "stdout",
          "text": [
            "\u001b[1m63/63\u001b[0m \u001b[32m━━━━━━━━━━━━━━━━━━━━\u001b[0m\u001b[37m\u001b[0m \u001b[1m1s\u001b[0m 16ms/step - accuracy: 0.4926 - loss: 0.1763\n",
            "Training Loss: 0.0623\n",
            "Training Accuracy: 0.7946\n",
            "Validation Loss: 0.1926\n",
            "Validation Accuracy: 0.4810\n",
            "Test Loss: 0.1718\n",
            "Test Accuracy: 0.5065\n"
          ]
        }
      ],
      "source": [
        "final_epoch = -1  # last epoch\n",
        "\n",
        "train_loss = history.history['loss'][final_epoch]\n",
        "train_accuracy = history.history['accuracy'][final_epoch]\n",
        "val_loss = history.history['val_loss'][final_epoch]\n",
        "val_accuracy = history.history['val_accuracy'][final_epoch]\n",
        "test_loss, test_accuracy = model.evaluate(X_test, y_test)\n",
        "\n",
        "print(f\"Training Loss: {train_loss:.4f}\")\n",
        "print(f\"Training Accuracy: {train_accuracy:.4f}\")\n",
        "print(f\"Validation Loss: {val_loss:.4f}\")\n",
        "print(f\"Validation Accuracy: {val_accuracy:.4f}\")\n",
        "print(f\"Test Loss: {test_loss:.4f}\")\n",
        "print(f\"Test Accuracy: {test_accuracy:.4f}\")"
      ]
    },
    {
      "cell_type": "code",
      "source": [
        "\n",
        "model.save(\"vgg16.h5\")\n",
        "\n",
        "size_in_bytes = os.path.getsize(\"vgg16.h5\")\n",
        "size_in_mb = size_in_bytes / (1024 * 1024)\n",
        "print(f\"VGG model size: {size_in_mb:.2f} MB\")"
      ],
      "metadata": {
        "colab": {
          "base_uri": "https://localhost:8080/"
        },
        "id": "i4LCBaF4k7uW",
        "outputId": "e52a25ad-cdd1-413d-bfc7-a2d7884471a0"
      },
      "execution_count": null,
      "outputs": [
        {
          "output_type": "stream",
          "name": "stderr",
          "text": [
            "WARNING:absl:You are saving your model as an HDF5 file via `model.save()` or `keras.saving.save_model(model)`. This file format is considered legacy. We recommend using instead the native Keras format, e.g. `model.save('my_model.keras')` or `keras.saving.save_model(model, 'my_model.keras')`. \n"
          ]
        },
        {
          "output_type": "stream",
          "name": "stdout",
          "text": [
            "VGG model size: 57.78 MB\n"
          ]
        }
      ]
    },
    {
      "cell_type": "markdown",
      "metadata": {
        "id": "23exiXmvQRBc"
      },
      "source": [
        "###3. VGG19"
      ]
    },
    {
      "cell_type": "code",
      "execution_count": null,
      "metadata": {
        "id": "q6Kp0oJZQUm3"
      },
      "outputs": [],
      "source": [
        "from keras.applications import VGG19"
      ]
    },
    {
      "cell_type": "code",
      "execution_count": null,
      "metadata": {
        "colab": {
          "base_uri": "https://localhost:8080/"
        },
        "id": "2GJs6GZLQdUf",
        "outputId": "67648ba3-171e-41ef-e00c-ebda884c98e0"
      },
      "outputs": [
        {
          "output_type": "stream",
          "name": "stdout",
          "text": [
            "Epoch 1/5\n"
          ]
        },
        {
          "output_type": "stream",
          "name": "stderr",
          "text": [
            "/usr/local/lib/python3.11/dist-packages/keras/src/models/functional.py:237: UserWarning: The structure of `inputs` doesn't match the expected structure.\n",
            "Expected: ['keras_tensor_6194']\n",
            "Received: inputs=Tensor(shape=(None, 32, 32, 3))\n",
            "  warnings.warn(msg)\n"
          ]
        },
        {
          "output_type": "stream",
          "name": "stdout",
          "text": [
            "\u001b[1m282/282\u001b[0m \u001b[32m━━━━━━━━━━━━━━━━━━━━\u001b[0m\u001b[37m\u001b[0m \u001b[1m9s\u001b[0m 23ms/step - accuracy: 0.2658 - loss: 0.8857 - val_accuracy: 0.3850 - val_loss: 0.2319\n",
            "Epoch 2/5\n",
            "\u001b[1m282/282\u001b[0m \u001b[32m━━━━━━━━━━━━━━━━━━━━\u001b[0m\u001b[37m\u001b[0m \u001b[1m7s\u001b[0m 13ms/step - accuracy: 0.4959 - loss: 0.1617 - val_accuracy: 0.4170 - val_loss: 0.1934\n",
            "Epoch 3/5\n",
            "\u001b[1m282/282\u001b[0m \u001b[32m━━━━━━━━━━━━━━━━━━━━\u001b[0m\u001b[37m\u001b[0m \u001b[1m5s\u001b[0m 12ms/step - accuracy: 0.6222 - loss: 0.1095 - val_accuracy: 0.4740 - val_loss: 0.1782\n",
            "Epoch 4/5\n",
            "\u001b[1m282/282\u001b[0m \u001b[32m━━━━━━━━━━━━━━━━━━━━\u001b[0m\u001b[37m\u001b[0m \u001b[1m4s\u001b[0m 13ms/step - accuracy: 0.6918 - loss: 0.0865 - val_accuracy: 0.4770 - val_loss: 0.1750\n",
            "Epoch 5/5\n",
            "\u001b[1m282/282\u001b[0m \u001b[32m━━━━━━━━━━━━━━━━━━━━\u001b[0m\u001b[37m\u001b[0m \u001b[1m5s\u001b[0m 13ms/step - accuracy: 0.7683 - loss: 0.0683 - val_accuracy: 0.4970 - val_loss: 0.1767\n"
          ]
        }
      ],
      "source": [
        "vgg19 = VGG19(input_tensor = Input(shape=(32, 32, 3)), weights='imagenet', include_top=False)\n",
        "vgg19.trainable = False\n",
        "x = vgg19.output\n",
        "x = GlobalMaxPooling2D()(x)\n",
        "x=Dense(256,activation='relu')(x)\n",
        "outputs = Dense(20, activation = 'sigmoid', name = 'output-layer')(x)\n",
        "model = Model(vgg19.input, outputs, name = 'ResNet')\n",
        "model.compile(optimizer=keras.optimizers.Adam(0.001), loss = 'binary_crossentropy', metrics = ['accuracy'])\n",
        "history = model.fit(X_train, y_train, epochs=5, validation_data=(X_val, y_val))"
      ]
    },
    {
      "cell_type": "code",
      "execution_count": null,
      "metadata": {
        "colab": {
          "base_uri": "https://localhost:8080/"
        },
        "id": "Z6NT-TzhQmWz",
        "outputId": "97db9b4f-2dc7-47d4-d104-8cfb5ddec963"
      },
      "outputs": [
        {
          "output_type": "stream",
          "name": "stdout",
          "text": [
            "\u001b[1m63/63\u001b[0m \u001b[32m━━━━━━━━━━━━━━━━━━━━\u001b[0m\u001b[37m\u001b[0m \u001b[1m1s\u001b[0m 20ms/step - accuracy: 0.5038 - loss: 0.1679\n",
            "Training Loss: 0.0726\n",
            "Training Accuracy: 0.7492\n",
            "Validation Loss: 0.1767\n",
            "Validation Accuracy: 0.4970\n",
            "Test Loss: 0.1656\n",
            "Test Accuracy: 0.5085\n"
          ]
        }
      ],
      "source": [
        "final_epoch = -1\n",
        "\n",
        "train_loss = history.history['loss'][final_epoch]\n",
        "train_accuracy = history.history['accuracy'][final_epoch]\n",
        "val_loss = history.history['val_loss'][final_epoch]\n",
        "val_accuracy = history.history['val_accuracy'][final_epoch]\n",
        "test_loss, test_accuracy = model.evaluate(X_test, y_test)\n",
        "\n",
        "print(f\"Training Loss: {train_loss:.4f}\")\n",
        "print(f\"Training Accuracy: {train_accuracy:.4f}\")\n",
        "print(f\"Validation Loss: {val_loss:.4f}\")\n",
        "print(f\"Validation Accuracy: {val_accuracy:.4f}\")\n",
        "print(f\"Test Loss: {test_loss:.4f}\")\n",
        "print(f\"Test Accuracy: {test_accuracy:.4f}\")"
      ]
    },
    {
      "cell_type": "code",
      "source": [
        "\n",
        "model.save(\"vgg19.h5\")\n",
        "\n",
        "size_in_bytes = os.path.getsize(\"vgg19.h5\")\n",
        "size_in_mb = size_in_bytes / (1024 * 1024)\n",
        "print(f\"VGG model size: {size_in_mb:.2f} MB\")"
      ],
      "metadata": {
        "colab": {
          "base_uri": "https://localhost:8080/"
        },
        "id": "Bgmej8v7lYKJ",
        "outputId": "f2f2041a-8ad2-43d6-d97f-64d104976f00"
      },
      "execution_count": null,
      "outputs": [
        {
          "output_type": "stream",
          "name": "stderr",
          "text": [
            "WARNING:absl:You are saving your model as an HDF5 file via `model.save()` or `keras.saving.save_model(model)`. This file format is considered legacy. We recommend using instead the native Keras format, e.g. `model.save('my_model.keras')` or `keras.saving.save_model(model, 'my_model.keras')`. \n"
          ]
        },
        {
          "output_type": "stream",
          "name": "stdout",
          "text": [
            "VGG model size: 78.05 MB\n"
          ]
        }
      ]
    },
    {
      "cell_type": "markdown",
      "metadata": {
        "id": "C5FY6f-GQvQ_"
      },
      "source": [
        "### 4. DenseNet"
      ]
    },
    {
      "cell_type": "code",
      "execution_count": null,
      "metadata": {
        "id": "E3NtB96NQuoJ"
      },
      "outputs": [],
      "source": [
        "from keras.applications import DenseNet121"
      ]
    },
    {
      "cell_type": "code",
      "execution_count": null,
      "metadata": {
        "id": "ZzMiTpHdV3sV",
        "colab": {
          "base_uri": "https://localhost:8080/"
        },
        "outputId": "ac8bc5bc-1607-4428-cb37-887543057063"
      },
      "outputs": [
        {
          "output_type": "stream",
          "name": "stdout",
          "text": [
            "Epoch 1/5\n"
          ]
        },
        {
          "output_type": "stream",
          "name": "stderr",
          "text": [
            "/usr/local/lib/python3.11/dist-packages/keras/src/models/functional.py:237: UserWarning: The structure of `inputs` doesn't match the expected structure.\n",
            "Expected: ['keras_tensor_6219']\n",
            "Received: inputs=Tensor(shape=(None, 32, 32, 3))\n",
            "  warnings.warn(msg)\n"
          ]
        },
        {
          "output_type": "stream",
          "name": "stdout",
          "text": [
            "\u001b[1m282/282\u001b[0m \u001b[32m━━━━━━━━━━━━━━━━━━━━\u001b[0m\u001b[37m\u001b[0m \u001b[1m60s\u001b[0m 128ms/step - accuracy: 0.1947 - loss: 0.4435 - val_accuracy: 0.3450 - val_loss: 0.1702\n",
            "Epoch 2/5\n",
            "\u001b[1m282/282\u001b[0m \u001b[32m━━━━━━━━━━━━━━━━━━━━\u001b[0m\u001b[37m\u001b[0m \u001b[1m41s\u001b[0m 15ms/step - accuracy: 0.3966 - loss: 0.1529 - val_accuracy: 0.3920 - val_loss: 0.1514\n",
            "Epoch 3/5\n",
            "\u001b[1m282/282\u001b[0m \u001b[32m━━━━━━━━━━━━━━━━━━━━\u001b[0m\u001b[37m\u001b[0m \u001b[1m5s\u001b[0m 13ms/step - accuracy: 0.4629 - loss: 0.1359 - val_accuracy: 0.4150 - val_loss: 0.1442\n",
            "Epoch 4/5\n",
            "\u001b[1m282/282\u001b[0m \u001b[32m━━━━━━━━━━━━━━━━━━━━\u001b[0m\u001b[37m\u001b[0m \u001b[1m5s\u001b[0m 14ms/step - accuracy: 0.5002 - loss: 0.1256 - val_accuracy: 0.4400 - val_loss: 0.1406\n",
            "Epoch 5/5\n",
            "\u001b[1m282/282\u001b[0m \u001b[32m━━━━━━━━━━━━━━━━━━━━\u001b[0m\u001b[37m\u001b[0m \u001b[1m4s\u001b[0m 16ms/step - accuracy: 0.5433 - loss: 0.1163 - val_accuracy: 0.4370 - val_loss: 0.1447\n"
          ]
        }
      ],
      "source": [
        "densenet = DenseNet121(input_tensor = Input(shape=(32, 32, 3)), weights='imagenet', include_top=False)\n",
        "densenet.trainable = False\n",
        "x = densenet.output\n",
        "x = GlobalMaxPooling2D()(x)\n",
        "x=Dense(256,activation='relu')(x)\n",
        "outputs = Dense(20, activation = 'sigmoid', name = 'output-layer')(x)\n",
        "model = Model(densenet.input, outputs, name = 'ResNet')\n",
        "model.compile(optimizer=keras.optimizers.Adam(0.001), loss = 'binary_crossentropy', metrics = ['accuracy'])\n",
        "history = model.fit(X_train, y_train, epochs=5, validation_data=(X_val, y_val))"
      ]
    },
    {
      "cell_type": "code",
      "execution_count": null,
      "metadata": {
        "id": "_udViJhFWMC7",
        "colab": {
          "base_uri": "https://localhost:8080/"
        },
        "outputId": "4fb4da22-64ee-4c23-f9ec-ef1963194541"
      },
      "outputs": [
        {
          "output_type": "stream",
          "name": "stdout",
          "text": [
            "\u001b[1m63/63\u001b[0m \u001b[32m━━━━━━━━━━━━━━━━━━━━\u001b[0m\u001b[37m\u001b[0m \u001b[1m7s\u001b[0m 110ms/step - accuracy: 0.4742 - loss: 0.1332\n",
            "Training Loss: 0.1185\n",
            "Training Accuracy: 0.5312\n",
            "Validation Loss: 0.1447\n",
            "Validation Accuracy: 0.4370\n",
            "Test Loss: 0.1352\n",
            "Test Accuracy: 0.4740\n"
          ]
        }
      ],
      "source": [
        "final_epoch = -1\n",
        "\n",
        "train_loss = history.history['loss'][final_epoch]\n",
        "train_accuracy = history.history['accuracy'][final_epoch]\n",
        "val_loss = history.history['val_loss'][final_epoch]\n",
        "val_accuracy = history.history['val_accuracy'][final_epoch]\n",
        "test_loss, test_accuracy = model.evaluate(X_test, y_test)\n",
        "\n",
        "print(f\"Training Loss: {train_loss:.4f}\")\n",
        "print(f\"Training Accuracy: {train_accuracy:.4f}\")\n",
        "print(f\"Validation Loss: {val_loss:.4f}\")\n",
        "print(f\"Validation Accuracy: {val_accuracy:.4f}\")\n",
        "print(f\"Test Loss: {test_loss:.4f}\")\n",
        "print(f\"Test Accuracy: {test_accuracy:.4f}\")"
      ]
    },
    {
      "cell_type": "code",
      "source": [
        "\n",
        "model.save(\"densnet121.h5\")\n",
        "\n",
        "size_in_bytes = os.path.getsize(\"densnet121.h5\")\n",
        "size_in_mb = size_in_bytes / (1024 * 1024)\n",
        "print(f\"VGG model size: {size_in_mb:.2f} MB\")"
      ],
      "metadata": {
        "colab": {
          "base_uri": "https://localhost:8080/"
        },
        "id": "IqTRiEPslfaq",
        "outputId": "f18fa770-7f4e-4691-915d-026a035b262c"
      },
      "execution_count": null,
      "outputs": [
        {
          "output_type": "stream",
          "name": "stderr",
          "text": [
            "WARNING:absl:You are saving your model as an HDF5 file via `model.save()` or `keras.saving.save_model(model)`. This file format is considered legacy. We recommend using instead the native Keras format, e.g. `model.save('my_model.keras')` or `keras.saving.save_model(model, 'my_model.keras')`. \n"
          ]
        },
        {
          "output_type": "stream",
          "name": "stdout",
          "text": [
            "VGG model size: 31.17 MB\n"
          ]
        }
      ]
    },
    {
      "cell_type": "markdown",
      "metadata": {
        "id": "zv6Vc-QeWSOc"
      },
      "source": [
        "### 5. MobileNet"
      ]
    },
    {
      "cell_type": "code",
      "execution_count": null,
      "metadata": {
        "id": "Oxq5lQ1CWW0J"
      },
      "outputs": [],
      "source": [
        "from keras.applications import MobileNet"
      ]
    },
    {
      "cell_type": "code",
      "execution_count": null,
      "metadata": {
        "id": "VHLMeXoEXGj8",
        "colab": {
          "base_uri": "https://localhost:8080/"
        },
        "outputId": "2a1eb5d8-23dc-45bd-b415-9d8ce7cfe717"
      },
      "outputs": [
        {
          "output_type": "stream",
          "name": "stderr",
          "text": [
            "<ipython-input-150-e1fff43893b0>:1: UserWarning: `input_shape` is undefined or non-square, or `rows` is not in [128, 160, 192, 224]. Weights for input shape (224, 224) will be loaded as the default.\n",
            "  mobilenet = MobileNet(input_tensor = Input(shape=(32, 32, 3)), weights='imagenet', include_top=False)\n"
          ]
        },
        {
          "output_type": "stream",
          "name": "stdout",
          "text": [
            "Epoch 1/5\n"
          ]
        },
        {
          "output_type": "stream",
          "name": "stderr",
          "text": [
            "/usr/local/lib/python3.11/dist-packages/keras/src/models/functional.py:237: UserWarning: The structure of `inputs` doesn't match the expected structure.\n",
            "Expected: ['keras_tensor_6649']\n",
            "Received: inputs=Tensor(shape=(None, 32, 32, 3))\n",
            "  warnings.warn(msg)\n"
          ]
        },
        {
          "output_type": "stream",
          "name": "stdout",
          "text": [
            "\u001b[1m282/282\u001b[0m \u001b[32m━━━━━━━━━━━━━━━━━━━━\u001b[0m\u001b[37m\u001b[0m \u001b[1m14s\u001b[0m 33ms/step - accuracy: 0.0605 - loss: 0.3241 - val_accuracy: 0.0940 - val_loss: 0.2011\n",
            "Epoch 2/5\n",
            "\u001b[1m282/282\u001b[0m \u001b[32m━━━━━━━━━━━━━━━━━━━━\u001b[0m\u001b[37m\u001b[0m \u001b[1m11s\u001b[0m 6ms/step - accuracy: 0.0980 - loss: 0.1998 - val_accuracy: 0.1170 - val_loss: 0.1947\n",
            "Epoch 3/5\n",
            "\u001b[1m282/282\u001b[0m \u001b[32m━━━━━━━━━━━━━━━━━━━━\u001b[0m\u001b[37m\u001b[0m \u001b[1m2s\u001b[0m 6ms/step - accuracy: 0.1189 - loss: 0.1933 - val_accuracy: 0.1240 - val_loss: 0.1913\n",
            "Epoch 4/5\n",
            "\u001b[1m282/282\u001b[0m \u001b[32m━━━━━━━━━━━━━━━━━━━━\u001b[0m\u001b[37m\u001b[0m \u001b[1m2s\u001b[0m 6ms/step - accuracy: 0.1229 - loss: 0.1906 - val_accuracy: 0.1290 - val_loss: 0.1904\n",
            "Epoch 5/5\n",
            "\u001b[1m282/282\u001b[0m \u001b[32m━━━━━━━━━━━━━━━━━━━━\u001b[0m\u001b[37m\u001b[0m \u001b[1m3s\u001b[0m 6ms/step - accuracy: 0.1262 - loss: 0.1901 - val_accuracy: 0.1300 - val_loss: 0.1904\n"
          ]
        }
      ],
      "source": [
        "mobilenet = MobileNet(input_tensor = Input(shape=(32, 32, 3)), weights='imagenet', include_top=False)\n",
        "mobilenet.trainable = False\n",
        "x = mobilenet.output\n",
        "x = GlobalMaxPooling2D()(x)\n",
        "x=Dense(256,activation='relu')(x)\n",
        "outputs = Dense(20, activation = 'sigmoid', name = 'output-layer')(x)\n",
        "model = Model(mobilenet.input, outputs, name = 'ResNet')\n",
        "model.compile(optimizer=keras.optimizers.Adam(0.001), loss = 'binary_crossentropy', metrics = ['accuracy'])\n",
        "history = model.fit(X_train, y_train, epochs=5, validation_data=(X_val, y_val))"
      ]
    },
    {
      "cell_type": "code",
      "execution_count": null,
      "metadata": {
        "id": "r9V84kc6XPhW",
        "colab": {
          "base_uri": "https://localhost:8080/"
        },
        "outputId": "e83d23ae-311a-4e74-b955-f40a493100f3"
      },
      "outputs": [
        {
          "output_type": "stream",
          "name": "stdout",
          "text": [
            "\u001b[1m63/63\u001b[0m \u001b[32m━━━━━━━━━━━━━━━━━━━━\u001b[0m\u001b[37m\u001b[0m \u001b[1m2s\u001b[0m 27ms/step - accuracy: 0.1120 - loss: 0.1919\n",
            "Training Loss: 0.1901\n",
            "Training Accuracy: 0.1249\n",
            "Validation Loss: 0.1904\n",
            "Validation Accuracy: 0.1300\n",
            "Test Loss: 0.1911\n"
          ]
        }
      ],
      "source": [
        "final_epoch = -1\n",
        "\n",
        "train_loss = history.history['loss'][final_epoch]\n",
        "train_accuracy = history.history['accuracy'][final_epoch]\n",
        "val_loss = history.history['val_loss'][final_epoch]\n",
        "val_accuracy = history.history['val_accuracy'][final_epoch]\n",
        "test_loss, test_accuracy = model.evaluate(X_test, y_test)\n",
        "\n",
        "print(f\"Training Loss: {train_loss:.4f}\")\n",
        "print(f\"Training Accuracy: {train_accuracy:.4f}\")\n",
        "print(f\"Validation Loss: {val_loss:.4f}\")\n",
        "print(f\"Validation Accuracy: {val_accuracy:.4f}\")\n",
        "print(f\"Test Loss: {test_loss:.4f}\")"
      ]
    },
    {
      "cell_type": "code",
      "source": [
        "model.save(\"mobilenet.h5\")\n",
        "\n",
        "size_in_bytes = os.path.getsize(\"mobilenet.h5\")\n",
        "size_in_mb = size_in_bytes / (1024 * 1024)\n",
        "print(f\"mobilenet model size: {size_in_mb:.2f} MB\")"
      ],
      "metadata": {
        "colab": {
          "base_uri": "https://localhost:8080/"
        },
        "id": "YJBByUyQlo0P",
        "outputId": "65060124-c4fb-4dd1-88aa-1176413024ec"
      },
      "execution_count": null,
      "outputs": [
        {
          "output_type": "stream",
          "name": "stderr",
          "text": [
            "WARNING:absl:You are saving your model as an HDF5 file via `model.save()` or `keras.saving.save_model(model)`. This file format is considered legacy. We recommend using instead the native Keras format, e.g. `model.save('my_model.keras')` or `keras.saving.save_model(model, 'my_model.keras')`. \n"
          ]
        },
        {
          "output_type": "stream",
          "name": "stdout",
          "text": [
            "mobilenet model size: 15.66 MB\n"
          ]
        }
      ]
    },
    {
      "cell_type": "markdown",
      "metadata": {
        "id": "ywWZjqRcXfH4"
      },
      "source": [
        "### 6. MobileNetV2"
      ]
    },
    {
      "cell_type": "code",
      "execution_count": null,
      "metadata": {
        "id": "6iRUoc2sXj9P"
      },
      "outputs": [],
      "source": [
        "from keras.applications import MobileNetV2"
      ]
    },
    {
      "cell_type": "code",
      "execution_count": null,
      "metadata": {
        "id": "4eviJuOJXokX",
        "colab": {
          "base_uri": "https://localhost:8080/"
        },
        "outputId": "70cfd235-5df7-4f52-8009-e28b1c300096"
      },
      "outputs": [
        {
          "output_type": "stream",
          "name": "stderr",
          "text": [
            "<ipython-input-154-127876af6909>:1: UserWarning: `input_shape` is undefined or non-square, or `rows` is not in [96, 128, 160, 192, 224]. Weights for input shape (224, 224) will be loaded as the default.\n",
            "  mobilenetV2 = MobileNetV2(input_tensor = Input(shape=(32, 32, 3)), weights='imagenet', include_top=False)\n"
          ]
        },
        {
          "output_type": "stream",
          "name": "stdout",
          "text": [
            "Epoch 1/5\n"
          ]
        },
        {
          "output_type": "stream",
          "name": "stderr",
          "text": [
            "/usr/local/lib/python3.11/dist-packages/keras/src/models/functional.py:237: UserWarning: The structure of `inputs` doesn't match the expected structure.\n",
            "Expected: ['keras_tensor_6738']\n",
            "Received: inputs=Tensor(shape=(None, 32, 32, 3))\n",
            "  warnings.warn(msg)\n"
          ]
        },
        {
          "output_type": "stream",
          "name": "stdout",
          "text": [
            "\u001b[1m282/282\u001b[0m \u001b[32m━━━━━━━━━━━━━━━━━━━━\u001b[0m\u001b[37m\u001b[0m \u001b[1m19s\u001b[0m 39ms/step - accuracy: 0.0577 - loss: 0.3682 - val_accuracy: 0.1060 - val_loss: 0.1981\n",
            "Epoch 2/5\n",
            "\u001b[1m282/282\u001b[0m \u001b[32m━━━━━━━━━━━━━━━━━━━━\u001b[0m\u001b[37m\u001b[0m \u001b[1m2s\u001b[0m 9ms/step - accuracy: 0.1091 - loss: 0.1956 - val_accuracy: 0.1230 - val_loss: 0.1917\n",
            "Epoch 3/5\n",
            "\u001b[1m282/282\u001b[0m \u001b[32m━━━━━━━━━━━━━━━━━━━━\u001b[0m\u001b[37m\u001b[0m \u001b[1m2s\u001b[0m 8ms/step - accuracy: 0.1306 - loss: 0.1903 - val_accuracy: 0.1300 - val_loss: 0.1907\n",
            "Epoch 4/5\n",
            "\u001b[1m282/282\u001b[0m \u001b[32m━━━━━━━━━━━━━━━━━━━━\u001b[0m\u001b[37m\u001b[0m \u001b[1m2s\u001b[0m 7ms/step - accuracy: 0.1334 - loss: 0.1885 - val_accuracy: 0.1250 - val_loss: 0.1904\n",
            "Epoch 5/5\n",
            "\u001b[1m282/282\u001b[0m \u001b[32m━━━━━━━━━━━━━━━━━━━━\u001b[0m\u001b[37m\u001b[0m \u001b[1m2s\u001b[0m 7ms/step - accuracy: 0.1400 - loss: 0.1878 - val_accuracy: 0.1310 - val_loss: 0.1902\n"
          ]
        }
      ],
      "source": [
        "mobilenetV2 = MobileNetV2(input_tensor = Input(shape=(32, 32, 3)), weights='imagenet', include_top=False)\n",
        "mobilenetV2.trainable = False\n",
        "x = mobilenetV2.output\n",
        "x = GlobalMaxPooling2D()(x)\n",
        "x=Dense(256,activation='relu')(x)\n",
        "outputs = Dense(20, activation = 'sigmoid', name = 'output-layer')(x)\n",
        "model = Model(mobilenetV2.input, outputs, name = 'ResNet')\n",
        "model.compile(optimizer=keras.optimizers.Adam(0.001), loss = 'binary_crossentropy', metrics = ['accuracy'])\n",
        "history = model.fit(X_train, y_train, epochs=5, validation_data=(X_val, y_val))"
      ]
    },
    {
      "cell_type": "code",
      "execution_count": null,
      "metadata": {
        "id": "iqAUY1GbXvyw",
        "colab": {
          "base_uri": "https://localhost:8080/"
        },
        "outputId": "81f0aa44-b81b-421f-f270-9b537d3de368"
      },
      "outputs": [
        {
          "output_type": "stream",
          "name": "stdout",
          "text": [
            "\u001b[1m63/63\u001b[0m \u001b[32m━━━━━━━━━━━━━━━━━━━━\u001b[0m\u001b[37m\u001b[0m \u001b[1m2s\u001b[0m 35ms/step - accuracy: 0.1215 - loss: 0.1897\n",
            "Training Loss: 0.1877\n",
            "Training Accuracy: 0.1389\n",
            "Validation Loss: 0.1902\n",
            "Validation Accuracy: 0.1310\n",
            "Test Loss: 0.1901\n"
          ]
        }
      ],
      "source": [
        "final_epoch = -1\n",
        "\n",
        "train_loss = history.history['loss'][final_epoch]\n",
        "train_accuracy = history.history['accuracy'][final_epoch]\n",
        "val_loss = history.history['val_loss'][final_epoch]\n",
        "val_accuracy = history.history['val_accuracy'][final_epoch]\n",
        "test_loss, test_accuracy = model.evaluate(X_test, y_test)\n",
        "\n",
        "print(f\"Training Loss: {train_loss:.4f}\")\n",
        "print(f\"Training Accuracy: {train_accuracy:.4f}\")\n",
        "print(f\"Validation Loss: {val_loss:.4f}\")\n",
        "print(f\"Validation Accuracy: {val_accuracy:.4f}\")\n",
        "print(f\"Test Loss: {test_loss:.4f}\")"
      ]
    },
    {
      "cell_type": "code",
      "source": [
        "model.save(\"mobilenetv2.h5\")\n",
        "\n",
        "size_in_bytes = os.path.getsize(\"mobilenetv2.h5\")\n",
        "size_in_mb = size_in_bytes / (1024 * 1024)\n",
        "print(f\"mobilenetv2 model size: {size_in_mb:.2f} MB\")"
      ],
      "metadata": {
        "colab": {
          "base_uri": "https://localhost:8080/"
        },
        "id": "KUnvmtULlv95",
        "outputId": "f1f2066c-0e1e-44b6-84e7-b7a7ccd46859"
      },
      "execution_count": null,
      "outputs": [
        {
          "output_type": "stream",
          "name": "stderr",
          "text": [
            "WARNING:absl:You are saving your model as an HDF5 file via `model.save()` or `keras.saving.save_model(model)`. This file format is considered legacy. We recommend using instead the native Keras format, e.g. `model.save('my_model.keras')` or `keras.saving.save_model(model, 'my_model.keras')`. \n"
          ]
        },
        {
          "output_type": "stream",
          "name": "stdout",
          "text": [
            "mobilenetv2 model size: 12.94 MB\n"
          ]
        }
      ]
    },
    {
      "cell_type": "markdown",
      "metadata": {
        "id": "MACnnxUAXzj3"
      },
      "source": [
        "###7. NASNetMobile"
      ]
    },
    {
      "cell_type": "code",
      "execution_count": null,
      "metadata": {
        "id": "dwDNIFkZX5jU"
      },
      "outputs": [],
      "source": [
        "from keras.applications import NASNetMobile"
      ]
    },
    {
      "cell_type": "code",
      "execution_count": null,
      "metadata": {
        "id": "Li4X-L0pYLvz",
        "colab": {
          "base_uri": "https://localhost:8080/"
        },
        "outputId": "7e724030-27a7-458d-ed8e-71fe6093af7d"
      },
      "outputs": [
        {
          "output_type": "stream",
          "name": "stdout",
          "text": [
            "Epoch 1/5\n"
          ]
        },
        {
          "output_type": "stream",
          "name": "stderr",
          "text": [
            "/usr/local/lib/python3.11/dist-packages/keras/src/models/functional.py:237: UserWarning: The structure of `inputs` doesn't match the expected structure.\n",
            "Expected: ['keras_tensor_6895']\n",
            "Received: inputs=Tensor(shape=(None, 32, 32, 3))\n",
            "  warnings.warn(msg)\n"
          ]
        },
        {
          "output_type": "stream",
          "name": "stdout",
          "text": [
            "\u001b[1m282/282\u001b[0m \u001b[32m━━━━━━━━━━━━━━━━━━━━\u001b[0m\u001b[37m\u001b[0m \u001b[1m68s\u001b[0m 129ms/step - accuracy: 0.0966 - loss: 7.5430 - val_accuracy: 0.1350 - val_loss: 1.3513\n",
            "Epoch 2/5\n",
            "\u001b[1m282/282\u001b[0m \u001b[32m━━━━━━━━━━━━━━━━━━━━\u001b[0m\u001b[37m\u001b[0m \u001b[1m7s\u001b[0m 26ms/step - accuracy: 0.1423 - loss: 1.1001 - val_accuracy: 0.0970 - val_loss: 0.6022\n",
            "Epoch 3/5\n",
            "\u001b[1m282/282\u001b[0m \u001b[32m━━━━━━━━━━━━━━━━━━━━\u001b[0m\u001b[37m\u001b[0m \u001b[1m6s\u001b[0m 23ms/step - accuracy: 0.1167 - loss: 0.4820 - val_accuracy: 0.0730 - val_loss: 0.4277\n",
            "Epoch 4/5\n",
            "\u001b[1m282/282\u001b[0m \u001b[32m━━━━━━━━━━━━━━━━━━━━\u001b[0m\u001b[37m\u001b[0m \u001b[1m10s\u001b[0m 23ms/step - accuracy: 0.1269 - loss: 0.3210 - val_accuracy: 0.0630 - val_loss: 0.3282\n",
            "Epoch 5/5\n",
            "\u001b[1m282/282\u001b[0m \u001b[32m━━━━━━━━━━━━━━━━━━━━\u001b[0m\u001b[37m\u001b[0m \u001b[1m10s\u001b[0m 23ms/step - accuracy: 0.1124 - loss: 0.2592 - val_accuracy: 0.1010 - val_loss: 0.2582\n"
          ]
        }
      ],
      "source": [
        "nasnetmobile = NASNetMobile(input_tensor = Input(shape=(32, 32, 3)), weights='imagenet', include_top=False)\n",
        "nasnetmobile.trainable = False\n",
        "x = nasnetmobile.output\n",
        "x = GlobalMaxPooling2D()(x)\n",
        "x=Dense(256,activation='relu')(x)\n",
        "outputs = Dense(20, activation = 'sigmoid', name = 'output-layer')(x)\n",
        "model = Model(nasnetmobile.input, outputs, name = 'ResNet')\n",
        "model.compile(optimizer=keras.optimizers.Adam(0.001), loss = 'binary_crossentropy', metrics = ['accuracy'])\n",
        "history = model.fit(X_train, y_train, epochs=5, validation_data=(X_val, y_val))"
      ]
    },
    {
      "cell_type": "code",
      "execution_count": null,
      "metadata": {
        "id": "ZZyWtPluZCMp",
        "colab": {
          "base_uri": "https://localhost:8080/"
        },
        "outputId": "bfa62721-8972-4105-f0b5-50ee20020d08"
      },
      "outputs": [
        {
          "output_type": "stream",
          "name": "stdout",
          "text": [
            "\u001b[1m63/63\u001b[0m \u001b[32m━━━━━━━━━━━━━━━━━━━━\u001b[0m\u001b[37m\u001b[0m \u001b[1m8s\u001b[0m 124ms/step - accuracy: 0.1111 - loss: 0.2484\n",
            "Training Loss: 0.2506\n",
            "Training Accuracy: 0.1120\n",
            "Validation Loss: 0.2582\n",
            "Validation Accuracy: 0.1010\n",
            "Test Loss: 0.2496\n"
          ]
        }
      ],
      "source": [
        "final_epoch = -1\n",
        "\n",
        "train_loss = history.history['loss'][final_epoch]\n",
        "train_accuracy = history.history['accuracy'][final_epoch]\n",
        "val_loss = history.history['val_loss'][final_epoch]\n",
        "val_accuracy = history.history['val_accuracy'][final_epoch]\n",
        "test_loss, test_accuracy = model.evaluate(X_test, y_test)\n",
        "\n",
        "print(f\"Training Loss: {train_loss:.4f}\")\n",
        "print(f\"Training Accuracy: {train_accuracy:.4f}\")\n",
        "print(f\"Validation Loss: {val_loss:.4f}\")\n",
        "print(f\"Validation Accuracy: {val_accuracy:.4f}\")\n",
        "print(f\"Test Loss: {test_loss:.4f}\")"
      ]
    },
    {
      "cell_type": "code",
      "source": [
        "model.save(\"nasnetmobile.h5\")\n",
        "\n",
        "size_in_bytes = os.path.getsize(\"nasnetmobile.h5\")\n",
        "size_in_mb = size_in_bytes / (1024 * 1024)\n",
        "print(f\"nasnetmobile model size: {size_in_mb:.2f} MB\")"
      ],
      "metadata": {
        "colab": {
          "base_uri": "https://localhost:8080/"
        },
        "id": "R6v1HyDsl890",
        "outputId": "36365c92-0f7d-4634-ef36-b1d8505e26ab"
      },
      "execution_count": null,
      "outputs": [
        {
          "output_type": "stream",
          "name": "stderr",
          "text": [
            "WARNING:absl:You are saving your model as an HDF5 file via `model.save()` or `keras.saving.save_model(model)`. This file format is considered legacy. We recommend using instead the native Keras format, e.g. `model.save('my_model.keras')` or `keras.saving.save_model(model, 'my_model.keras')`. \n"
          ]
        },
        {
          "output_type": "stream",
          "name": "stdout",
          "text": [
            "nasnetmobile model size: 22.87 MB\n"
          ]
        }
      ]
    },
    {
      "cell_type": "markdown",
      "metadata": {
        "id": "fzXWrueiYrK1"
      },
      "source": [
        "###8. ResNet101"
      ]
    },
    {
      "cell_type": "code",
      "execution_count": null,
      "metadata": {
        "id": "-CAMjVkyZG70"
      },
      "outputs": [],
      "source": [
        "from keras.applications import ResNet101"
      ]
    },
    {
      "cell_type": "code",
      "execution_count": null,
      "metadata": {
        "id": "WYzsI8orZMhc",
        "colab": {
          "base_uri": "https://localhost:8080/"
        },
        "outputId": "906a8087-0aa3-4595-ea46-33b9e1267e96"
      },
      "outputs": [
        {
          "output_type": "stream",
          "name": "stdout",
          "text": [
            "Epoch 1/5\n"
          ]
        },
        {
          "output_type": "stream",
          "name": "stderr",
          "text": [
            "/usr/local/lib/python3.11/dist-packages/keras/src/models/functional.py:237: UserWarning: The structure of `inputs` doesn't match the expected structure.\n",
            "Expected: ['keras_tensor_7667']\n",
            "Received: inputs=Tensor(shape=(None, 32, 32, 3))\n",
            "  warnings.warn(msg)\n"
          ]
        },
        {
          "output_type": "stream",
          "name": "stdout",
          "text": [
            "\u001b[1m282/282\u001b[0m \u001b[32m━━━━━━━━━━━━━━━━━━━━\u001b[0m\u001b[37m\u001b[0m \u001b[1m43s\u001b[0m 78ms/step - accuracy: 0.3362 - loss: 0.2545 - val_accuracy: 0.5000 - val_loss: 0.1283\n",
            "Epoch 2/5\n",
            "\u001b[1m282/282\u001b[0m \u001b[32m━━━━━━━━━━━━━━━━━━━━\u001b[0m\u001b[37m\u001b[0m \u001b[1m6s\u001b[0m 19ms/step - accuracy: 0.6148 - loss: 0.1017 - val_accuracy: 0.5290 - val_loss: 0.1231\n",
            "Epoch 3/5\n",
            "\u001b[1m282/282\u001b[0m \u001b[32m━━━━━━━━━━━━━━━━━━━━\u001b[0m\u001b[37m\u001b[0m \u001b[1m5s\u001b[0m 18ms/step - accuracy: 0.6939 - loss: 0.0807 - val_accuracy: 0.5320 - val_loss: 0.1243\n",
            "Epoch 4/5\n",
            "\u001b[1m282/282\u001b[0m \u001b[32m━━━━━━━━━━━━━━━━━━━━\u001b[0m\u001b[37m\u001b[0m \u001b[1m5s\u001b[0m 18ms/step - accuracy: 0.7650 - loss: 0.0659 - val_accuracy: 0.5420 - val_loss: 0.1275\n",
            "Epoch 5/5\n",
            "\u001b[1m282/282\u001b[0m \u001b[32m━━━━━━━━━━━━━━━━━━━━\u001b[0m\u001b[37m\u001b[0m \u001b[1m5s\u001b[0m 19ms/step - accuracy: 0.8271 - loss: 0.0534 - val_accuracy: 0.5470 - val_loss: 0.1310\n"
          ]
        }
      ],
      "source": [
        "resnet101 = ResNet101(input_tensor = Input(shape=(32, 32, 3)), weights='imagenet', include_top=False)\n",
        "resnet101.trainable = False\n",
        "x = resnet101.output\n",
        "x = GlobalMaxPooling2D()(x)\n",
        "x=Dense(256,activation='relu')(x)\n",
        "outputs = Dense(20, activation = 'sigmoid', name = 'output-layer')(x)\n",
        "model = Model(resnet101.input, outputs, name = 'ResNet')\n",
        "model.compile(optimizer=keras.optimizers.Adam(0.001), loss = 'binary_crossentropy', metrics = ['accuracy'])\n",
        "history = model.fit(X_train, y_train, epochs=5, validation_data=(X_val, y_val))"
      ]
    },
    {
      "cell_type": "code",
      "execution_count": null,
      "metadata": {
        "id": "cvwVYrgyZ_JR",
        "colab": {
          "base_uri": "https://localhost:8080/"
        },
        "outputId": "a1b781ed-d304-4102-f309-4331067f17cc"
      },
      "outputs": [
        {
          "output_type": "stream",
          "name": "stdout",
          "text": [
            "\u001b[1m63/63\u001b[0m \u001b[32m━━━━━━━━━━━━━━━━━━━━\u001b[0m\u001b[37m\u001b[0m \u001b[1m6s\u001b[0m 94ms/step - accuracy: 0.5812 - loss: 0.1224\n",
            "Training Loss: 0.0558\n",
            "Training Accuracy: 0.8156\n",
            "Validation Loss: 0.1310\n",
            "Validation Accuracy: 0.5470\n",
            "Test Loss: 0.1256\n"
          ]
        }
      ],
      "source": [
        "final_epoch = -1\n",
        "\n",
        "train_loss = history.history['loss'][final_epoch]\n",
        "train_accuracy = history.history['accuracy'][final_epoch]\n",
        "val_loss = history.history['val_loss'][final_epoch]\n",
        "val_accuracy = history.history['val_accuracy'][final_epoch]\n",
        "test_loss, test_accuracy = model.evaluate(X_test, y_test)\n",
        "\n",
        "print(f\"Training Loss: {train_loss:.4f}\")\n",
        "print(f\"Training Accuracy: {train_accuracy:.4f}\")\n",
        "print(f\"Validation Loss: {val_loss:.4f}\")\n",
        "print(f\"Validation Accuracy: {val_accuracy:.4f}\")\n",
        "print(f\"Test Loss: {test_loss:.4f}\")"
      ]
    },
    {
      "cell_type": "code",
      "source": [
        "model.save(\"resnet101.h5\")\n",
        "\n",
        "size_in_bytes = os.path.getsize(\"resnet101.h5\")\n",
        "size_in_mb = size_in_bytes / (1024 * 1024)\n",
        "print(f\"resnet101 model size: {size_in_mb:.2f} MB\")"
      ],
      "metadata": {
        "colab": {
          "base_uri": "https://localhost:8080/"
        },
        "id": "ByZRaxWXmE17",
        "outputId": "b8fa91c1-1396-474e-a00c-30a31e792350"
      },
      "execution_count": null,
      "outputs": [
        {
          "output_type": "stream",
          "name": "stderr",
          "text": [
            "WARNING:absl:You are saving your model as an HDF5 file via `model.save()` or `keras.saving.save_model(model)`. This file format is considered legacy. We recommend using instead the native Keras format, e.g. `model.save('my_model.keras')` or `keras.saving.save_model(model, 'my_model.keras')`. \n"
          ]
        },
        {
          "output_type": "stream",
          "name": "stdout",
          "text": [
            "resnet101 model size: 169.88 MB\n"
          ]
        }
      ]
    },
    {
      "cell_type": "markdown",
      "metadata": {
        "id": "2b7s_ZREaHVv"
      },
      "source": [
        "###9. ConvNextSamll"
      ]
    },
    {
      "cell_type": "code",
      "execution_count": null,
      "metadata": {
        "id": "XFN2gE9laOEK"
      },
      "outputs": [],
      "source": [
        "from keras.applications import ConvNeXtSmall"
      ]
    },
    {
      "cell_type": "code",
      "execution_count": null,
      "metadata": {
        "id": "1hlcAzGsbi6k",
        "colab": {
          "base_uri": "https://localhost:8080/"
        },
        "outputId": "dbfd5ee9-e7d1-4d9a-a8a0-15269f7d93f8"
      },
      "outputs": [
        {
          "output_type": "stream",
          "name": "stdout",
          "text": [
            "Epoch 1/5\n"
          ]
        }
      ],
      "source": [
        "convnextsmall = ConvNeXtSmall(input_tensor = Input(shape=(32, 32, 3)), weights='imagenet', include_top=False)\n",
        "convnextsmall.trainable = False\n",
        "x = convnextsmall.output\n",
        "x = GlobalMaxPooling2D()(x)\n",
        "x=Dense(256,activation='relu')(x)\n",
        "outputs = Dense(20, activation = 'sigmoid', name = 'output-layer')(x)\n",
        "model = Model(convnextsmall.input, outputs, name = 'ResNet')\n",
        "model.compile(optimizer=keras.optimizers.Adam(0.001), loss = 'binary_crossentropy', metrics = ['accuracy'])\n",
        "history = model.fit(X_train, y_train, epochs=5, validation_data=(X_val, y_val))"
      ]
    },
    {
      "cell_type": "code",
      "execution_count": null,
      "metadata": {
        "id": "csypCnzUbsha"
      },
      "outputs": [],
      "source": [
        "final_epoch = -1\n",
        "\n",
        "train_loss = history.history['loss'][final_epoch]\n",
        "train_accuracy = history.history['accuracy'][final_epoch]\n",
        "val_loss = history.history['val_loss'][final_epoch]\n",
        "val_accuracy = history.history['val_accuracy'][final_epoch]\n",
        "test_loss, test_accuracy = model.evaluate(X_test, y_test)\n",
        "\n",
        "print(f\"Training Loss: {train_loss:.4f}\")\n",
        "print(f\"Training Accuracy: {train_accuracy:.4f}\")\n",
        "print(f\"Validation Loss: {val_loss:.4f}\")\n",
        "print(f\"Validation Accuracy: {val_accuracy:.4f}\")\n",
        "print(f\"Test Loss: {test_loss:.4f}\")"
      ]
    },
    {
      "cell_type": "code",
      "source": [
        "model.save(\"convnextsmall.h5\")\n",
        "\n",
        "size_in_bytes = os.path.getsize(\"convnextsmall.h5\")\n",
        "size_in_mb = size_in_bytes / (1024 * 1024)\n",
        "print(f\"convnextsmall model size: {size_in_mb:.2f} MB\")"
      ],
      "metadata": {
        "id": "Bt_ZE6O3mKou"
      },
      "execution_count": null,
      "outputs": []
    },
    {
      "cell_type": "markdown",
      "source": [
        "### 10. ConvNeXtBase"
      ],
      "metadata": {
        "id": "uphNWBpmQyuX"
      }
    },
    {
      "cell_type": "code",
      "source": [
        "from keras.applications import ConvNeXtBase"
      ],
      "metadata": {
        "id": "bz0gQT5CQwh2"
      },
      "execution_count": null,
      "outputs": []
    },
    {
      "cell_type": "code",
      "source": [
        "convnextbase = ConvNeXtBase(input_tensor = Input(shape=(32, 32, 3)), weights='imagenet', include_top=False)\n",
        "convnextbase.trainable = False\n",
        "x = convnextbase.output\n",
        "x = GlobalMaxPooling2D()(x)\n",
        "x=Dense(256,activation='relu')(x)\n",
        "outputs = Dense(20, activation = 'sigmoid', name = 'output-layer')(x)\n",
        "model = Model(convnextbase.input, outputs, name = 'ResNet')\n",
        "model.compile(optimizer=keras.optimizers.Adam(0.001), loss = 'binary_crossentropy', metrics = ['accuracy'])\n",
        "history = model.fit(X_train, y_train, epochs=5, validation_data=(X_val, y_val))"
      ],
      "metadata": {
        "id": "qFEWJzOuSgAH"
      },
      "execution_count": null,
      "outputs": []
    },
    {
      "cell_type": "code",
      "source": [
        "final_epoch = -1\n",
        "\n",
        "train_loss = history.history['loss'][final_epoch]\n",
        "train_accuracy = history.history['accuracy'][final_epoch]\n",
        "val_loss = history.history['val_loss'][final_epoch]\n",
        "val_accuracy = history.history['val_accuracy'][final_epoch]\n",
        "test_loss, test_accuracy = model.evaluate(X_test, y_test)\n",
        "\n",
        "print(f\"Training Loss: {train_loss:.4f}\")\n",
        "print(f\"Training Accuracy: {train_accuracy:.4f}\")\n",
        "print(f\"Validation Loss: {val_loss:.4f}\")\n",
        "print(f\"Validation Accuracy: {val_accuracy:.4f}\")\n",
        "print(f\"Test Loss: {test_loss:.4f}\")"
      ],
      "metadata": {
        "id": "ocOFbnx4So8Z"
      },
      "execution_count": null,
      "outputs": []
    },
    {
      "cell_type": "code",
      "source": [
        "model.save(\"convnextbase.h5\")\n",
        "\n",
        "size_in_bytes = os.path.getsize(\"convnextbase.h5\")\n",
        "size_in_mb = size_in_bytes / (1024 * 1024)\n",
        "print(f\"convnextbase model size: {size_in_mb:.2f} MB\")"
      ],
      "metadata": {
        "id": "wq9uNLHKmVbB"
      },
      "execution_count": null,
      "outputs": []
    }
  ],
  "metadata": {
    "accelerator": "GPU",
    "colab": {
      "gpuType": "T4",
      "provenance": []
    },
    "kernelspec": {
      "display_name": "Python 3",
      "name": "python3"
    },
    "language_info": {
      "name": "python"
    }
  },
  "nbformat": 4,
  "nbformat_minor": 0
}