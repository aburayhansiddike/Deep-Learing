{
 "cells": [
  {
   "cell_type": "code",
   "execution_count": null,
   "id": "5e53dc16",
   "metadata": {},
   "outputs": [],
   "source": [
    "# fine_tune_yolov8_widerface_split.py\n",
    "import os\n",
    "import shutil\n",
    "import random\n",
    "from pathlib import Path\n",
    "\n",
    "import cv2\n",
    "from tqdm import tqdm\n",
    "from ultralytics import YOLO\n",
    "from ultralytics.utils import LOGGER"
   ]
  },
  {
   "cell_type": "code",
   "execution_count": null,
   "id": "13afcc93",
   "metadata": {},
   "outputs": [],
   "source": [
    "WIDER_ROOT = Path(r\"D:\\sangita-mam\\assignment-07\\WIDER_ROOT\")  \n",
    "YOLO_ROOT = Path(r\"D:\\sangita-mam\\assignment-07\\widerface_yolo\")\n",
    "MODEL_WEIGHTS = r\"D:\\sangita-mam\\assignment-07\\yolov8n.pt\"  "
   ]
  },
  {
   "cell_type": "code",
   "execution_count": null,
   "id": "de4e7a07",
   "metadata": {},
   "outputs": [],
   "source": [
    "# Split ratio for train/val\n",
    "VAL_FRACTION = 0.10  # 10% validation\n",
    "\n",
    "# Filtering (optional)\n",
    "SKIP_INVALID = True      # ignore invalid==1 boxes\n",
    "MIN_BOX_SIZE = 10        # ignore very tiny boxes (<10 px)\n",
    "ALLOW_EMPTY_LABEL = True # write empty .txt if all boxes filtered (keeps image usable)\n",
    "\n",
    "# Training config\n",
    "IMGSZ = 640\n",
    "EPOCHS = 50\n",
    "BATCH = 4\n",
    "DEVICE = 0     # GPU index (e.g., 0) or \"cpu\"\n",
    "WORKERS = 0    # Windows/Jupyter-friendly\n",
    "AMP = True     # mixed precision to save VRAM"
   ]
  },
  {
   "cell_type": "code",
   "execution_count": null,
   "id": "7283db2e",
   "metadata": {},
   "outputs": [],
   "source": [
    "def ensure_dirs():\n",
    "    for split in [\"train\", \"val\"]:\n",
    "        (YOLO_ROOT / \"images\" / split).mkdir(parents=True, exist_ok=True)\n",
    "        (YOLO_ROOT / \"labels\" / split).mkdir(parents=True, exist_ok=True)"
   ]
  },
  {
   "cell_type": "code",
   "execution_count": null,
   "id": "08a59468",
   "metadata": {},
   "outputs": [],
   "source": [
    "def read_wider_train_list(wider_root: Path):\n",
    "    \"\"\"\n",
    "    Parse wider_face_train_bbx_gt.txt -> list of relative image paths.\n",
    "    \"\"\"\n",
    "    ann_file = wider_root / \"wider_face_split\" / \"wider_face_train_bbx_gt.txt\"\n",
    "    if not ann_file.exists():\n",
    "        raise FileNotFoundError(f\"Missing annotation file: {ann_file}\")\n",
    "\n",
    "    img_list = []\n",
    "    with open(ann_file, \"r\") as f:\n",
    "        lines = [l.strip() for l in f.readlines()]\n",
    "\n",
    "    i = 0\n",
    "    while i < len(lines):\n",
    "        rel_img_path = lines[i]; i += 1\n",
    "        n = int(lines[i]); i += 1\n",
    "        i += n  # skip bbox lines\n",
    "        img_list.append(rel_img_path)\n",
    "\n",
    "    return img_list"
   ]
  },
  {
   "cell_type": "code",
   "execution_count": null,
   "id": "a9bfad82",
   "metadata": {},
   "outputs": [],
   "source": [
    "def split_list(items, val_fraction=0.1, seed=42):\n",
    "    random.Random(seed).shuffle(items)\n",
    "    n_total = len(items)\n",
    "    n_val = int(round(n_total * val_fraction))\n",
    "    val_set = set(items[:n_val])\n",
    "    train_list = [x for x in items if x not in val_set]\n",
    "    val_list = [x for x in items if x in val_set]\n",
    "    return train_list, val_list\n",
    "\n",
    "def copy_image(src: Path, dst: Path):\n",
    "    dst.parent.mkdir(parents=True, exist_ok=True)\n",
    "    if not dst.exists():\n",
    "        shutil.copy2(src, dst)"
   ]
  },
  {
   "cell_type": "code",
   "execution_count": null,
   "id": "cab58976",
   "metadata": {},
   "outputs": [],
   "source": [
    "def convert_and_write_labels_for_split(wider_root: Path, rel_list, split_name: str):\n",
    "    \"\"\"\n",
    "    Stream through the annotation file again; convert only images in rel_list for this split.\n",
    "    Writes images to YOLO_ROOT/images/<split_name> and labels to YOLO_ROOT/labels/<split_name>.\n",
    "    \"\"\"\n",
    "    img_src_root = wider_root / \"WIDER_train\" / \"images\"\n",
    "    ann_file = wider_root / \"wider_face_split\" / \"wider_face_train_bbx_gt.txt\"\n",
    "\n",
    "    if not ann_file.exists():\n",
    "        raise FileNotFoundError(f\"Missing annotation file: {ann_file}\")\n",
    "    rel_set = set(rel_list)\n",
    "\n",
    "    with open(ann_file, \"r\") as f:\n",
    "        lines = [l.strip() for l in f.readlines()]\n",
    "\n",
    "    i = 0\n",
    "    pbar = tqdm(total=len(rel_list), desc=f\"Converting {split_name}\")\n",
    "    while i < len(lines):\n",
    "        rel_img = lines[i]; i += 1\n",
    "        n = int(lines[i]); i += 1\n",
    "\n",
    "        # If this image isn't in the split, skip its bbox lines\n",
    "        if rel_img not in rel_set:\n",
    "            i += n\n",
    "            continue\n",
    "\n",
    "        # Paths\n",
    "        src_img = img_src_root / rel_img\n",
    "        dst_img = YOLO_ROOT / \"images\" / split_name / Path(rel_img).name\n",
    "        dst_lbl = YOLO_ROOT / \"labels\" / split_name / (Path(rel_img).stem + \".txt\")\n",
    "\n",
    "        # Copy image\n",
    "        copy_image(src_img, dst_img)\n",
    "\n",
    "        # Read image to get size\n",
    "        img = cv2.imread(str(dst_img))\n",
    "        if img is None:\n",
    "            # consume bbox lines and skip\n",
    "            i += n\n",
    "            pbar.update(1)\n",
    "            continue\n",
    "        h, w = img.shape[:2]\n",
    "\n",
    "        yolo_lines = []\n",
    "        # Each bbox line: x y w h blur expression illumination invalid occlusion pose\n",
    "        for _ in range(n):\n",
    "            parts = lines[i].split()\n",
    "            i += 1\n",
    "            if len(parts) < 10:\n",
    "                continue\n",
    "\n",
    "            x, y, bw, bh = map(float, parts[:4])\n",
    "            blur, expr, illum, invalid, occ, pose = map(int, parts[4:10])\n",
    "\n",
    "            if SKIP_INVALID and invalid == 1:\n",
    "                continue\n",
    "            if bw <= 0 or bh <= 0:\n",
    "                continue\n",
    "            if MIN_BOX_SIZE and (bw < MIN_BOX_SIZE or bh < MIN_BOX_SIZE):\n",
    "                continue\n",
    "\n",
    "            # Convert to YOLO normalized (cx, cy, w, h)\n",
    "            cx = (x + bw / 2.0) / w\n",
    "            cy = (y + bh / 2.0) / h\n",
    "            nw = bw / w\n",
    "            nh = bh / h\n",
    "\n",
    "            # Clip to [0,1]\n",
    "            cx = min(max(cx, 0.0), 1.0)\n",
    "            cy = min(max(cy, 0.0), 1.0)\n",
    "            nw = min(max(nw, 0.0), 1.0)\n",
    "            nh = min(max(nh, 0.0), 1.0)\n",
    "\n",
    "            yolo_lines.append(f\"0 {cx:.6f} {cy:.6f} {nw:.6f} {nh:.6f}\")\n",
    "\n",
    "        # Write label file (possibly empty)\n",
    "        dst_lbl.parent.mkdir(parents=True, exist_ok=True)\n",
    "        if yolo_lines or ALLOW_EMPTY_LABEL:\n",
    "            with open(dst_lbl, \"w\") as lf:\n",
    "                lf.write(\"\\n\".join(yolo_lines))\n",
    "        else:\n",
    "            # Remove the image if we keep no label (optional)\n",
    "            try:\n",
    "                os.remove(dst_img)\n",
    "            except Exception:\n",
    "                pass\n",
    "\n",
    "        pbar.update(1)\n",
    "\n",
    "    pbar.close()"
   ]
  },
  {
   "cell_type": "code",
   "execution_count": null,
   "id": "ea9c95bf",
   "metadata": {},
   "outputs": [],
   "source": [
    "def write_dataset_yaml():\n",
    "    yaml_text = f\"\"\"# WIDER FACE (converted to YOLO format)\n",
    "path: {YOLO_ROOT.as_posix()}\n",
    "train: images/train\n",
    "val: images/val\n",
    "\n",
    "names:\n",
    "  0: face\n",
    "\"\"\"\n",
    "    yaml_path = YOLO_ROOT / \"widerface.yaml\"\n",
    "    with open(yaml_path, \"w\") as f:\n",
    "        f.write(yaml_text)\n",
    "    return yaml_path"
   ]
  },
  {
   "cell_type": "code",
   "execution_count": null,
   "id": "f4c32067",
   "metadata": {},
   "outputs": [],
   "source": [
    "# ----- robust scalar helper for epoch callback -----\n",
    "def _safe_scalar(x):\n",
    "    \"\"\"Return a Python float from tensor/dict/list scalars; else None.\"\"\"\n",
    "    try:\n",
    "        import torch\n",
    "        if isinstance(x, torch.Tensor):\n",
    "            return x.detach().float().mean().item()\n",
    "        if isinstance(x, (list, tuple)):\n",
    "            vals = [_safe_scalar(v) for v in x]\n",
    "            vals = [v for v in vals if v is not None]\n",
    "            return sum(vals) / max(1, len(vals)) if vals else None\n",
    "        if isinstance(x, dict):\n",
    "            vals = [_safe_scalar(v) for v in x.values()]\n",
    "            vals = [v for v in vals if v is not None]\n",
    "            return sum(vals) / max(1, len(vals)) if vals else None\n",
    "        return float(x)\n",
    "    except Exception:\n",
    "        return None"
   ]
  },
  {
   "cell_type": "code",
   "execution_count": null,
   "id": "3c605c77",
   "metadata": {},
   "outputs": [],
   "source": [
    "# ----- robust scalar helper for epoch callback -----\n",
    "def _safe_scalar(x):\n",
    "    \"\"\"Return a Python float from tensor/dict/list scalars; else None.\"\"\"\n",
    "    try:\n",
    "        import torch\n",
    "        if isinstance(x, torch.Tensor):\n",
    "            return x.detach().float().mean().item()\n",
    "        if isinstance(x, (list, tuple)):\n",
    "            vals = [_safe_scalar(v) for v in x]\n",
    "            vals = [v for v in vals if v is not None]\n",
    "            return sum(vals) / max(1, len(vals)) if vals else None\n",
    "        if isinstance(x, dict):\n",
    "            vals = [_safe_scalar(v) for v in x.values()]\n",
    "            vals = [v for v in vals if v is not None]\n",
    "            return sum(vals) / max(1, len(vals)) if vals else None\n",
    "        return float(x)\n",
    "    except Exception:\n",
    "        return None"
   ]
  },
  {
   "cell_type": "code",
   "execution_count": null,
   "id": "02d96dcd",
   "metadata": {},
   "outputs": [],
   "source": [
    "def train_yolov8(yaml_path):\n",
    "    print(\"\\n[Training] Starting YOLOv8 fine-tuning...\")\n",
    "    LOGGER.setLevel(\"INFO\")\n",
    "    model = YOLO(MODEL_WEIGHTS)\n",
    "\n",
    "    # Robust epoch-end print (works across Ultralytics versions)\n",
    "    def on_epoch_end(trainer):\n",
    "        epoch = trainer.epoch + 1\n",
    "        epochs = trainer.epochs\n",
    "        tloss = _safe_scalar(getattr(trainer, \"tloss\", None))\n",
    "        if tloss is None:\n",
    "            print(f\"[Epoch {epoch}/{epochs}] (loss unavailable)\")\n",
    "        else:\n",
    "            print(f\"[Epoch {epoch}/{epochs}] total_loss={tloss:.4f}\")\n",
    "\n",
    "    model.add_callback(\"on_train_epoch_end\", on_epoch_end)\n",
    "\n",
    "    results = model.train(\n",
    "        data=str(yaml_path),\n",
    "        imgsz=IMGSZ,\n",
    "        epochs=EPOCHS,\n",
    "        batch=BATCH,\n",
    "        device=DEVICE,\n",
    "        workers=WORKERS,   # Windows/Jupyter-friendly\n",
    "        project=\"runs_widerface_split\",\n",
    "        name=Path(MODEL_WEIGHTS).stem + f\"_faces_{IMGSZ}\",\n",
    "        verbose=True,\n",
    "        plots=True,\n",
    "        amp=AMP\n",
    "    )\n",
    "    print(\"[Training] Done.\")\n",
    "    return results"
   ]
  },
  {
   "cell_type": "code",
   "execution_count": null,
   "id": "f4104c7a",
   "metadata": {},
   "outputs": [],
   "source": [
    "def validate_and_sample(best_weights_path, yaml_path, n_samples=20):\n",
    "    print(\"\\n[Validate] Running validation on val split...\")\n",
    "    model = YOLO(best_weights_path)\n",
    "    model.val(data=str(yaml_path), imgsz=IMGSZ, device=DEVICE, workers=WORKERS)\n",
    "\n",
    "    # Save a handful of annotated validation images for visual check\n",
    "    val_dir = YOLO_ROOT / \"images\" / \"val\"\n",
    "    imgs = []\n",
    "    for root, _, files in os.walk(val_dir):\n",
    "        for f in files:\n",
    "            if f.lower().endswith((\".jpg\", \".jpeg\", \".png\")):\n",
    "                imgs.append(os.path.join(root, f))\n",
    "    random.shuffle(imgs)\n",
    "    imgs = imgs[:n_samples] if len(imgs) > n_samples else imgs\n",
    "\n",
    "    if imgs:\n",
    "        print(f\"[Predict] Saving {len(imgs)} annotated validation images...\")\n",
    "        model.predict(\n",
    "            source=imgs,\n",
    "            conf=0.25,\n",
    "            imgsz=IMGSZ,\n",
    "            device=DEVICE,\n",
    "            save=True,        # save annotated images\n",
    "            save_txt=False,\n",
    "            save_conf=True,\n",
    "            project=\"runs_widerface_split\",\n",
    "            name=\"val_samples\",   # runs_widerface_split/val_samples/\n",
    "            exist_ok=True,\n",
    "            workers=WORKERS\n",
    "        )\n",
    "        print(\"Annotated samples saved to: runs_widerface_split/val_samples/\")\n",
    "    else:\n",
    "        print(\"No images found in val set to sample.\")"
   ]
  },
  {
   "cell_type": "code",
   "execution_count": null,
   "id": "3b67b65d",
   "metadata": {},
   "outputs": [
    {
     "name": "stdout",
     "output_type": "stream",
     "text": [
      "Found 12880 training images listed in WIDER FACE.\n",
      "Split -> train: 11592, val: 1288\n"
     ]
    },
    {
     "name": "stderr",
     "output_type": "stream",
     "text": [
      "Converting train: 100%|██████████| 11592/11592 [02:14<00:00, 86.30it/s]\n",
      "Converting val: 100%|██████████| 1288/1288 [00:14<00:00, 86.64it/s]\n"
     ]
    },
    {
     "name": "stdout",
     "output_type": "stream",
     "text": [
      "Dataset YAML written to: D:\\sangita-mam\\assignment-07\\widerface_yolo\\widerface.yaml\n",
      "\n",
      "[Training] Starting YOLOv8 fine-tuning...\n",
      "New https://pypi.org/project/ultralytics/8.3.177 available  Update with 'pip install -U ultralytics'\n",
      "Ultralytics 8.3.175  Python-3.10.11 torch-2.5.1+cu121 CUDA:0 (NVIDIA GeForce GTX 1050 Ti, 4096MiB)\n",
      "\u001b[34m\u001b[1mengine\\trainer: \u001b[0magnostic_nms=False, amp=True, augment=False, auto_augment=randaugment, batch=4, bgr=0.0, box=7.5, cache=False, cfg=None, classes=None, close_mosaic=10, cls=0.5, conf=None, copy_paste=0.0, copy_paste_mode=flip, cos_lr=False, cutmix=0.0, data=D:\\sangita-mam\\assignment-07\\widerface_yolo\\widerface.yaml, degrees=0.0, deterministic=True, device=0, dfl=1.5, dnn=False, dropout=0.0, dynamic=False, embed=None, epochs=50, erasing=0.4, exist_ok=False, fliplr=0.5, flipud=0.0, format=torchscript, fraction=1.0, freeze=None, half=False, hsv_h=0.015, hsv_s=0.7, hsv_v=0.4, imgsz=640, int8=False, iou=0.7, keras=False, kobj=1.0, line_width=None, lr0=0.01, lrf=0.01, mask_ratio=4, max_det=300, mixup=0.0, mode=train, model=D:\\sangita-mam\\assignment-07\\yolov8n.pt, momentum=0.937, mosaic=1.0, multi_scale=False, name=yolov8n_faces_640, nbs=64, nms=False, opset=None, optimize=False, optimizer=auto, overlap_mask=True, patience=100, perspective=0.0, plots=True, pose=12.0, pretrained=True, profile=False, project=runs_widerface_split, rect=False, resume=False, retina_masks=False, save=True, save_conf=False, save_crop=False, save_dir=runs_widerface_split\\yolov8n_faces_640, save_frames=False, save_json=False, save_period=-1, save_txt=False, scale=0.5, seed=0, shear=0.0, show=False, show_boxes=True, show_conf=True, show_labels=True, simplify=True, single_cls=False, source=None, split=val, stream_buffer=False, task=detect, time=None, tracker=botsort.yaml, translate=0.1, val=True, verbose=True, vid_stride=1, visualize=False, warmup_bias_lr=0.1, warmup_epochs=3.0, warmup_momentum=0.8, weight_decay=0.0005, workers=0, workspace=None\n",
      "Overriding model.yaml nc=80 with nc=1\n",
      "\n",
      "                   from  n    params  module                                       arguments                     \n",
      "  0                  -1  1       464  ultralytics.nn.modules.conv.Conv             [3, 16, 3, 2]                 \n",
      "  1                  -1  1      4672  ultralytics.nn.modules.conv.Conv             [16, 32, 3, 2]                \n",
      "  2                  -1  1      7360  ultralytics.nn.modules.block.C2f             [32, 32, 1, True]             \n",
      "  3                  -1  1     18560  ultralytics.nn.modules.conv.Conv             [32, 64, 3, 2]                \n",
      "  4                  -1  2     49664  ultralytics.nn.modules.block.C2f             [64, 64, 2, True]             \n",
      "  5                  -1  1     73984  ultralytics.nn.modules.conv.Conv             [64, 128, 3, 2]               \n",
      "  6                  -1  2    197632  ultralytics.nn.modules.block.C2f             [128, 128, 2, True]           \n",
      "  7                  -1  1    295424  ultralytics.nn.modules.conv.Conv             [128, 256, 3, 2]              \n",
      "  8                  -1  1    460288  ultralytics.nn.modules.block.C2f             [256, 256, 1, True]           \n",
      "  9                  -1  1    164608  ultralytics.nn.modules.block.SPPF            [256, 256, 5]                 \n",
      " 10                  -1  1         0  torch.nn.modules.upsampling.Upsample         [None, 2, 'nearest']          \n",
      " 11             [-1, 6]  1         0  ultralytics.nn.modules.conv.Concat           [1]                           \n",
      " 12                  -1  1    148224  ultralytics.nn.modules.block.C2f             [384, 128, 1]                 \n",
      " 13                  -1  1         0  torch.nn.modules.upsampling.Upsample         [None, 2, 'nearest']          \n",
      " 14             [-1, 4]  1         0  ultralytics.nn.modules.conv.Concat           [1]                           \n",
      " 15                  -1  1     37248  ultralytics.nn.modules.block.C2f             [192, 64, 1]                  \n",
      " 16                  -1  1     36992  ultralytics.nn.modules.conv.Conv             [64, 64, 3, 2]                \n",
      " 17            [-1, 12]  1         0  ultralytics.nn.modules.conv.Concat           [1]                           \n",
      " 18                  -1  1    123648  ultralytics.nn.modules.block.C2f             [192, 128, 1]                 \n",
      " 19                  -1  1    147712  ultralytics.nn.modules.conv.Conv             [128, 128, 3, 2]              \n",
      " 20             [-1, 9]  1         0  ultralytics.nn.modules.conv.Concat           [1]                           \n",
      " 21                  -1  1    493056  ultralytics.nn.modules.block.C2f             [384, 256, 1]                 \n",
      " 22        [15, 18, 21]  1    751507  ultralytics.nn.modules.head.Detect           [1, [64, 128, 256]]           \n",
      "Model summary: 129 layers, 3,011,043 parameters, 3,011,027 gradients, 8.2 GFLOPs\n",
      "\n",
      "Transferred 319/355 items from pretrained weights\n",
      "Freezing layer 'model.22.dfl.conv.weight'\n",
      "\u001b[34m\u001b[1mAMP: \u001b[0mrunning Automatic Mixed Precision (AMP) checks...\n",
      "\u001b[34m\u001b[1mAMP: \u001b[0mchecks passed \n",
      "\u001b[34m\u001b[1mtrain: \u001b[0mFast image access  (ping: 0.00.0 ms, read: 746.1350.6 MB/s, size: 102.2 KB)\n"
     ]
    },
    {
     "name": "stderr",
     "output_type": "stream",
     "text": [
      "\u001b[34m\u001b[1mtrain: \u001b[0mScanning D:\\sangita-mam\\assignment-07\\widerface_yolo\\labels\\train.cache... 11592 images, 19 backgrounds, 0 corrupt: 100%|██████████| 11592/11592 [00:00<?, ?it/s]"
     ]
    },
    {
     "name": "stdout",
     "output_type": "stream",
     "text": [
      "\u001b[34m\u001b[1mval: \u001b[0mFast image access  (ping: 0.00.0 ms, read: 856.8474.6 MB/s, size: 103.8 KB)\n"
     ]
    },
    {
     "name": "stderr",
     "output_type": "stream",
     "text": [
      "\n",
      "\u001b[34m\u001b[1mval: \u001b[0mScanning D:\\sangita-mam\\assignment-07\\widerface_yolo\\labels\\val.cache... 1288 images, 2 backgrounds, 0 corrupt: 100%|██████████| 1288/1288 [00:00<?, ?it/s]"
     ]
    },
    {
     "name": "stdout",
     "output_type": "stream",
     "text": [
      "\u001b[34m\u001b[1mval: \u001b[0mD:\\sangita-mam\\assignment-07\\widerface_yolo\\images\\val\\2_Demonstration_Protesters_2_231.jpg: 1 duplicate labels removed\n"
     ]
    },
    {
     "name": "stderr",
     "output_type": "stream",
     "text": [
      "\n"
     ]
    },
    {
     "name": "stdout",
     "output_type": "stream",
     "text": [
      "Plotting labels to runs_widerface_split\\yolov8n_faces_640\\labels.jpg... \n",
      "\u001b[34m\u001b[1moptimizer:\u001b[0m 'optimizer=auto' found, ignoring 'lr0=0.01' and 'momentum=0.937' and determining best 'optimizer', 'lr0' and 'momentum' automatically... \n",
      "\u001b[34m\u001b[1moptimizer:\u001b[0m AdamW(lr=0.002, momentum=0.9) with parameter groups 57 weight(decay=0.0), 64 weight(decay=0.0005), 63 bias(decay=0.0)\n",
      "Image sizes 640 train, 640 val\n",
      "Using 0 dataloader workers\n",
      "Logging results to \u001b[1mruns_widerface_split\\yolov8n_faces_640\u001b[0m\n",
      "Starting training for 50 epochs...\n",
      "\n",
      "      Epoch    GPU_mem   box_loss   cls_loss   dfl_loss  Instances       Size\n"
     ]
    },
    {
     "name": "stderr",
     "output_type": "stream",
     "text": [
      "       1/50      1.78G      1.805      1.427      1.179         20        640: 100%|██████████| 2898/2898 [13:23<00:00,  3.61it/s]\n"
     ]
    },
    {
     "name": "stdout",
     "output_type": "stream",
     "text": [
      "[Epoch 1/50] total_loss=1.4702\n"
     ]
    },
    {
     "name": "stderr",
     "output_type": "stream",
     "text": [
      "                 Class     Images  Instances      Box(P          R      mAP50  mAP50-95): 100%|██████████| 161/161 [00:24<00:00,  6.47it/s]\n"
     ]
    },
    {
     "name": "stdout",
     "output_type": "stream",
     "text": [
      "                   all       1288      12515      0.741      0.545       0.62       0.32\n",
      "\n",
      "      Epoch    GPU_mem   box_loss   cls_loss   dfl_loss  Instances       Size\n"
     ]
    },
    {
     "name": "stderr",
     "output_type": "stream",
     "text": [
      "       2/50      2.58G      1.697      1.113      1.127        111        640: 100%|██████████| 2898/2898 [13:07<00:00,  3.68it/s]\n"
     ]
    },
    {
     "name": "stdout",
     "output_type": "stream",
     "text": [
      "[Epoch 2/50] total_loss=1.3126\n"
     ]
    },
    {
     "name": "stderr",
     "output_type": "stream",
     "text": [
      "                 Class     Images  Instances      Box(P          R      mAP50  mAP50-95): 100%|██████████| 161/161 [00:24<00:00,  6.56it/s]\n"
     ]
    },
    {
     "name": "stdout",
     "output_type": "stream",
     "text": [
      "                   all       1288      12515      0.797      0.563      0.655      0.336\n",
      "\n",
      "      Epoch    GPU_mem   box_loss   cls_loss   dfl_loss  Instances       Size\n"
     ]
    },
    {
     "name": "stderr",
     "output_type": "stream",
     "text": [
      "       3/50      1.76G      1.654      1.051      1.108         79        640: 100%|██████████| 2898/2898 [13:05<00:00,  3.69it/s]\n"
     ]
    },
    {
     "name": "stdout",
     "output_type": "stream",
     "text": [
      "[Epoch 3/50] total_loss=1.2708\n"
     ]
    },
    {
     "name": "stderr",
     "output_type": "stream",
     "text": [
      "                 Class     Images  Instances      Box(P          R      mAP50  mAP50-95): 100%|██████████| 161/161 [00:24<00:00,  6.56it/s]\n"
     ]
    },
    {
     "name": "stdout",
     "output_type": "stream",
     "text": [
      "                   all       1288      12515      0.795      0.601      0.685      0.353\n",
      "\n",
      "      Epoch    GPU_mem   box_loss   cls_loss   dfl_loss  Instances       Size\n"
     ]
    },
    {
     "name": "stderr",
     "output_type": "stream",
     "text": [
      "       4/50      1.76G       1.62      1.006      1.099         15        640: 100%|██████████| 2898/2898 [12:56<00:00,  3.73it/s]\n"
     ]
    },
    {
     "name": "stdout",
     "output_type": "stream",
     "text": [
      "[Epoch 4/50] total_loss=1.2413\n"
     ]
    },
    {
     "name": "stderr",
     "output_type": "stream",
     "text": [
      "                 Class     Images  Instances      Box(P          R      mAP50  mAP50-95): 100%|██████████| 161/161 [00:31<00:00,  5.04it/s]"
     ]
    },
    {
     "name": "stdout",
     "output_type": "stream",
     "text": [
      "                   all       1288      12515      0.827      0.604      0.701      0.372\n"
     ]
    },
    {
     "name": "stderr",
     "output_type": "stream",
     "text": [
      "\n"
     ]
    },
    {
     "name": "stdout",
     "output_type": "stream",
     "text": [
      "\n",
      "      Epoch    GPU_mem   box_loss   cls_loss   dfl_loss  Instances       Size\n"
     ]
    },
    {
     "name": "stderr",
     "output_type": "stream",
     "text": [
      "       5/50      1.76G      1.582      0.967      1.086        141        640: 100%|██████████| 2898/2898 [13:43<00:00,  3.52it/s]\n"
     ]
    },
    {
     "name": "stdout",
     "output_type": "stream",
     "text": [
      "[Epoch 5/50] total_loss=1.2117\n"
     ]
    },
    {
     "name": "stderr",
     "output_type": "stream",
     "text": [
      "                 Class     Images  Instances      Box(P          R      mAP50  mAP50-95): 100%|██████████| 161/161 [00:23<00:00,  6.74it/s]\n"
     ]
    },
    {
     "name": "stdout",
     "output_type": "stream",
     "text": [
      "                   all       1288      12515      0.832      0.595      0.696      0.365\n",
      "\n",
      "      Epoch    GPU_mem   box_loss   cls_loss   dfl_loss  Instances       Size\n"
     ]
    },
    {
     "name": "stderr",
     "output_type": "stream",
     "text": [
      "       6/50       2.7G      1.568     0.9394      1.079         35        640: 100%|██████████| 2898/2898 [12:41<00:00,  3.81it/s]\n"
     ]
    },
    {
     "name": "stdout",
     "output_type": "stream",
     "text": [
      "[Epoch 6/50] total_loss=1.1953\n"
     ]
    },
    {
     "name": "stderr",
     "output_type": "stream",
     "text": [
      "                 Class     Images  Instances      Box(P          R      mAP50  mAP50-95): 100%|██████████| 161/161 [00:23<00:00,  6.73it/s]\n"
     ]
    },
    {
     "name": "stdout",
     "output_type": "stream",
     "text": [
      "                   all       1288      12515      0.829       0.61      0.707      0.366\n",
      "\n",
      "      Epoch    GPU_mem   box_loss   cls_loss   dfl_loss  Instances       Size\n"
     ]
    },
    {
     "name": "stderr",
     "output_type": "stream",
     "text": [
      "       7/50      1.76G      1.536     0.9086       1.07         30        640: 100%|██████████| 2898/2898 [13:10<00:00,  3.67it/s]\n"
     ]
    },
    {
     "name": "stdout",
     "output_type": "stream",
     "text": [
      "[Epoch 7/50] total_loss=1.1712\n"
     ]
    },
    {
     "name": "stderr",
     "output_type": "stream",
     "text": [
      "                 Class     Images  Instances      Box(P          R      mAP50  mAP50-95): 100%|██████████| 161/161 [00:24<00:00,  6.51it/s]\n"
     ]
    },
    {
     "name": "stdout",
     "output_type": "stream",
     "text": [
      "                   all       1288      12515      0.837      0.623      0.718      0.385\n",
      "\n",
      "      Epoch    GPU_mem   box_loss   cls_loss   dfl_loss  Instances       Size\n"
     ]
    },
    {
     "name": "stderr",
     "output_type": "stream",
     "text": [
      "       8/50      1.76G      1.522     0.8999      1.067         18        640: 100%|██████████| 2898/2898 [13:07<00:00,  3.68it/s]\n"
     ]
    },
    {
     "name": "stdout",
     "output_type": "stream",
     "text": [
      "[Epoch 8/50] total_loss=1.1630\n"
     ]
    },
    {
     "name": "stderr",
     "output_type": "stream",
     "text": [
      "                 Class     Images  Instances      Box(P          R      mAP50  mAP50-95): 100%|██████████| 161/161 [00:24<00:00,  6.54it/s]\n"
     ]
    },
    {
     "name": "stdout",
     "output_type": "stream",
     "text": [
      "                   all       1288      12515      0.842      0.624      0.727      0.389\n",
      "\n",
      "      Epoch    GPU_mem   box_loss   cls_loss   dfl_loss  Instances       Size\n"
     ]
    },
    {
     "name": "stderr",
     "output_type": "stream",
     "text": [
      "       9/50      1.76G      1.515     0.8752      1.063        128        640: 100%|██████████| 2898/2898 [13:03<00:00,  3.70it/s]\n"
     ]
    },
    {
     "name": "stdout",
     "output_type": "stream",
     "text": [
      "[Epoch 9/50] total_loss=1.1508\n"
     ]
    },
    {
     "name": "stderr",
     "output_type": "stream",
     "text": [
      "                 Class     Images  Instances      Box(P          R      mAP50  mAP50-95): 100%|██████████| 161/161 [00:24<00:00,  6.56it/s]\n"
     ]
    },
    {
     "name": "stdout",
     "output_type": "stream",
     "text": [
      "                   all       1288      12515      0.836      0.649      0.743      0.403\n",
      "\n",
      "      Epoch    GPU_mem   box_loss   cls_loss   dfl_loss  Instances       Size\n"
     ]
    },
    {
     "name": "stderr",
     "output_type": "stream",
     "text": [
      "      10/50      1.76G      1.501     0.8615      1.057         19        640: 100%|██████████| 2898/2898 [13:05<00:00,  3.69it/s]\n"
     ]
    },
    {
     "name": "stdout",
     "output_type": "stream",
     "text": [
      "[Epoch 10/50] total_loss=1.1397\n"
     ]
    },
    {
     "name": "stderr",
     "output_type": "stream",
     "text": [
      "                 Class     Images  Instances      Box(P          R      mAP50  mAP50-95): 100%|██████████| 161/161 [00:24<00:00,  6.54it/s]\n"
     ]
    },
    {
     "name": "stdout",
     "output_type": "stream",
     "text": [
      "                   all       1288      12515      0.835      0.635      0.733      0.396\n",
      "\n",
      "      Epoch    GPU_mem   box_loss   cls_loss   dfl_loss  Instances       Size\n"
     ]
    },
    {
     "name": "stderr",
     "output_type": "stream",
     "text": [
      "      11/50      1.76G      1.495     0.8576      1.054         37        640: 100%|██████████| 2898/2898 [13:03<00:00,  3.70it/s]\n"
     ]
    },
    {
     "name": "stdout",
     "output_type": "stream",
     "text": [
      "[Epoch 11/50] total_loss=1.1355\n"
     ]
    },
    {
     "name": "stderr",
     "output_type": "stream",
     "text": [
      "                 Class     Images  Instances      Box(P          R      mAP50  mAP50-95): 100%|██████████| 161/161 [00:24<00:00,  6.56it/s]\n"
     ]
    },
    {
     "name": "stdout",
     "output_type": "stream",
     "text": [
      "                   all       1288      12515      0.852      0.646      0.745      0.406\n",
      "\n",
      "      Epoch    GPU_mem   box_loss   cls_loss   dfl_loss  Instances       Size\n"
     ]
    },
    {
     "name": "stderr",
     "output_type": "stream",
     "text": [
      "      12/50      2.23G      1.493     0.8494      1.052         58        640: 100%|██████████| 2898/2898 [13:03<00:00,  3.70it/s]\n"
     ]
    },
    {
     "name": "stdout",
     "output_type": "stream",
     "text": [
      "[Epoch 12/50] total_loss=1.1315\n"
     ]
    },
    {
     "name": "stderr",
     "output_type": "stream",
     "text": [
      "                 Class     Images  Instances      Box(P          R      mAP50  mAP50-95): 100%|██████████| 161/161 [00:24<00:00,  6.57it/s]\n"
     ]
    },
    {
     "name": "stdout",
     "output_type": "stream",
     "text": [
      "                   all       1288      12515      0.847      0.656      0.754       0.41\n",
      "\n",
      "      Epoch    GPU_mem   box_loss   cls_loss   dfl_loss  Instances       Size\n"
     ]
    },
    {
     "name": "stderr",
     "output_type": "stream",
     "text": [
      "      13/50      1.59G       1.49     0.8457      1.052         12        640: 100%|██████████| 2898/2898 [13:03<00:00,  3.70it/s]\n"
     ]
    },
    {
     "name": "stdout",
     "output_type": "stream",
     "text": [
      "[Epoch 13/50] total_loss=1.1293\n"
     ]
    },
    {
     "name": "stderr",
     "output_type": "stream",
     "text": [
      "                 Class     Images  Instances      Box(P          R      mAP50  mAP50-95): 100%|██████████| 161/161 [00:24<00:00,  6.55it/s]\n"
     ]
    },
    {
     "name": "stdout",
     "output_type": "stream",
     "text": [
      "                   all       1288      12515      0.861       0.65      0.754      0.414\n",
      "\n",
      "      Epoch    GPU_mem   box_loss   cls_loss   dfl_loss  Instances       Size\n"
     ]
    },
    {
     "name": "stderr",
     "output_type": "stream",
     "text": [
      "      14/50      2.43G      1.478     0.8304      1.047        103        640: 100%|██████████| 2898/2898 [13:03<00:00,  3.70it/s]\n"
     ]
    },
    {
     "name": "stdout",
     "output_type": "stream",
     "text": [
      "[Epoch 14/50] total_loss=1.1186\n"
     ]
    },
    {
     "name": "stderr",
     "output_type": "stream",
     "text": [
      "                 Class     Images  Instances      Box(P          R      mAP50  mAP50-95): 100%|██████████| 161/161 [00:24<00:00,  6.67it/s]\n"
     ]
    },
    {
     "name": "stdout",
     "output_type": "stream",
     "text": [
      "                   all       1288      12515      0.861      0.657       0.76      0.416\n",
      "\n",
      "      Epoch    GPU_mem   box_loss   cls_loss   dfl_loss  Instances       Size\n"
     ]
    },
    {
     "name": "stderr",
     "output_type": "stream",
     "text": [
      "      15/50       2.6G      1.468     0.8224      1.045         31        640: 100%|██████████| 2898/2898 [13:03<00:00,  3.70it/s]\n"
     ]
    },
    {
     "name": "stdout",
     "output_type": "stream",
     "text": [
      "[Epoch 15/50] total_loss=1.1119\n"
     ]
    },
    {
     "name": "stderr",
     "output_type": "stream",
     "text": [
      "                 Class     Images  Instances      Box(P          R      mAP50  mAP50-95): 100%|██████████| 161/161 [00:24<00:00,  6.69it/s]\n"
     ]
    },
    {
     "name": "stdout",
     "output_type": "stream",
     "text": [
      "                   all       1288      12515      0.858      0.661      0.761      0.418\n",
      "\n",
      "      Epoch    GPU_mem   box_loss   cls_loss   dfl_loss  Instances       Size\n"
     ]
    },
    {
     "name": "stderr",
     "output_type": "stream",
     "text": [
      "      16/50      1.76G      1.454     0.8083       1.04         24        640: 100%|██████████| 2898/2898 [13:03<00:00,  3.70it/s]\n"
     ]
    },
    {
     "name": "stdout",
     "output_type": "stream",
     "text": [
      "[Epoch 16/50] total_loss=1.1007\n"
     ]
    },
    {
     "name": "stderr",
     "output_type": "stream",
     "text": [
      "                 Class     Images  Instances      Box(P          R      mAP50  mAP50-95): 100%|██████████| 161/161 [00:24<00:00,  6.59it/s]\n"
     ]
    },
    {
     "name": "stdout",
     "output_type": "stream",
     "text": [
      "                   all       1288      12515      0.851      0.655      0.755      0.413\n",
      "\n",
      "      Epoch    GPU_mem   box_loss   cls_loss   dfl_loss  Instances       Size\n"
     ]
    },
    {
     "name": "stderr",
     "output_type": "stream",
     "text": [
      "      17/50      1.76G      1.456      0.811      1.038        166        640: 100%|██████████| 2898/2898 [13:04<00:00,  3.70it/s]\n"
     ]
    },
    {
     "name": "stdout",
     "output_type": "stream",
     "text": [
      "[Epoch 17/50] total_loss=1.1015\n"
     ]
    },
    {
     "name": "stderr",
     "output_type": "stream",
     "text": [
      "                 Class     Images  Instances      Box(P          R      mAP50  mAP50-95): 100%|██████████| 161/161 [00:24<00:00,  6.52it/s]\n"
     ]
    },
    {
     "name": "stdout",
     "output_type": "stream",
     "text": [
      "                   all       1288      12515      0.855      0.672      0.767      0.424\n",
      "\n",
      "      Epoch    GPU_mem   box_loss   cls_loss   dfl_loss  Instances       Size\n"
     ]
    },
    {
     "name": "stderr",
     "output_type": "stream",
     "text": [
      "      18/50      3.15G      1.446     0.7978      1.037         45        640: 100%|██████████| 2898/2898 [13:13<00:00,  3.65it/s] \n"
     ]
    },
    {
     "name": "stdout",
     "output_type": "stream",
     "text": [
      "[Epoch 18/50] total_loss=1.0935\n"
     ]
    },
    {
     "name": "stderr",
     "output_type": "stream",
     "text": [
      "                 Class     Images  Instances      Box(P          R      mAP50  mAP50-95): 100%|██████████| 161/161 [00:24<00:00,  6.58it/s]\n"
     ]
    },
    {
     "name": "stdout",
     "output_type": "stream",
     "text": [
      "                   all       1288      12515      0.863      0.666      0.768      0.424\n",
      "\n",
      "      Epoch    GPU_mem   box_loss   cls_loss   dfl_loss  Instances       Size\n"
     ]
    },
    {
     "name": "stderr",
     "output_type": "stream",
     "text": [
      "      19/50      1.71G      1.444     0.7897      1.032         18        640: 100%|██████████| 2898/2898 [13:03<00:00,  3.70it/s]\n"
     ]
    },
    {
     "name": "stdout",
     "output_type": "stream",
     "text": [
      "[Epoch 19/50] total_loss=1.0887\n"
     ]
    },
    {
     "name": "stderr",
     "output_type": "stream",
     "text": [
      "                 Class     Images  Instances      Box(P          R      mAP50  mAP50-95): 100%|██████████| 161/161 [00:24<00:00,  6.57it/s]\n"
     ]
    },
    {
     "name": "stdout",
     "output_type": "stream",
     "text": [
      "                   all       1288      12515      0.862       0.67      0.774      0.428\n",
      "\n",
      "      Epoch    GPU_mem   box_loss   cls_loss   dfl_loss  Instances       Size\n"
     ]
    },
    {
     "name": "stderr",
     "output_type": "stream",
     "text": [
      "      20/50      3.33G      1.437     0.7863      1.038         58        640: 100%|██████████| 2898/2898 [13:11<00:00,  3.66it/s]\n"
     ]
    },
    {
     "name": "stdout",
     "output_type": "stream",
     "text": [
      "[Epoch 20/50] total_loss=1.0871\n"
     ]
    },
    {
     "name": "stderr",
     "output_type": "stream",
     "text": [
      "                 Class     Images  Instances      Box(P          R      mAP50  mAP50-95): 100%|██████████| 161/161 [00:24<00:00,  6.59it/s]\n"
     ]
    },
    {
     "name": "stdout",
     "output_type": "stream",
     "text": [
      "                   all       1288      12515      0.858      0.671      0.773      0.431\n",
      "\n",
      "      Epoch    GPU_mem   box_loss   cls_loss   dfl_loss  Instances       Size\n"
     ]
    },
    {
     "name": "stderr",
     "output_type": "stream",
     "text": [
      "      21/50      2.45G      1.434     0.7816       1.03         56        640: 100%|██████████| 2898/2898 [13:04<00:00,  3.70it/s]\n"
     ]
    },
    {
     "name": "stdout",
     "output_type": "stream",
     "text": [
      "[Epoch 21/50] total_loss=1.0820\n"
     ]
    },
    {
     "name": "stderr",
     "output_type": "stream",
     "text": [
      "                 Class     Images  Instances      Box(P          R      mAP50  mAP50-95): 100%|██████████| 161/161 [00:24<00:00,  6.59it/s]\n"
     ]
    },
    {
     "name": "stdout",
     "output_type": "stream",
     "text": [
      "                   all       1288      12515      0.857      0.679      0.777      0.433\n",
      "\n",
      "      Epoch    GPU_mem   box_loss   cls_loss   dfl_loss  Instances       Size\n"
     ]
    },
    {
     "name": "stderr",
     "output_type": "stream",
     "text": [
      "      22/50      1.97G       1.42     0.7685      1.027        105        640: 100%|██████████| 2898/2898 [13:01<00:00,  3.71it/s]\n"
     ]
    },
    {
     "name": "stdout",
     "output_type": "stream",
     "text": [
      "[Epoch 22/50] total_loss=1.0718\n"
     ]
    },
    {
     "name": "stderr",
     "output_type": "stream",
     "text": [
      "                 Class     Images  Instances      Box(P          R      mAP50  mAP50-95): 100%|██████████| 161/161 [00:24<00:00,  6.60it/s]\n"
     ]
    },
    {
     "name": "stdout",
     "output_type": "stream",
     "text": [
      "                   all       1288      12515      0.862      0.674      0.777      0.432\n",
      "\n",
      "      Epoch    GPU_mem   box_loss   cls_loss   dfl_loss  Instances       Size\n"
     ]
    },
    {
     "name": "stderr",
     "output_type": "stream",
     "text": [
      "      23/50      1.97G      1.418     0.7692      1.027         15        640: 100%|██████████| 2898/2898 [13:03<00:00,  3.70it/s]\n"
     ]
    },
    {
     "name": "stdout",
     "output_type": "stream",
     "text": [
      "[Epoch 23/50] total_loss=1.0712\n"
     ]
    },
    {
     "name": "stderr",
     "output_type": "stream",
     "text": [
      "                 Class     Images  Instances      Box(P          R      mAP50  mAP50-95): 100%|██████████| 161/161 [00:24<00:00,  6.61it/s]\n"
     ]
    },
    {
     "name": "stdout",
     "output_type": "stream",
     "text": [
      "                   all       1288      12515       0.86      0.672      0.774      0.431\n",
      "\n",
      "      Epoch    GPU_mem   box_loss   cls_loss   dfl_loss  Instances       Size\n"
     ]
    },
    {
     "name": "stderr",
     "output_type": "stream",
     "text": [
      "      24/50      1.97G      1.412     0.7571      1.023         15        640: 100%|██████████| 2898/2898 [13:03<00:00,  3.70it/s]\n"
     ]
    },
    {
     "name": "stdout",
     "output_type": "stream",
     "text": [
      "[Epoch 24/50] total_loss=1.0640\n"
     ]
    },
    {
     "name": "stderr",
     "output_type": "stream",
     "text": [
      "                 Class     Images  Instances      Box(P          R      mAP50  mAP50-95): 100%|██████████| 161/161 [00:24<00:00,  6.63it/s]\n"
     ]
    },
    {
     "name": "stdout",
     "output_type": "stream",
     "text": [
      "                   all       1288      12515      0.862       0.68      0.782      0.438\n",
      "\n",
      "      Epoch    GPU_mem   box_loss   cls_loss   dfl_loss  Instances       Size\n"
     ]
    },
    {
     "name": "stderr",
     "output_type": "stream",
     "text": [
      "      25/50      1.97G      1.414     0.7595      1.025         55        640: 100%|██████████| 2898/2898 [13:02<00:00,  3.70it/s]\n"
     ]
    },
    {
     "name": "stdout",
     "output_type": "stream",
     "text": [
      "[Epoch 25/50] total_loss=1.0663\n"
     ]
    },
    {
     "name": "stderr",
     "output_type": "stream",
     "text": [
      "                 Class     Images  Instances      Box(P          R      mAP50  mAP50-95): 100%|██████████| 161/161 [00:24<00:00,  6.56it/s]\n"
     ]
    },
    {
     "name": "stdout",
     "output_type": "stream",
     "text": [
      "                   all       1288      12515      0.864      0.679      0.781      0.438\n",
      "\n",
      "      Epoch    GPU_mem   box_loss   cls_loss   dfl_loss  Instances       Size\n"
     ]
    },
    {
     "name": "stderr",
     "output_type": "stream",
     "text": [
      "      26/50      1.97G      1.409     0.7567      1.023         33        640: 100%|██████████| 2898/2898 [13:04<00:00,  3.70it/s]\n"
     ]
    },
    {
     "name": "stdout",
     "output_type": "stream",
     "text": [
      "[Epoch 26/50] total_loss=1.0631\n"
     ]
    },
    {
     "name": "stderr",
     "output_type": "stream",
     "text": [
      "                 Class     Images  Instances      Box(P          R      mAP50  mAP50-95): 100%|██████████| 161/161 [00:24<00:00,  6.58it/s]\n"
     ]
    },
    {
     "name": "stdout",
     "output_type": "stream",
     "text": [
      "                   all       1288      12515      0.864      0.687      0.789      0.441\n",
      "\n",
      "      Epoch    GPU_mem   box_loss   cls_loss   dfl_loss  Instances       Size\n"
     ]
    },
    {
     "name": "stderr",
     "output_type": "stream",
     "text": [
      "      27/50      1.97G        1.4     0.7459      1.022         32        640: 100%|██████████| 2898/2898 [13:02<00:00,  3.70it/s]\n"
     ]
    },
    {
     "name": "stdout",
     "output_type": "stream",
     "text": [
      "[Epoch 27/50] total_loss=1.0562\n"
     ]
    },
    {
     "name": "stderr",
     "output_type": "stream",
     "text": [
      "                 Class     Images  Instances      Box(P          R      mAP50  mAP50-95): 100%|██████████| 161/161 [00:24<00:00,  6.62it/s]\n"
     ]
    },
    {
     "name": "stdout",
     "output_type": "stream",
     "text": [
      "                   all       1288      12515      0.866      0.681      0.785      0.442\n",
      "\n",
      "      Epoch    GPU_mem   box_loss   cls_loss   dfl_loss  Instances       Size\n"
     ]
    },
    {
     "name": "stderr",
     "output_type": "stream",
     "text": [
      "      28/50      1.97G      1.406     0.7491      1.018         71        640: 100%|██████████| 2898/2898 [13:03<00:00,  3.70it/s]\n"
     ]
    },
    {
     "name": "stdout",
     "output_type": "stream",
     "text": [
      "[Epoch 28/50] total_loss=1.0576\n"
     ]
    },
    {
     "name": "stderr",
     "output_type": "stream",
     "text": [
      "                 Class     Images  Instances      Box(P          R      mAP50  mAP50-95): 100%|██████████| 161/161 [00:24<00:00,  6.61it/s]\n"
     ]
    },
    {
     "name": "stdout",
     "output_type": "stream",
     "text": [
      "                   all       1288      12515      0.873      0.683      0.788      0.444\n",
      "\n",
      "      Epoch    GPU_mem   box_loss   cls_loss   dfl_loss  Instances       Size\n"
     ]
    },
    {
     "name": "stderr",
     "output_type": "stream",
     "text": [
      "      29/50      1.97G      1.403     0.7415      1.018         14        640: 100%|██████████| 2898/2898 [13:03<00:00,  3.70it/s]\n"
     ]
    },
    {
     "name": "stdout",
     "output_type": "stream",
     "text": [
      "[Epoch 29/50] total_loss=1.0541\n"
     ]
    },
    {
     "name": "stderr",
     "output_type": "stream",
     "text": [
      "                 Class     Images  Instances      Box(P          R      mAP50  mAP50-95): 100%|██████████| 161/161 [00:24<00:00,  6.63it/s]\n"
     ]
    },
    {
     "name": "stdout",
     "output_type": "stream",
     "text": [
      "                   all       1288      12515      0.867      0.686      0.789      0.446\n",
      "\n",
      "      Epoch    GPU_mem   box_loss   cls_loss   dfl_loss  Instances       Size\n"
     ]
    },
    {
     "name": "stderr",
     "output_type": "stream",
     "text": [
      "      30/50      1.97G      1.388     0.7341      1.015         22        640: 100%|██████████| 2898/2898 [13:03<00:00,  3.70it/s]\n"
     ]
    },
    {
     "name": "stdout",
     "output_type": "stream",
     "text": [
      "[Epoch 30/50] total_loss=1.0456\n"
     ]
    },
    {
     "name": "stderr",
     "output_type": "stream",
     "text": [
      "                 Class     Images  Instances      Box(P          R      mAP50  mAP50-95): 100%|██████████| 161/161 [00:24<00:00,  6.61it/s]\n"
     ]
    },
    {
     "name": "stdout",
     "output_type": "stream",
     "text": [
      "                   all       1288      12515      0.873      0.681      0.788      0.443\n",
      "\n",
      "      Epoch    GPU_mem   box_loss   cls_loss   dfl_loss  Instances       Size\n"
     ]
    },
    {
     "name": "stderr",
     "output_type": "stream",
     "text": [
      "      31/50      1.97G      1.391     0.7288      1.014         55        640: 100%|██████████| 2898/2898 [13:04<00:00,  3.69it/s]\n"
     ]
    },
    {
     "name": "stdout",
     "output_type": "stream",
     "text": [
      "[Epoch 31/50] total_loss=1.0446\n"
     ]
    },
    {
     "name": "stderr",
     "output_type": "stream",
     "text": [
      "                 Class     Images  Instances      Box(P          R      mAP50  mAP50-95): 100%|██████████| 161/161 [00:24<00:00,  6.64it/s]\n"
     ]
    },
    {
     "name": "stdout",
     "output_type": "stream",
     "text": [
      "                   all       1288      12515      0.863       0.69      0.788      0.446\n",
      "\n",
      "      Epoch    GPU_mem   box_loss   cls_loss   dfl_loss  Instances       Size\n"
     ]
    },
    {
     "name": "stderr",
     "output_type": "stream",
     "text": [
      "      32/50      1.97G      1.385     0.7263      1.016         52        640: 100%|██████████| 2898/2898 [13:03<00:00,  3.70it/s]\n"
     ]
    },
    {
     "name": "stdout",
     "output_type": "stream",
     "text": [
      "[Epoch 32/50] total_loss=1.0423\n"
     ]
    },
    {
     "name": "stderr",
     "output_type": "stream",
     "text": [
      "                 Class     Images  Instances      Box(P          R      mAP50  mAP50-95): 100%|██████████| 161/161 [00:24<00:00,  6.63it/s]\n"
     ]
    },
    {
     "name": "stdout",
     "output_type": "stream",
     "text": [
      "                   all       1288      12515      0.867      0.685      0.789      0.448\n",
      "\n",
      "      Epoch    GPU_mem   box_loss   cls_loss   dfl_loss  Instances       Size\n"
     ]
    },
    {
     "name": "stderr",
     "output_type": "stream",
     "text": [
      "      33/50      1.97G      1.381     0.7188      1.011        158        640: 100%|██████████| 2898/2898 [13:03<00:00,  3.70it/s]\n"
     ]
    },
    {
     "name": "stdout",
     "output_type": "stream",
     "text": [
      "[Epoch 33/50] total_loss=1.0368\n"
     ]
    },
    {
     "name": "stderr",
     "output_type": "stream",
     "text": [
      "                 Class     Images  Instances      Box(P          R      mAP50  mAP50-95): 100%|██████████| 161/161 [00:24<00:00,  6.58it/s]\n"
     ]
    },
    {
     "name": "stdout",
     "output_type": "stream",
     "text": [
      "                   all       1288      12515      0.876      0.685      0.792      0.448\n",
      "\n",
      "      Epoch    GPU_mem   box_loss   cls_loss   dfl_loss  Instances       Size\n"
     ]
    },
    {
     "name": "stderr",
     "output_type": "stream",
     "text": [
      "      34/50      1.97G       1.38     0.7181       1.01         34        640: 100%|██████████| 2898/2898 [13:04<00:00,  3.69it/s]\n"
     ]
    },
    {
     "name": "stdout",
     "output_type": "stream",
     "text": [
      "[Epoch 34/50] total_loss=1.0360\n"
     ]
    },
    {
     "name": "stderr",
     "output_type": "stream",
     "text": [
      "                 Class     Images  Instances      Box(P          R      mAP50  mAP50-95): 100%|██████████| 161/161 [00:24<00:00,  6.61it/s]\n"
     ]
    },
    {
     "name": "stdout",
     "output_type": "stream",
     "text": [
      "                   all       1288      12515      0.866      0.691      0.793      0.447\n",
      "\n",
      "      Epoch    GPU_mem   box_loss   cls_loss   dfl_loss  Instances       Size\n"
     ]
    },
    {
     "name": "stderr",
     "output_type": "stream",
     "text": [
      "      35/50      1.97G      1.383     0.7204      1.011         46        640: 100%|██████████| 2898/2898 [13:04<00:00,  3.69it/s]\n"
     ]
    },
    {
     "name": "stdout",
     "output_type": "stream",
     "text": [
      "[Epoch 35/50] total_loss=1.0379\n"
     ]
    },
    {
     "name": "stderr",
     "output_type": "stream",
     "text": [
      "                 Class     Images  Instances      Box(P          R      mAP50  mAP50-95): 100%|██████████| 161/161 [00:24<00:00,  6.60it/s]\n"
     ]
    },
    {
     "name": "stdout",
     "output_type": "stream",
     "text": [
      "                   all       1288      12515      0.874       0.69      0.795      0.449\n",
      "\n",
      "      Epoch    GPU_mem   box_loss   cls_loss   dfl_loss  Instances       Size\n"
     ]
    },
    {
     "name": "stderr",
     "output_type": "stream",
     "text": [
      "      36/50      1.97G      1.372     0.7131      1.008         18        640: 100%|██████████| 2898/2898 [13:04<00:00,  3.70it/s]\n"
     ]
    },
    {
     "name": "stdout",
     "output_type": "stream",
     "text": [
      "[Epoch 36/50] total_loss=1.0311\n"
     ]
    },
    {
     "name": "stderr",
     "output_type": "stream",
     "text": [
      "                 Class     Images  Instances      Box(P          R      mAP50  mAP50-95): 100%|██████████| 161/161 [00:24<00:00,  6.61it/s]\n"
     ]
    },
    {
     "name": "stdout",
     "output_type": "stream",
     "text": [
      "                   all       1288      12515      0.872      0.692      0.794       0.45\n",
      "\n",
      "      Epoch    GPU_mem   box_loss   cls_loss   dfl_loss  Instances       Size\n"
     ]
    },
    {
     "name": "stderr",
     "output_type": "stream",
     "text": [
      "      37/50      1.97G      1.367     0.7057      1.006         13        640: 100%|██████████| 2898/2898 [13:04<00:00,  3.69it/s]\n"
     ]
    },
    {
     "name": "stdout",
     "output_type": "stream",
     "text": [
      "[Epoch 37/50] total_loss=1.0260\n"
     ]
    },
    {
     "name": "stderr",
     "output_type": "stream",
     "text": [
      "                 Class     Images  Instances      Box(P          R      mAP50  mAP50-95): 100%|██████████| 161/161 [00:24<00:00,  6.59it/s]"
     ]
    },
    {
     "name": "stdout",
     "output_type": "stream",
     "text": [
      "                   all       1288      12515      0.877      0.692      0.795      0.451\n"
     ]
    },
    {
     "name": "stderr",
     "output_type": "stream",
     "text": [
      "\n"
     ]
    },
    {
     "name": "stdout",
     "output_type": "stream",
     "text": [
      "\n",
      "      Epoch    GPU_mem   box_loss   cls_loss   dfl_loss  Instances       Size\n"
     ]
    },
    {
     "name": "stderr",
     "output_type": "stream",
     "text": [
      "      38/50      1.97G      1.362     0.6996      1.003         84        640: 100%|██████████| 2898/2898 [13:03<00:00,  3.70it/s]\n"
     ]
    },
    {
     "name": "stdout",
     "output_type": "stream",
     "text": [
      "[Epoch 38/50] total_loss=1.0216\n"
     ]
    },
    {
     "name": "stderr",
     "output_type": "stream",
     "text": [
      "                 Class     Images  Instances      Box(P          R      mAP50  mAP50-95): 100%|██████████| 161/161 [00:24<00:00,  6.62it/s]\n"
     ]
    },
    {
     "name": "stdout",
     "output_type": "stream",
     "text": [
      "                   all       1288      12515       0.87      0.693      0.795      0.451\n",
      "\n",
      "      Epoch    GPU_mem   box_loss   cls_loss   dfl_loss  Instances       Size\n"
     ]
    },
    {
     "name": "stderr",
     "output_type": "stream",
     "text": [
      "      39/50      1.97G      1.359     0.6997      1.003         24        640: 100%|██████████| 2898/2898 [13:03<00:00,  3.70it/s]\n"
     ]
    },
    {
     "name": "stdout",
     "output_type": "stream",
     "text": [
      "[Epoch 39/50] total_loss=1.0207\n"
     ]
    },
    {
     "name": "stderr",
     "output_type": "stream",
     "text": [
      "                 Class     Images  Instances      Box(P          R      mAP50  mAP50-95): 100%|██████████| 161/161 [00:24<00:00,  6.62it/s]\n"
     ]
    },
    {
     "name": "stdout",
     "output_type": "stream",
     "text": [
      "                   all       1288      12515      0.867      0.697      0.795      0.451\n",
      "\n",
      "      Epoch    GPU_mem   box_loss   cls_loss   dfl_loss  Instances       Size\n"
     ]
    },
    {
     "name": "stderr",
     "output_type": "stream",
     "text": [
      "      40/50      1.97G      1.367     0.6961      1.006        172        640: 100%|██████████| 2898/2898 [13:04<00:00,  3.69it/s]\n"
     ]
    },
    {
     "name": "stdout",
     "output_type": "stream",
     "text": [
      "[Epoch 40/50] total_loss=1.0228\n"
     ]
    },
    {
     "name": "stderr",
     "output_type": "stream",
     "text": [
      "                 Class     Images  Instances      Box(P          R      mAP50  mAP50-95): 100%|██████████| 161/161 [00:24<00:00,  6.59it/s]\n"
     ]
    },
    {
     "name": "stdout",
     "output_type": "stream",
     "text": [
      "                   all       1288      12515      0.875      0.695      0.799      0.453\n",
      "Closing dataloader mosaic\n",
      "\n",
      "      Epoch    GPU_mem   box_loss   cls_loss   dfl_loss  Instances       Size\n"
     ]
    },
    {
     "name": "stderr",
     "output_type": "stream",
     "text": [
      "      41/50      1.97G      1.322     0.6651       1.01         19        640: 100%|██████████| 2898/2898 [12:48<00:00,  3.77it/s]\n"
     ]
    },
    {
     "name": "stdout",
     "output_type": "stream",
     "text": [
      "[Epoch 41/50] total_loss=0.9991\n"
     ]
    },
    {
     "name": "stderr",
     "output_type": "stream",
     "text": [
      "                 Class     Images  Instances      Box(P          R      mAP50  mAP50-95): 100%|██████████| 161/161 [00:24<00:00,  6.55it/s]\n"
     ]
    },
    {
     "name": "stdout",
     "output_type": "stream",
     "text": [
      "                   all       1288      12515      0.871      0.692      0.795      0.452\n",
      "\n",
      "      Epoch    GPU_mem   box_loss   cls_loss   dfl_loss  Instances       Size\n"
     ]
    },
    {
     "name": "stderr",
     "output_type": "stream",
     "text": [
      "      42/50      1.97G      1.319     0.6566      1.009         73        640: 100%|██████████| 2898/2898 [12:50<00:00,  3.76it/s]\n"
     ]
    },
    {
     "name": "stdout",
     "output_type": "stream",
     "text": [
      "[Epoch 42/50] total_loss=0.9950\n"
     ]
    },
    {
     "name": "stderr",
     "output_type": "stream",
     "text": [
      "                 Class     Images  Instances      Box(P          R      mAP50  mAP50-95): 100%|██████████| 161/161 [00:24<00:00,  6.61it/s]\n"
     ]
    },
    {
     "name": "stdout",
     "output_type": "stream",
     "text": [
      "                   all       1288      12515      0.875      0.688      0.794       0.45\n",
      "\n",
      "      Epoch    GPU_mem   box_loss   cls_loss   dfl_loss  Instances       Size\n"
     ]
    },
    {
     "name": "stderr",
     "output_type": "stream",
     "text": [
      "      43/50      1.97G      1.319     0.6548      1.007         14        640: 100%|██████████| 2898/2898 [12:50<00:00,  3.76it/s]\n"
     ]
    },
    {
     "name": "stdout",
     "output_type": "stream",
     "text": [
      "[Epoch 43/50] total_loss=0.9935\n"
     ]
    },
    {
     "name": "stderr",
     "output_type": "stream",
     "text": [
      "                 Class     Images  Instances      Box(P          R      mAP50  mAP50-95): 100%|██████████| 161/161 [00:24<00:00,  6.60it/s]\n"
     ]
    },
    {
     "name": "stdout",
     "output_type": "stream",
     "text": [
      "                   all       1288      12515      0.875      0.689      0.794      0.452\n",
      "\n",
      "      Epoch    GPU_mem   box_loss   cls_loss   dfl_loss  Instances       Size\n"
     ]
    },
    {
     "name": "stderr",
     "output_type": "stream",
     "text": [
      "      44/50      1.97G      1.312     0.6467      1.005         18        640: 100%|██████████| 2898/2898 [12:50<00:00,  3.76it/s]\n"
     ]
    },
    {
     "name": "stdout",
     "output_type": "stream",
     "text": [
      "[Epoch 44/50] total_loss=0.9878\n"
     ]
    },
    {
     "name": "stderr",
     "output_type": "stream",
     "text": [
      "                 Class     Images  Instances      Box(P          R      mAP50  mAP50-95): 100%|██████████| 161/161 [00:24<00:00,  6.56it/s]\n"
     ]
    },
    {
     "name": "stdout",
     "output_type": "stream",
     "text": [
      "                   all       1288      12515       0.87      0.695      0.796      0.452\n",
      "\n",
      "      Epoch    GPU_mem   box_loss   cls_loss   dfl_loss  Instances       Size\n"
     ]
    },
    {
     "name": "stderr",
     "output_type": "stream",
     "text": [
      "      45/50      1.97G      1.304     0.6394      1.002         20        640: 100%|██████████| 2898/2898 [12:40<00:00,  3.81it/s]\n"
     ]
    },
    {
     "name": "stdout",
     "output_type": "stream",
     "text": [
      "[Epoch 45/50] total_loss=0.9818\n"
     ]
    },
    {
     "name": "stderr",
     "output_type": "stream",
     "text": [
      "                 Class     Images  Instances      Box(P          R      mAP50  mAP50-95): 100%|██████████| 161/161 [00:24<00:00,  6.55it/s]\n"
     ]
    },
    {
     "name": "stdout",
     "output_type": "stream",
     "text": [
      "                   all       1288      12515      0.869      0.698      0.797      0.454\n",
      "\n",
      "      Epoch    GPU_mem   box_loss   cls_loss   dfl_loss  Instances       Size\n"
     ]
    },
    {
     "name": "stderr",
     "output_type": "stream",
     "text": [
      "      46/50      1.97G      1.298     0.6343          1         32        640: 100%|██████████| 2898/2898 [13:21<00:00,  3.62it/s] \n"
     ]
    },
    {
     "name": "stdout",
     "output_type": "stream",
     "text": [
      "[Epoch 46/50] total_loss=0.9774\n"
     ]
    },
    {
     "name": "stderr",
     "output_type": "stream",
     "text": [
      "                 Class     Images  Instances      Box(P          R      mAP50  mAP50-95): 100%|██████████| 161/161 [00:24<00:00,  6.59it/s]\n"
     ]
    },
    {
     "name": "stdout",
     "output_type": "stream",
     "text": [
      "                   all       1288      12515      0.869      0.698      0.797      0.453\n",
      "\n",
      "      Epoch    GPU_mem   box_loss   cls_loss   dfl_loss  Instances       Size\n"
     ]
    },
    {
     "name": "stderr",
     "output_type": "stream",
     "text": [
      "      47/50      1.97G      1.302     0.6351      1.002         24        640: 100%|██████████| 2898/2898 [12:48<00:00,  3.77it/s]\n"
     ]
    },
    {
     "name": "stdout",
     "output_type": "stream",
     "text": [
      "[Epoch 47/50] total_loss=0.9798\n"
     ]
    },
    {
     "name": "stderr",
     "output_type": "stream",
     "text": [
      "                 Class     Images  Instances      Box(P          R      mAP50  mAP50-95): 100%|██████████| 161/161 [00:24<00:00,  6.62it/s]\n"
     ]
    },
    {
     "name": "stdout",
     "output_type": "stream",
     "text": [
      "                   all       1288      12515      0.871      0.699      0.799      0.455\n",
      "\n",
      "      Epoch    GPU_mem   box_loss   cls_loss   dfl_loss  Instances       Size\n"
     ]
    },
    {
     "name": "stderr",
     "output_type": "stream",
     "text": [
      "      48/50      1.97G        1.3     0.6323     0.9992         19        640: 100%|██████████| 2898/2898 [12:48<00:00,  3.77it/s]\n"
     ]
    },
    {
     "name": "stdout",
     "output_type": "stream",
     "text": [
      "[Epoch 48/50] total_loss=0.9773\n"
     ]
    },
    {
     "name": "stderr",
     "output_type": "stream",
     "text": [
      "                 Class     Images  Instances      Box(P          R      mAP50  mAP50-95): 100%|██████████| 161/161 [00:24<00:00,  6.63it/s]\n"
     ]
    },
    {
     "name": "stdout",
     "output_type": "stream",
     "text": [
      "                   all       1288      12515      0.876      0.699      0.799      0.455\n",
      "\n",
      "      Epoch    GPU_mem   box_loss   cls_loss   dfl_loss  Instances       Size\n"
     ]
    },
    {
     "name": "stderr",
     "output_type": "stream",
     "text": [
      "      49/50      1.97G      1.292      0.628     0.9984         28        640: 100%|██████████| 2898/2898 [12:51<00:00,  3.76it/s]\n"
     ]
    },
    {
     "name": "stdout",
     "output_type": "stream",
     "text": [
      "[Epoch 49/50] total_loss=0.9728\n"
     ]
    },
    {
     "name": "stderr",
     "output_type": "stream",
     "text": [
      "                 Class     Images  Instances      Box(P          R      mAP50  mAP50-95): 100%|██████████| 161/161 [00:24<00:00,  6.59it/s]\n"
     ]
    },
    {
     "name": "stdout",
     "output_type": "stream",
     "text": [
      "                   all       1288      12515      0.871      0.701      0.798      0.455\n",
      "\n",
      "      Epoch    GPU_mem   box_loss   cls_loss   dfl_loss  Instances       Size\n"
     ]
    },
    {
     "name": "stderr",
     "output_type": "stream",
     "text": [
      "      50/50      1.97G      1.288     0.6201     0.9954        290        640: 100%|██████████| 2898/2898 [12:51<00:00,  3.76it/s]\n"
     ]
    },
    {
     "name": "stdout",
     "output_type": "stream",
     "text": [
      "[Epoch 50/50] total_loss=0.9677\n"
     ]
    },
    {
     "name": "stderr",
     "output_type": "stream",
     "text": [
      "                 Class     Images  Instances      Box(P          R      mAP50  mAP50-95): 100%|██████████| 161/161 [00:24<00:00,  6.59it/s]\n"
     ]
    },
    {
     "name": "stdout",
     "output_type": "stream",
     "text": [
      "                   all       1288      12515      0.871      0.698      0.799      0.455\n",
      "\n",
      "50 epochs completed in 11.218 hours.\n",
      "Optimizer stripped from runs_widerface_split\\yolov8n_faces_640\\weights\\last.pt, 6.2MB\n",
      "Optimizer stripped from runs_widerface_split\\yolov8n_faces_640\\weights\\best.pt, 6.2MB\n",
      "\n",
      "Validating runs_widerface_split\\yolov8n_faces_640\\weights\\best.pt...\n",
      "Ultralytics 8.3.175  Python-3.10.11 torch-2.5.1+cu121 CUDA:0 (NVIDIA GeForce GTX 1050 Ti, 4096MiB)\n",
      "Model summary (fused): 72 layers, 3,005,843 parameters, 0 gradients, 8.1 GFLOPs\n"
     ]
    },
    {
     "name": "stderr",
     "output_type": "stream",
     "text": [
      "                 Class     Images  Instances      Box(P          R      mAP50  mAP50-95): 100%|██████████| 161/161 [00:21<00:00,  7.36it/s]\n"
     ]
    },
    {
     "name": "stdout",
     "output_type": "stream",
     "text": [
      "                   all       1288      12515      0.876      0.699      0.799      0.455\n",
      "Speed: 0.3ms preprocess, 6.5ms inference, 0.0ms loss, 1.4ms postprocess per image\n",
      "Results saved to \u001b[1mruns_widerface_split\\yolov8n_faces_640\u001b[0m\n",
      "[Training] Done.\n",
      "Best weights: runs_widerface_split/yolov8n_faces_640/weights/best.pt\n",
      "\n",
      "[Validate] Running validation on val split...\n",
      "Ultralytics 8.3.175  Python-3.10.11 torch-2.5.1+cu121 CUDA:0 (NVIDIA GeForce GTX 1050 Ti, 4096MiB)\n",
      "Model summary (fused): 72 layers, 3,005,843 parameters, 0 gradients, 8.1 GFLOPs\n",
      "\u001b[34m\u001b[1mval: \u001b[0mFast image access  (ping: 0.00.0 ms, read: 968.5286.3 MB/s, size: 116.2 KB)\n"
     ]
    },
    {
     "name": "stderr",
     "output_type": "stream",
     "text": [
      "\u001b[34m\u001b[1mval: \u001b[0mScanning D:\\sangita-mam\\assignment-07\\widerface_yolo\\labels\\val.cache... 1288 images, 2 backgrounds, 0 corrupt: 100%|██████████| 1288/1288 [00:00<?, ?it/s]"
     ]
    },
    {
     "name": "stdout",
     "output_type": "stream",
     "text": [
      "\u001b[34m\u001b[1mval: \u001b[0mD:\\sangita-mam\\assignment-07\\widerface_yolo\\images\\val\\2_Demonstration_Protesters_2_231.jpg: 1 duplicate labels removed\n"
     ]
    },
    {
     "name": "stderr",
     "output_type": "stream",
     "text": [
      "\n",
      "                 Class     Images  Instances      Box(P          R      mAP50  mAP50-95): 100%|██████████| 81/81 [00:21<00:00,  3.80it/s]\n"
     ]
    },
    {
     "name": "stdout",
     "output_type": "stream",
     "text": [
      "                   all       1288      12515      0.876      0.699        0.8      0.457\n",
      "Speed: 0.3ms preprocess, 6.4ms inference, 0.0ms loss, 1.2ms postprocess per image\n",
      "Results saved to \u001b[1mruns\\detect\\val\u001b[0m\n",
      "[Predict] Saving 20 annotated validation images...\n",
      "\n",
      "0: 640x640 1 face, 7.9ms\n",
      "1: 640x640 1 face, 7.9ms\n",
      "2: 640x640 1 face, 7.9ms\n",
      "3: 640x640 5 faces, 7.9ms\n",
      "4: 640x640 3 faces, 7.9ms\n",
      "5: 640x640 6 faces, 7.9ms\n",
      "6: 640x640 135 faces, 7.9ms\n",
      "7: 640x640 5 faces, 7.9ms\n",
      "8: 640x640 1 face, 7.9ms\n",
      "9: 640x640 2 faces, 7.9ms\n",
      "10: 640x640 4 faces, 7.9ms\n",
      "11: 640x640 136 faces, 7.9ms\n",
      "12: 640x640 1 face, 7.9ms\n",
      "13: 640x640 2 faces, 7.9ms\n",
      "14: 640x640 2 faces, 7.9ms\n",
      "15: 640x640 4 faces, 7.9ms\n",
      "16: 640x640 1 face, 7.9ms\n",
      "17: 640x640 6 faces, 7.9ms\n",
      "18: 640x640 4 faces, 7.9ms\n",
      "19: 640x640 2 faces, 7.9ms\n",
      "Speed: 3.2ms preprocess, 7.9ms inference, 2.2ms postprocess per image at shape (1, 3, 640, 640)\n",
      "Results saved to \u001b[1mruns_widerface_split\\val_samples\u001b[0m\n",
      "Annotated samples saved to: runs_widerface_split/val_samples/\n",
      "\n",
      "All done. YOLO dataset root: D:\\sangita-mam\\assignment-07\\widerface_yolo\n"
     ]
    }
   ],
   "source": [
    "\n",
    "if __name__ == \"__main__\":\n",
    "    # 0) Quick sanity checks\n",
    "    assert (WIDER_ROOT / \"WIDER_train\" / \"images\").exists(), \\\n",
    "        f\"Missing: {WIDER_ROOT}/WIDER_train/images\"\n",
    "    assert (WIDER_ROOT / \"wider_face_split\" / \"wider_face_train_bbx_gt.txt\").exists(), \\\n",
    "        f\"Missing: {WIDER_ROOT}/wider_face_split/wider_face_train_bbx_gt.txt\"\n",
    "\n",
    "    # 1) Make output dirs\n",
    "    ensure_dirs()\n",
    "\n",
    "    # 2) Read list of WIDER_train images from the annotation file\n",
    "    all_train_images = read_wider_train_list(WIDER_ROOT)\n",
    "    print(f\"Found {len(all_train_images)} training images listed in WIDER FACE.\")\n",
    "\n",
    "    # 3) Split into train/val\n",
    "    train_list, val_list = split_list(all_train_images, VAL_FRACTION, seed=123)\n",
    "    print(f\"Split -> train: {len(train_list)}, val: {len(val_list)}\")\n",
    "\n",
    "    # 4) Convert and copy for train and val\n",
    "    convert_and_write_labels_for_split(WIDER_ROOT, train_list, \"train\")\n",
    "    convert_and_write_labels_for_split(WIDER_ROOT, val_list, \"val\")\n",
    "\n",
    "    # 5) Write dataset YAML\n",
    "    yaml_path = write_dataset_yaml()\n",
    "    print(f\"Dataset YAML written to: {yaml_path}\")\n",
    "\n",
    "    # 6) Train\n",
    "    results = train_yolov8(yaml_path)\n",
    "    # Locate best weights across Ultralytics versions\n",
    "    try:\n",
    "        best_weights = results.best  # Ultralytics >=8.1 returns path in .best\n",
    "    except Exception:\n",
    "        exp_dir = Path(getattr(results, \"save_dir\", \"runs_widerface_split\"))\n",
    "        cand = list((exp_dir / \"weights\").glob(\"best*.pt\"))\n",
    "        if not cand:\n",
    "            # try searching all subdirs of project\n",
    "            cand = list(Path(\"runs_widerface_split\").rglob(\"best*.pt\"))\n",
    "        best_weights = cand[0].as_posix() if cand else None\n",
    "    print(f\"Best weights: {best_weights}\")\n",
    "\n",
    "    # 7) Validate & save example predictions on val images\n",
    "    if best_weights is not None:\n",
    "        validate_and_sample(best_weights, yaml_path, n_samples=20)\n",
    "    else:\n",
    "        print(\"WARNING: best weights not found; skipping prediction.\")\n",
    "\n",
    "    print(\"\\nAll done. YOLO dataset root:\", YOLO_ROOT.resolve())\n"
   ]
  },
  {
   "cell_type": "code",
   "execution_count": null,
   "id": "86ecd575",
   "metadata": {},
   "outputs": [],
   "source": []
  }
 ],
 "metadata": {
  "kernelspec": {
   "display_name": "venv",
   "language": "python",
   "name": "python3"
  },
  "language_info": {
   "codemirror_mode": {
    "name": "ipython",
    "version": 3
   },
   "file_extension": ".py",
   "mimetype": "text/x-python",
   "name": "python",
   "nbconvert_exporter": "python",
   "pygments_lexer": "ipython3",
   "version": "3.10.11"
  }
 },
 "nbformat": 4,
 "nbformat_minor": 5
}
